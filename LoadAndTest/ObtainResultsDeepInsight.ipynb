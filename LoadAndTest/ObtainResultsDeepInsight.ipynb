{
  "nbformat": 4,
  "nbformat_minor": 0,
  "metadata": {
    "colab": {
      "provenance": [],
      "toc_visible": true
    },
    "kernelspec": {
      "name": "python3",
      "display_name": "Python 3"
    },
    "language_info": {
      "name": "python"
    }
  },
  "cells": [
    {
      "cell_type": "markdown",
      "metadata": {
        "id": "Us1aJT92Ktdb"
      },
      "source": [
        "# Scrip to load boxplot images"
      ]
    },
    {
      "cell_type": "markdown",
      "metadata": {
        "id": "7rNXMGV7GVBd"
      },
      "source": [
        "## Imports"
      ]
    },
    {
      "cell_type": "code",
      "execution_count": null,
      "metadata": {
        "id": "h4ObiYNpMfGW"
      },
      "outputs": [],
      "source": [
        "from IPython.display import clear_output\n",
        "!pip install sktime\n",
        "clear_output()"
      ]
    },
    {
      "cell_type": "code",
      "execution_count": null,
      "metadata": {
        "id": "Z4SrxJlTGbj7"
      },
      "outputs": [],
      "source": [
        "import glob\n",
        "import matplotlib.pyplot as plt\n",
        "import matplotlib.image as mpimg\n",
        "import imageio\n",
        "import cv2\n",
        "import pandas as pd\n",
        "import numpy as np\n",
        "import tensorflow as tf\n",
        "import re \n",
        "import math\n",
        "import gc\n",
        "\n",
        "from pathlib import Path \n",
        "from zipfile import ZipFile\n",
        "from PIL import Image\n",
        "from sktime.datasets import load_from_tsfile_to_dataframe\n",
        "from sklearn.model_selection import KFold\n",
        "\n",
        "from keras.models import Sequential\n",
        "from keras.layers import Conv2D, MaxPool2D, MaxPooling2D, Flatten, Dense, InputLayer, BatchNormalization, Dropout\n",
        "from keras.utils import np_utils\n",
        "from keras.callbacks import EarlyStopping\n",
        "from keras.preprocessing.image import ImageDataGenerator\n",
        "from tensorflow import keras"
      ]
    },
    {
      "cell_type": "markdown",
      "metadata": {
        "id": "NI6q1ETnGXBl"
      },
      "source": [
        "## Functions"
      ]
    },
    {
      "cell_type": "code",
      "execution_count": null,
      "metadata": {
        "id": "Gq1ZPiFsGpp9"
      },
      "outputs": [],
      "source": [
        "def pureBlackAndWhiteImageArrayUpdated( imageArray, normalized = True):\n",
        "  aux = imageArray != 0\n",
        "  result = aux.astype(\"uint8\")[:,:,:1]\n",
        "  return result if normalized else (result*255)"
      ]
    },
    {
      "cell_type": "code",
      "execution_count": null,
      "metadata": {
        "id": "QbfsPGXLOl8h"
      },
      "outputs": [],
      "source": [
        "def array2img ( array, mode = \"L\" ):\n",
        "    \"\"\"\n",
        "    @brief Convert a Matplotlib figure to a PIL Image in RGBA format and return it\n",
        "    @param fig a matplotlib figure\n",
        "    @return a Python Imaging Library ( PIL ) image\n",
        "    \"\"\"\n",
        "    # put the figure pixmap into a numpy array\n",
        "    h, w, d = array.shape\n",
        "    return Image.frombytes( mode, ( w, h ), array.tobytes( ) )"
      ]
    },
    {
      "cell_type": "code",
      "execution_count": null,
      "metadata": {
        "id": "jJBap9i6O2az"
      },
      "outputs": [],
      "source": [
        "def displayImageUniqueValuesMore ( imageArray ):\n",
        "\n",
        "  print(\"ImageArray Shape:\" , imageArray.shape)\n",
        "  img2 = imageArray.reshape(-1, imageArray.shape[2]) # reshape the original image into -1, 3; -1 is placeholder, so lets say you have a \n",
        "                                                    # numpy array with shape (6,2), if you reshape it to (-1, 3), we know the second dim = 3\n",
        "                                                    # first dim = (6*2)/3 = 4, so -1 is replaced with 4\n",
        "  print(\"ImageReshape Shape:\", img2.shape)\n",
        "\n",
        "  counter = np.unique(img2, axis=0) # find unique elemenst\n",
        "  '''\n",
        "  numpy.unique(ar, return_index=False, return_inverse=False, return_counts=False, axis=None)[source]\n",
        "  Find the unique elements of an array.\n",
        "\n",
        "  Returns the sorted unique elements of an array. There are three optional outputs in addition to the unique elements:\n",
        "\n",
        "  the indices of the input array that give the unique values\n",
        "  the indices of the unique array that reconstruct the input array\n",
        "  the number of times each unique value comes up in the input array\n",
        "  '''\n",
        "  #print(\"Array of pixels combinations:\\n\", counter)\n",
        "  print(\"Shape of array\", counter.shape) # as, we have separate axis, so the channels are shown in dim 2\n",
        "  print(\"how many pixels:\", counter.shape[0], \"or\", len(set(imageArray.flatten())))\n",
        "  \n",
        "  #binArray=np.bincount(counter.flatten())\n",
        "  count = 0\n",
        "  for value in counter:\n",
        "    print(\"Value: \", value, \"| Occurrences:\", (img2 == value).sum())\n",
        "    count =+ 1\n",
        "  "
      ]
    },
    {
      "cell_type": "code",
      "source": [
        "def get_order(file):\n",
        "    match = re.compile(r'.*?(\\d+).*?').match(Path(file).name)\n",
        "    if not match:\n",
        "        return math.inf\n",
        "    return int(match.groups()[0])"
      ],
      "metadata": {
        "id": "QZNrzwlgoLuG"
      },
      "execution_count": null,
      "outputs": []
    },
    {
      "cell_type": "markdown",
      "metadata": {
        "id": "KhSJS8SNL2un"
      },
      "source": [
        "## Run code"
      ]
    },
    {
      "cell_type": "markdown",
      "metadata": {
        "id": "8XYvQxV91I75"
      },
      "source": [
        "### Configs"
      ]
    },
    {
      "cell_type": "code",
      "execution_count": null,
      "metadata": {
        "colab": {
          "base_uri": "https://localhost:8080/"
        },
        "id": "jY1TvmGdRJdz",
        "outputId": "d2a0be20-d04b-44ff-c97e-822c4b07585c"
      },
      "outputs": [
        {
          "output_type": "stream",
          "name": "stdout",
          "text": [
            "Drive already mounted at /content/drive; to attempt to forcibly remount, call drive.mount(\"/content/drive\", force_remount=True).\n"
          ]
        }
      ],
      "source": [
        "from google.colab import drive\n",
        "# drive.flush_and_unmount()\n",
        "drive.mount('/content/drive')"
      ]
    },
    {
      "cell_type": "code",
      "execution_count": null,
      "metadata": {
        "id": "DJ6g7mV3RLaT"
      },
      "outputs": [],
      "source": [
        "DATA_SET_NAMES = [\n",
        "\"ACSF1\",\n",
        "\"Adiac\",\n",
        "\"ArrowHead\",\n",
        "\"Beef\",\n",
        "\"BeetleFly\",\n",
        "\"BirdChicken\",\n",
        "\"BME\",\n",
        "\"Car\",\n",
        "\"CBF\",\n",
        "\"Chinatown\",\n",
        "\"ChlorineConcentration\",\n",
        "\"CinCECGTorso\",\n",
        "\"Coffee\",\n",
        "\"Computers\",\n",
        "\"Crop\",\n",
        "\"DiatomSizeReduction\",\n",
        "\"DistalPhalanxOutlineAgeGroup\",\n",
        "\"DistalPhalanxOutlineCorrect\",\n",
        "\"DistalPhalanxTW\",\n",
        "\"Earthquakes\",\n",
        "\"ECG200\",\n",
        "\"ECG5000\",\n",
        "\"ECGFiveDays\",\n",
        "\"ElectricDevices\",\n",
        "\"EthanolLevel\",\n",
        "\"FaceAll\",\n",
        "\"FaceFour\",\n",
        "\"FacesUCR\",\n",
        "\"FiftyWords\",\n",
        "\"Fish\",\n",
        "\"FordA\",\n",
        "\"FordB\",\n",
        "\"FreezerRegularTrain\",\n",
        "\"FreezerSmallTrain\",\n",
        "\"GunPoint\",\n",
        "\"GunPointAgeSpan\",\n",
        "\"GunPointMaleVersusFemale\",\n",
        "\"GunPointOldVersusYoung\",\n",
        "\"Ham\",\n",
        "\"Haptics\",\n",
        "\"Herring\",\n",
        "\"HouseTwenty\",\n",
        "\"InlineSkate\",\n",
        "\"InsectEPGRegularTrain\",\n",
        "\"InsectEPGSmallTrain\",\n",
        "\"ItalyPowerDemand\",\n",
        "\"LargeKitchenAppliances\",\n",
        "\"Lightning2\",\n",
        "\"Lightning7\",\n",
        "\"Mallat\",\n",
        "\"Meat\",\n",
        "\"MedicalImages\",\n",
        "\"MiddlePhalanxOutlineAgeGroup\",\n",
        "\"MiddlePhalanxOutlineCorrect\",\n",
        "\"MiddlePhalanxTW\",\n",
        "\"MixedShapesRegularTrain\",\n",
        "\"MixedShapesSmallTrain\",\n",
        "\"MoteStrain\",\n",
        "\"OliveOil\",\n",
        "\"OSULeaf\",\n",
        "\"PhalangesOutlinesCorrect\",\n",
        "\"Phoneme\",\n",
        "\"PigAirwayPressure\",\n",
        "\"PigArtPressure\",\n",
        "\"PigCVP\",\n",
        "\"Plane\",\n",
        "\"ProximalPhalanxOutlineAgeGroup\",\n",
        "\"ProximalPhalanxOutlineCorrect\",\n",
        "\"ProximalPhalanxTW\",\n",
        "\"RefrigerationDevices\",\n",
        "\"Rock\",\n",
        "\"ScreenType\",\n",
        "\"SemgHandGenderCh2\",\n",
        "\"SemgHandMovementCh2\",\n",
        "\"SemgHandSubjectCh2\",\n",
        "\"ShapeletSim\",\n",
        "\"ShapesAll\",\n",
        "\"SmallKitchenAppliances\",\n",
        "\"SmoothSubspace\",\n",
        "\"SonyAIBORobotSurface1\",\n",
        "\"SonyAIBORobotSurface2\",\n",
        "\"StarLightCurves\",\n",
        "\"Strawberry\",\n",
        "\"SwedishLeaf\",\n",
        "\"Symbols\",\n",
        "\"SyntheticControl\",\n",
        "\"ToeSegmentation1\",\n",
        "\"ToeSegmentation2\",\n",
        "\"Trace\",\n",
        "\"TwoLeadECG\",\n",
        "\"TwoPatterns\",\n",
        "\"UMD\",\n",
        "\"UWaveGestureLibraryAll\",\n",
        "\"Wafer\",\n",
        "\"Wine\",\n",
        "\"WordSynonyms\",\n",
        "\"Worms\",\n",
        "\"WormsTwoClass\",\n",
        "\"Yoga\"]"
      ]
    },
    {
      "cell_type": "code",
      "execution_count": null,
      "metadata": {
        "colab": {
          "base_uri": "https://localhost:8080/"
        },
        "id": "8ktgKArfr4CG",
        "outputId": "efcb53ef-921b-4124-f1f9-2668060a5a88"
      },
      "outputs": [
        {
          "output_type": "stream",
          "name": "stdout",
          "text": [
            "99\n"
          ]
        },
        {
          "output_type": "execute_result",
          "data": {
            "text/plain": [
              "40"
            ]
          },
          "metadata": {},
          "execution_count": 3
        }
      ],
      "source": [
        "print(len(DATA_SET_NAMES))\n",
        "index = DATA_SET_NAMES.index(\"Herring\")\n",
        "index"
      ]
    },
    {
      "cell_type": "code",
      "source": [
        "columns=['Dataset',\n",
        "         'Average: Acc','Average: Loss',\n",
        "         'Standard Deviation',\n",
        "         'batch_size', 'epochs']\n",
        "df_csv = pd.DataFrame(columns=columns)"
      ],
      "metadata": {
        "id": "3wa9PLPgTIvB"
      },
      "execution_count": null,
      "outputs": []
    },
    {
      "cell_type": "markdown",
      "source": [
        "### Import some data zipped"
      ],
      "metadata": {
        "id": "dt2FWTLWTpKA"
      }
    },
    {
      "cell_type": "code",
      "source": [
        "file_name = '/content/drive/MyDrive/DeepInsight.zip'\n",
        "\n",
        "with ZipFile(file_name, 'r') as zip:\n",
        "  zip.extractall()\n",
        "  print('Done')"
      ],
      "metadata": {
        "colab": {
          "base_uri": "https://localhost:8080/"
        },
        "id": "y84o_1A2fFMl",
        "outputId": "e8370630-1815-4fea-8de9-f179322ef39e"
      },
      "execution_count": null,
      "outputs": [
        {
          "output_type": "stream",
          "name": "stdout",
          "text": [
            "Done\n"
          ]
        }
      ]
    },
    {
      "cell_type": "markdown",
      "metadata": {
        "id": "KwV3R4M9NRGx"
      },
      "source": [
        "### Script"
      ]
    },
    {
      "cell_type": "code",
      "execution_count": null,
      "metadata": {
        "id": "ktGGvgCJLrkj"
      },
      "outputs": [],
      "source": [
        "#CHOOSE DATA SET NAME AND PATH OF FOLDER OF IMAGES\n",
        "name = \"ArrowHead\"\n",
        "normalized = False # IF WE WANT 0|1 or 0|255\n",
        "\n",
        "pathName = '/content/' + \"DeepInsight\"+ '/'\n",
        "\n",
        "_, train_y = load_from_tsfile_to_dataframe(\"drive/MyDrive/Tese/Univariate_ts/\" + name + \"/\" + name + \"_TRAIN.ts\")\n",
        "_, test_y = load_from_tsfile_to_dataframe(\"drive/MyDrive/Tese/Univariate_ts/\" + name + \"/\" + name + \"_TEST.ts\")\n",
        "\n",
        "train_x = np.empty((len(train_y), 50, 50, 3), dtype=np.uint8)\n",
        "test_x = np.empty((len(test_y), 50, 50, 3), dtype=np.uint8)\n",
        "\n",
        "trainOrTest = 'TRAIN'\n",
        "path = pathName + name + '/' + trainOrTest + '/' + '*.png*'\n",
        "\n",
        "  \n",
        "for i, img_path in enumerate(sorted(glob.glob(path), key=get_order)):\n",
        "  train_x[i] = cv2.imread(img_path)\n",
        "  #train_x[i] = pureBlackAndWhiteImageArrayUpdated(cv2.imread(img_path), normalized = normalized)\n",
        "\n",
        "trainOrTest = 'TEST'\n",
        "path = pathName + name + '/' + trainOrTest + '/' + '*.png*'\n",
        "\n",
        "for i, img_path in enumerate(sorted(glob.glob(path), key=get_order)):\n",
        "  test_x[i] = cv2.imread(img_path)\n",
        "  #test_x[i] = pureBlackAndWhiteImageArrayUpdated(cv2.imread(img_path), normalized = normalized)\n"
      ]
    },
    {
      "cell_type": "code",
      "source": [
        "train_x.nbytes"
      ],
      "metadata": {
        "colab": {
          "base_uri": "https://localhost:8080/"
        },
        "id": "s3dET2vdGOFD",
        "outputId": "b77be798-1152-4813-cb6e-936574326164"
      },
      "execution_count": null,
      "outputs": [
        {
          "output_type": "execute_result",
          "data": {
            "text/plain": [
              "270000"
            ]
          },
          "metadata": {},
          "execution_count": 36
        }
      ]
    },
    {
      "cell_type": "code",
      "source": [
        "test_x.nbytes"
      ],
      "metadata": {
        "colab": {
          "base_uri": "https://localhost:8080/"
        },
        "id": "9eq4jD6EFDQ0",
        "outputId": "4dd4bccf-2358-480f-d1c7-89c4a34aa5b5"
      },
      "execution_count": null,
      "outputs": [
        {
          "output_type": "execute_result",
          "data": {
            "text/plain": [
              "1312500"
            ]
          },
          "metadata": {},
          "execution_count": 37
        }
      ]
    },
    {
      "cell_type": "markdown",
      "source": [
        "**3 channels:**\n",
        "\n",
        "train_x.nbytes:\n",
        "2.687.385.600\n",
        "\n",
        "test_x.nbytes: \n",
        " 6.270.566.400\n",
        "\n",
        "**1 channels:**\n",
        "\n",
        "train_x.nbytes:\n",
        "895.795.200\n",
        "\n",
        "test_x.nbytes:\n",
        "2.090.188.800"
      ],
      "metadata": {
        "id": "wm21yA9FFF7C"
      }
    },
    {
      "cell_type": "markdown",
      "metadata": {
        "id": "gh166gghZ6Y8"
      },
      "source": [
        "#### Details of dataset"
      ]
    },
    {
      "cell_type": "code",
      "execution_count": null,
      "metadata": {
        "id": "tKL9KAINyWp4",
        "colab": {
          "base_uri": "https://localhost:8080/",
          "height": 35
        },
        "outputId": "8232d29c-aa11-4e21-c403-52bfe91cf199"
      },
      "outputs": [
        {
          "output_type": "execute_result",
          "data": {
            "text/plain": [
              "'ArrowHead'"
            ],
            "application/vnd.google.colaboratory.intrinsic+json": {
              "type": "string"
            }
          },
          "metadata": {},
          "execution_count": 38
        }
      ],
      "source": [
        "name"
      ]
    },
    {
      "cell_type": "code",
      "execution_count": null,
      "metadata": {
        "id": "5X5sdA6a0-7L",
        "colab": {
          "base_uri": "https://localhost:8080/"
        },
        "outputId": "a81089b6-9812-432d-d513-b17f192ee411"
      },
      "outputs": [
        {
          "output_type": "stream",
          "name": "stdout",
          "text": [
            "ImageArray Shape: (50, 50, 1)\n",
            "ImageReshape Shape: (2500, 1)\n",
            "Shape of array (2, 1)\n",
            "how many pixels: 2 or 2\n",
            "Value:  [0] | Occurrences: 2308\n",
            "Value:  [255] | Occurrences: 192\n"
          ]
        }
      ],
      "source": [
        "displayImageUniqueValuesMore(train_x[0])"
      ]
    },
    {
      "cell_type": "markdown",
      "source": [
        "![image.png](data:image/png;base64,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)"
      ],
      "metadata": {
        "id": "hzINJk1AKCvo"
      }
    },
    {
      "cell_type": "markdown",
      "source": [
        "![image.png](data:image/png;base64,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)"
      ],
      "metadata": {
        "id": "GDxbmPaDJSx9"
      }
    },
    {
      "cell_type": "code",
      "source": [
        "fig, ax = plt.subplots()\n",
        "ax.imshow(train_x[16])"
      ],
      "metadata": {
        "id": "jgdUSa9jJMwC",
        "colab": {
          "base_uri": "https://localhost:8080/",
          "height": 284
        },
        "outputId": "e9cf3b31-48ca-4134-9877-9469ab88fc95"
      },
      "execution_count": null,
      "outputs": [
        {
          "output_type": "execute_result",
          "data": {
            "text/plain": [
              "<matplotlib.image.AxesImage at 0x7fb6e9629810>"
            ]
          },
          "metadata": {},
          "execution_count": 74
        },
        {
          "output_type": "display_data",
          "data": {
            "text/plain": [
              "<Figure size 432x288 with 1 Axes>"
            ],
            "image/png": "[encoded data removed]"
          },
          "metadata": {
            "needs_background": "light"
          }
        }
      ]
    },
    {
      "cell_type": "code",
      "execution_count": null,
      "metadata": {
        "id": "hvcqqM0vU5HV",
        "colab": {
          "base_uri": "https://localhost:8080/",
          "height": 265
        },
        "outputId": "03a32a5c-5926-47e8-dd41-6520f0190e48"
      },
      "outputs": [
        {
          "output_type": "execute_result",
          "data": {
            "text/plain": [
              "<matplotlib.image.AxesImage at 0x7fb6e95f4f90>"
            ]
          },
          "metadata": {},
          "execution_count": 41
        },
        {
          "output_type": "display_data",
          "data": {
            "text/plain": [
              "<Figure size 432x288 with 1 Axes>"
            ],
            "image/png": "[encoded data removed]"
          },
          "metadata": {
            "needs_background": "light"
          }
        }
      ],
      "source": [
        "# image = array2img(train_x[0])\n",
        "# plt.axis('off')\n",
        "# plt.imshow(image)"
      ]
    },
    {
      "cell_type": "markdown",
      "metadata": {
        "id": "bRiSqd15wdp7"
      },
      "source": [
        "-----------"
      ]
    },
    {
      "cell_type": "markdown",
      "source": [
        "### TESTE\n",
        "\n"
      ],
      "metadata": {
        "id": "16m0aw2Envey"
      }
    },
    {
      "cell_type": "markdown",
      "source": [
        "#### Functions"
      ],
      "metadata": {
        "id": "GAct8l7vr3_N"
      }
    },
    {
      "cell_type": "code",
      "source": [
        "def get_model(width, height, channels):\n",
        "  model = Sequential()\n",
        "\n",
        "  model.add(Conv2D(16, (1, 1), activation='relu', input_shape=(width, height, channels)))\n",
        "  model.add(MaxPooling2D((2, 2)))\n",
        "  model.add(Conv2D(32, (1, 1), activation='relu'))\n",
        "  model.add(MaxPooling2D((2, 2)))\n",
        "  model.add(Conv2D(64, (1, 1), activation='relu'))\n",
        "\n",
        "  model.add(Flatten())\n",
        "\n",
        "  model.add(Dense(256, activation='relu'))\n",
        "  model.add(Dropout(0.7)) #Aumentar depois maybe o dropout\n",
        "  model.add(Dense(128, activation='relu'))\n",
        "  model.add(Dropout(0.7))\n",
        "  model.add(Dense(n_classes, activation='softmax'))\n",
        "\n",
        "  # early stopping\n",
        "  callback = EarlyStopping(monitor='loss')\n",
        "  # compile model\n",
        "  opt = keras.optimizers.Adam(learning_rate=0.0001)\n",
        "\n",
        "  model.compile(optimizer=opt, loss='sparse_categorical_crossentropy', metrics=['accuracy'])\n",
        "  \n",
        "  return model"
      ],
      "metadata": {
        "id": "-xcdhMDSqryq"
      },
      "execution_count": null,
      "outputs": []
    },
    {
      "cell_type": "code",
      "source": [
        "def get_model2(width, height, channels):\n",
        "  # define model\n",
        "  model = Sequential()\n",
        "  model.add(Conv2D(32, (3, 3), activation='relu', input_shape=(width, height, channels)))\n",
        "  model.add(MaxPooling2D((2, 2)))\n",
        "  model.add(Conv2D(64, (3, 3), activation='relu'))\n",
        "  model.add(MaxPooling2D((2, 2)))\n",
        "  model.add(Flatten())\n",
        "  model.add(Dense(64, activation='relu'))\n",
        "  model.add(Dense(n_classes, activation='softmax'))\n",
        "  # early stopping\n",
        "  callback = EarlyStopping(monitor='loss', patience=3)\n",
        "  # compile model\n",
        "  model.compile(optimizer='adam', loss='sparse_categorical_crossentropy', metrics=['accuracy'])\n",
        "\n",
        "  return model"
      ],
      "metadata": {
        "id": "6aFfS1CLqLfq"
      },
      "execution_count": null,
      "outputs": []
    },
    {
      "cell_type": "markdown",
      "metadata": {
        "id": "QgHz3zRbpog2"
      },
      "source": [
        "#### Prepare Data"
      ]
    },
    {
      "cell_type": "code",
      "execution_count": null,
      "metadata": {
        "id": "uCOb2X37pog7"
      },
      "outputs": [],
      "source": [
        "# This cell is used to fix one hot encoding automatic from keras in some datasets\n",
        "train_y = train_y.astype('uint8')\n",
        "test_y = test_y.astype('uint8')\n",
        "while(min(train_y) > 0):\n",
        "  train_y = train_y - 1\n",
        "while(min(test_y) > 0):\n",
        "  test_y = test_y - 1"
      ]
    },
    {
      "cell_type": "code",
      "execution_count": null,
      "metadata": {
        "colab": {
          "base_uri": "https://localhost:8080/"
        },
        "outputId": "8c9b0123-46b1-4d6a-ae89-a431600b03be",
        "id": "v_xUktQnpog7"
      },
      "outputs": [
        {
          "output_type": "stream",
          "name": "stdout",
          "text": [
            "Train:  (36, 50, 50, 3)  | y =  36\n",
            "Test:   (175, 50, 50, 3)  | y =  175\n",
            "Number of classes:  3\n"
          ]
        }
      ],
      "source": [
        "print(\"Train: \", train_x.shape, \" | y = \", train_y.size)\n",
        "print(\"Test:  \", test_x.shape, \" | y = \", test_y.size)\n",
        "n_classes = np.unique(train_y).size\n",
        "print(\"Number of classes: \", n_classes)"
      ]
    },
    {
      "cell_type": "code",
      "execution_count": null,
      "metadata": {
        "colab": {
          "base_uri": "https://localhost:8080/"
        },
        "outputId": "7c91b4e0-3f69-4c4e-a5d9-0170b0ea99df",
        "id": "hXFW3tbhpog8"
      },
      "outputs": [
        {
          "output_type": "stream",
          "name": "stdout",
          "text": [
            "Width:  50 | Height:  50 | Channels:  3\n"
          ]
        }
      ],
      "source": [
        "train_length, width, height, channels = train_x.shape[0], train_x.shape[1], train_x.shape[2], train_x.shape[3]\n",
        "print(\"Width: \", width, \"| Height: \", height, \"| Channels: \", channels)"
      ]
    },
    {
      "cell_type": "code",
      "execution_count": null,
      "metadata": {
        "id": "neJ-11mRpog8"
      },
      "outputs": [],
      "source": [
        "datagen = ImageDataGenerator(rescale=1.0/255.0)"
      ]
    },
    {
      "cell_type": "code",
      "source": [
        "callbacks = [\n",
        "    # keras.callbacks.ModelCheckpoint(\n",
        "    #     \"best_model.h5\", save_best_only=True, monitor=\"val_loss\"\n",
        "    # ),\n",
        "    keras.callbacks.ReduceLROnPlateau(\n",
        "        monitor=\"val_loss\", factor=0.5, patience=20, min_lr=0.0001\n",
        "    ),\n",
        "    keras.callbacks.EarlyStopping(monitor=\"val_loss\", patience=50, verbose=1),\n",
        "]"
      ],
      "metadata": {
        "id": "3xEdrIXeMyeZ"
      },
      "execution_count": null,
      "outputs": []
    },
    {
      "cell_type": "markdown",
      "source": [
        "#### Training"
      ],
      "metadata": {
        "id": "FOuzykNXpqT2"
      }
    },
    {
      "cell_type": "code",
      "source": [
        "#Configs\n",
        "BATCH_SIZE = 32 if train_length >= 500 else 16 if train_length >= 50 else 8\n",
        "EPOCHS = 100\n",
        "N_SPLIT = 5\n",
        "verbose = 1\n",
        "\n",
        "# Storing the average of all predictions\n",
        "main_pred = []\n",
        "data_kfold = pd.DataFrame()\n",
        "acc_per_fold = []\n",
        "loss_per_fold = []\n",
        "row = []\n",
        "row.append(name)\n",
        "\n",
        "kfold = KFold(n_splits=N_SPLIT, shuffle=True) # , random_state=42)\n",
        "\n",
        "# Variable for keeping count of split we are executing\n",
        "\n",
        "fold_no = 0\n",
        "\n",
        "\n",
        "# K-fold Train and test for each split\n",
        "\n",
        "for train_idx, val_idx in list(kfold.split(train_x, train_y)):\n",
        "\n",
        "    fold_no+=1\n",
        "\n",
        "    # training_set  = datagen.flow(train_idx, train_y, batch_size=64)\n",
        "    training_set  = datagen.flow(train_x[train_idx], train_y[train_idx], batch_size=BATCH_SIZE)\n",
        "    \n",
        "    validation_set = datagen.flow(train_x[val_idx], train_y[val_idx], batch_size=BATCH_SIZE)\n",
        "\n",
        "    model_test = get_model(width, height, channels)\n",
        "    history = model_test.fit( training_set,\n",
        "                              validation_data=validation_set,\n",
        "                              epochs = EPOCHS,\n",
        "                              steps_per_epoch = len(training_set) ,\n",
        "                              callbacks = callbacks,\n",
        "                              verbose = verbose\n",
        "                              )\n",
        "\n",
        "    del(training_set)\n",
        "    del(validation_set)\n",
        "\n",
        "    test_set = datagen.flow(test_x, test_y, batch_size=BATCH_SIZE)\n",
        "\n",
        "    pred = model_test.evaluate(test_set, steps=len(test_set))\n",
        "\n",
        "    del(test_set)\n",
        "\n",
        "    print(f'Score for fold {fold_no}: {model_test.metrics_names[0]} of {pred[0]}; {model_test.metrics_names[1]} of {pred[1]*100}%')\n",
        "    acc_per_fold.append(pred[1])\n",
        "    loss_per_fold.append(pred[0])\n",
        "\n",
        "    # predicted_class_indices=np.argmax(pred,axis=1)\n",
        "    # data_kfold[fold_no] = predicted_class_indices\n",
        "\n",
        "    gc.collect()\n"
      ],
      "metadata": {
        "colab": {
          "base_uri": "https://localhost:8080/"
        },
        "id": "E6arV_Kxn0ZU",
        "outputId": "eb4ef21c-207d-4e73-95c2-0407a1d95f40"
      },
      "execution_count": null,
      "outputs": [
        {
          "output_type": "stream",
          "name": "stdout",
          "text": [
            "Epoch 1/100\n",
            "4/4 [==============================] - 2s 129ms/step - loss: 1.0741 - accuracy: 0.5000 - val_loss: 1.1012 - val_accuracy: 0.1250 - lr: 1.0000e-04\n",
            "Epoch 2/100\n",
            "4/4 [==============================] - 0s 50ms/step - loss: 1.0870 - accuracy: 0.4643 - val_loss: 1.1005 - val_accuracy: 0.2500 - lr: 1.0000e-04\n",
            "Epoch 3/100\n",
            "4/4 [==============================] - 0s 57ms/step - loss: 1.0945 - accuracy: 0.3214 - val_loss: 1.1002 - val_accuracy: 0.2500 - lr: 1.0000e-04\n",
            "Epoch 4/100\n",
            "4/4 [==============================] - 0s 51ms/step - loss: 1.1046 - accuracy: 0.3571 - val_loss: 1.1013 - val_accuracy: 0.2500 - lr: 1.0000e-04\n",
            "Epoch 5/100\n",
            "4/4 [==============================] - 0s 51ms/step - loss: 1.0676 - accuracy: 0.3929 - val_loss: 1.1072 - val_accuracy: 0.2500 - lr: 1.0000e-04\n",
            "Epoch 6/100\n",
            "4/4 [==============================] - 0s 54ms/step - loss: 1.0757 - accuracy: 0.3929 - val_loss: 1.1132 - val_accuracy: 0.1250 - lr: 1.0000e-04\n",
            "Epoch 7/100\n",
            "4/4 [==============================] - 0s 54ms/step - loss: 1.0908 - accuracy: 0.3571 - val_loss: 1.1174 - val_accuracy: 0.1250 - lr: 1.0000e-04\n",
            "Epoch 8/100\n",
            "4/4 [==============================] - 0s 51ms/step - loss: 1.0798 - accuracy: 0.3929 - val_loss: 1.1175 - val_accuracy: 0.1250 - lr: 1.0000e-04\n",
            "Epoch 9/100\n",
            "4/4 [==============================] - 0s 77ms/step - loss: 1.0797 - accuracy: 0.3571 - val_loss: 1.1183 - val_accuracy: 0.1250 - lr: 1.0000e-04\n",
            "Epoch 10/100\n",
            "4/4 [==============================] - 0s 72ms/step - loss: 1.0608 - accuracy: 0.5357 - val_loss: 1.1207 - val_accuracy: 0.1250 - lr: 1.0000e-04\n",
            "Epoch 11/100\n",
            "4/4 [==============================] - 0s 49ms/step - loss: 1.0425 - accuracy: 0.5357 - val_loss: 1.1227 - val_accuracy: 0.1250 - lr: 1.0000e-04\n",
            "Epoch 12/100\n",
            "4/4 [==============================] - 0s 48ms/step - loss: 1.1037 - accuracy: 0.3571 - val_loss: 1.1255 - val_accuracy: 0.1250 - lr: 1.0000e-04\n",
            "Epoch 13/100\n",
            "4/4 [==============================] - 0s 54ms/step - loss: 1.1378 - accuracy: 0.3571 - val_loss: 1.1252 - val_accuracy: 0.1250 - lr: 1.0000e-04\n",
            "Epoch 14/100\n",
            "4/4 [==============================] - 0s 53ms/step - loss: 1.0752 - accuracy: 0.3929 - val_loss: 1.1236 - val_accuracy: 0.1250 - lr: 1.0000e-04\n",
            "Epoch 15/100\n",
            "4/4 [==============================] - 0s 51ms/step - loss: 1.0841 - accuracy: 0.3571 - val_loss: 1.1211 - val_accuracy: 0.1250 - lr: 1.0000e-04\n",
            "Epoch 16/100\n",
            "4/4 [==============================] - 0s 47ms/step - loss: 1.1110 - accuracy: 0.3929 - val_loss: 1.1207 - val_accuracy: 0.1250 - lr: 1.0000e-04\n",
            "Epoch 17/100\n",
            "4/4 [==============================] - 0s 48ms/step - loss: 1.0415 - accuracy: 0.6429 - val_loss: 1.1221 - val_accuracy: 0.1250 - lr: 1.0000e-04\n",
            "Epoch 18/100\n",
            "4/4 [==============================] - 0s 54ms/step - loss: 1.1020 - accuracy: 0.2143 - val_loss: 1.1215 - val_accuracy: 0.1250 - lr: 1.0000e-04\n",
            "Epoch 19/100\n",
            "4/4 [==============================] - 0s 45ms/step - loss: 1.0923 - accuracy: 0.3929 - val_loss: 1.1193 - val_accuracy: 0.1250 - lr: 1.0000e-04\n",
            "Epoch 20/100\n",
            "4/4 [==============================] - 0s 46ms/step - loss: 1.0727 - accuracy: 0.4286 - val_loss: 1.1150 - val_accuracy: 0.1250 - lr: 1.0000e-04\n",
            "Epoch 21/100\n",
            "4/4 [==============================] - 0s 48ms/step - loss: 1.0773 - accuracy: 0.4643 - val_loss: 1.1103 - val_accuracy: 0.2500 - lr: 1.0000e-04\n",
            "Epoch 22/100\n",
            "4/4 [==============================] - 0s 50ms/step - loss: 1.0892 - accuracy: 0.4643 - val_loss: 1.1071 - val_accuracy: 0.2500 - lr: 1.0000e-04\n",
            "Epoch 23/100\n",
            "4/4 [==============================] - 0s 53ms/step - loss: 1.0804 - accuracy: 0.4643 - val_loss: 1.1057 - val_accuracy: 0.2500 - lr: 1.0000e-04\n",
            "Epoch 24/100\n",
            "4/4 [==============================] - 0s 51ms/step - loss: 1.0607 - accuracy: 0.3571 - val_loss: 1.1068 - val_accuracy: 0.2500 - lr: 1.0000e-04\n",
            "Epoch 25/100\n",
            "4/4 [==============================] - 0s 53ms/step - loss: 1.0610 - accuracy: 0.6071 - val_loss: 1.1067 - val_accuracy: 0.2500 - lr: 1.0000e-04\n",
            "Epoch 26/100\n",
            "4/4 [==============================] - 0s 50ms/step - loss: 1.1039 - accuracy: 0.3571 - val_loss: 1.1099 - val_accuracy: 0.2500 - lr: 1.0000e-04\n",
            "Epoch 27/100\n",
            "4/4 [==============================] - 0s 57ms/step - loss: 1.0534 - accuracy: 0.4286 - val_loss: 1.1121 - val_accuracy: 0.2500 - lr: 1.0000e-04\n",
            "Epoch 28/100\n",
            "4/4 [==============================] - 0s 53ms/step - loss: 1.0223 - accuracy: 0.6071 - val_loss: 1.1154 - val_accuracy: 0.2500 - lr: 1.0000e-04\n",
            "Epoch 29/100\n",
            "4/4 [==============================] - 0s 51ms/step - loss: 1.0289 - accuracy: 0.4643 - val_loss: 1.1170 - val_accuracy: 0.2500 - lr: 1.0000e-04\n",
            "Epoch 30/100\n",
            "4/4 [==============================] - 0s 51ms/step - loss: 1.0460 - accuracy: 0.4286 - val_loss: 1.1188 - val_accuracy: 0.2500 - lr: 1.0000e-04\n",
            "Epoch 31/100\n",
            "4/4 [==============================] - 0s 57ms/step - loss: 1.0317 - accuracy: 0.5000 - val_loss: 1.1185 - val_accuracy: 0.2500 - lr: 1.0000e-04\n",
            "Epoch 32/100\n",
            "4/4 [==============================] - 0s 51ms/step - loss: 1.1213 - accuracy: 0.3214 - val_loss: 1.1192 - val_accuracy: 0.2500 - lr: 1.0000e-04\n",
            "Epoch 33/100\n",
            "4/4 [==============================] - 0s 54ms/step - loss: 1.0264 - accuracy: 0.6071 - val_loss: 1.1205 - val_accuracy: 0.2500 - lr: 1.0000e-04\n",
            "Epoch 34/100\n",
            "4/4 [==============================] - 0s 47ms/step - loss: 1.0968 - accuracy: 0.2857 - val_loss: 1.1214 - val_accuracy: 0.2500 - lr: 1.0000e-04\n",
            "Epoch 35/100\n",
            "4/4 [==============================] - 0s 52ms/step - loss: 1.0745 - accuracy: 0.3929 - val_loss: 1.1229 - val_accuracy: 0.2500 - lr: 1.0000e-04\n",
            "Epoch 36/100\n",
            "4/4 [==============================] - 0s 50ms/step - loss: 1.0542 - accuracy: 0.3929 - val_loss: 1.1230 - val_accuracy: 0.2500 - lr: 1.0000e-04\n",
            "Epoch 37/100\n",
            "4/4 [==============================] - 0s 49ms/step - loss: 1.0413 - accuracy: 0.3929 - val_loss: 1.1220 - val_accuracy: 0.2500 - lr: 1.0000e-04\n",
            "Epoch 38/100\n",
            "4/4 [==============================] - 0s 50ms/step - loss: 1.0232 - accuracy: 0.5000 - val_loss: 1.1202 - val_accuracy: 0.2500 - lr: 1.0000e-04\n",
            "Epoch 39/100\n",
            "4/4 [==============================] - 0s 55ms/step - loss: 1.0295 - accuracy: 0.5000 - val_loss: 1.1167 - val_accuracy: 0.2500 - lr: 1.0000e-04\n",
            "Epoch 40/100\n",
            "4/4 [==============================] - 0s 55ms/step - loss: 1.0693 - accuracy: 0.4643 - val_loss: 1.1121 - val_accuracy: 0.2500 - lr: 1.0000e-04\n",
            "Epoch 41/100\n",
            "4/4 [==============================] - 0s 48ms/step - loss: 1.0326 - accuracy: 0.4643 - val_loss: 1.1101 - val_accuracy: 0.2500 - lr: 1.0000e-04\n",
            "Epoch 42/100\n",
            "4/4 [==============================] - 0s 56ms/step - loss: 1.0332 - accuracy: 0.5000 - val_loss: 1.1089 - val_accuracy: 0.2500 - lr: 1.0000e-04\n",
            "Epoch 43/100\n",
            "4/4 [==============================] - 0s 49ms/step - loss: 1.0038 - accuracy: 0.4643 - val_loss: 1.1083 - val_accuracy: 0.2500 - lr: 1.0000e-04\n",
            "Epoch 44/100\n",
            "4/4 [==============================] - 0s 51ms/step - loss: 1.0265 - accuracy: 0.5000 - val_loss: 1.1071 - val_accuracy: 0.2500 - lr: 1.0000e-04\n",
            "Epoch 45/100\n",
            "4/4 [==============================] - 0s 52ms/step - loss: 1.0411 - accuracy: 0.4286 - val_loss: 1.1083 - val_accuracy: 0.2500 - lr: 1.0000e-04\n",
            "Epoch 46/100\n",
            "4/4 [==============================] - 0s 51ms/step - loss: 1.0522 - accuracy: 0.3929 - val_loss: 1.1126 - val_accuracy: 0.2500 - lr: 1.0000e-04\n",
            "Epoch 47/100\n",
            "4/4 [==============================] - 0s 55ms/step - loss: 1.0196 - accuracy: 0.4643 - val_loss: 1.1139 - val_accuracy: 0.2500 - lr: 1.0000e-04\n",
            "Epoch 48/100\n",
            "4/4 [==============================] - 0s 50ms/step - loss: 1.0395 - accuracy: 0.5357 - val_loss: 1.1128 - val_accuracy: 0.2500 - lr: 1.0000e-04\n",
            "Epoch 49/100\n",
            "4/4 [==============================] - 0s 47ms/step - loss: 1.0257 - accuracy: 0.5000 - val_loss: 1.1091 - val_accuracy: 0.2500 - lr: 1.0000e-04\n",
            "Epoch 50/100\n",
            "4/4 [==============================] - 0s 52ms/step - loss: 0.9869 - accuracy: 0.5714 - val_loss: 1.1048 - val_accuracy: 0.2500 - lr: 1.0000e-04\n",
            "Epoch 51/100\n",
            "4/4 [==============================] - 0s 54ms/step - loss: 1.0741 - accuracy: 0.3929 - val_loss: 1.1016 - val_accuracy: 0.2500 - lr: 1.0000e-04\n",
            "Epoch 52/100\n",
            "4/4 [==============================] - 0s 53ms/step - loss: 0.9576 - accuracy: 0.6429 - val_loss: 1.0937 - val_accuracy: 0.2500 - lr: 1.0000e-04\n",
            "Epoch 53/100\n",
            "4/4 [==============================] - 0s 50ms/step - loss: 1.0069 - accuracy: 0.6071 - val_loss: 1.0866 - val_accuracy: 0.2500 - lr: 1.0000e-04\n",
            "Epoch 54/100\n",
            "4/4 [==============================] - 0s 52ms/step - loss: 1.0478 - accuracy: 0.5357 - val_loss: 1.0803 - val_accuracy: 0.2500 - lr: 1.0000e-04\n",
            "Epoch 55/100\n",
            "4/4 [==============================] - 0s 55ms/step - loss: 1.0198 - accuracy: 0.5000 - val_loss: 1.0768 - val_accuracy: 0.2500 - lr: 1.0000e-04\n",
            "Epoch 56/100\n",
            "4/4 [==============================] - 0s 49ms/step - loss: 0.9717 - accuracy: 0.6786 - val_loss: 1.0730 - val_accuracy: 0.2500 - lr: 1.0000e-04\n",
            "Epoch 57/100\n",
            "4/4 [==============================] - 0s 52ms/step - loss: 0.9818 - accuracy: 0.5714 - val_loss: 1.0699 - val_accuracy: 0.2500 - lr: 1.0000e-04\n",
            "Epoch 58/100\n",
            "4/4 [==============================] - 0s 45ms/step - loss: 0.9675 - accuracy: 0.6071 - val_loss: 1.0666 - val_accuracy: 0.2500 - lr: 1.0000e-04\n",
            "Epoch 59/100\n",
            "4/4 [==============================] - 0s 47ms/step - loss: 0.9956 - accuracy: 0.5000 - val_loss: 1.0642 - val_accuracy: 0.2500 - lr: 1.0000e-04\n",
            "Epoch 60/100\n",
            "4/4 [==============================] - 0s 47ms/step - loss: 0.9746 - accuracy: 0.5357 - val_loss: 1.0600 - val_accuracy: 0.5000 - lr: 1.0000e-04\n",
            "Epoch 61/100\n",
            "4/4 [==============================] - 0s 47ms/step - loss: 1.0101 - accuracy: 0.5357 - val_loss: 1.0584 - val_accuracy: 0.5000 - lr: 1.0000e-04\n",
            "Epoch 62/100\n",
            "4/4 [==============================] - 0s 51ms/step - loss: 0.9830 - accuracy: 0.5357 - val_loss: 1.0521 - val_accuracy: 0.5000 - lr: 1.0000e-04\n",
            "Epoch 63/100\n",
            "4/4 [==============================] - 0s 53ms/step - loss: 0.9514 - accuracy: 0.5357 - val_loss: 1.0436 - val_accuracy: 0.5000 - lr: 1.0000e-04\n",
            "Epoch 64/100\n",
            "4/4 [==============================] - 0s 66ms/step - loss: 0.9856 - accuracy: 0.6071 - val_loss: 1.0388 - val_accuracy: 0.5000 - lr: 1.0000e-04\n",
            "Epoch 65/100\n",
            "4/4 [==============================] - 0s 51ms/step - loss: 0.9819 - accuracy: 0.5357 - val_loss: 1.0427 - val_accuracy: 0.5000 - lr: 1.0000e-04\n",
            "Epoch 66/100\n",
            "4/4 [==============================] - 0s 46ms/step - loss: 1.0313 - accuracy: 0.5000 - val_loss: 1.0420 - val_accuracy: 0.5000 - lr: 1.0000e-04\n",
            "Epoch 67/100\n",
            "4/4 [==============================] - 0s 50ms/step - loss: 0.9472 - accuracy: 0.5714 - val_loss: 1.0398 - val_accuracy: 0.5000 - lr: 1.0000e-04\n",
            "Epoch 68/100\n",
            "4/4 [==============================] - 0s 51ms/step - loss: 1.0395 - accuracy: 0.4643 - val_loss: 1.0389 - val_accuracy: 0.5000 - lr: 1.0000e-04\n",
            "Epoch 69/100\n",
            "4/4 [==============================] - 0s 45ms/step - loss: 1.0150 - accuracy: 0.4643 - val_loss: 1.0396 - val_accuracy: 0.5000 - lr: 1.0000e-04\n",
            "Epoch 70/100\n",
            "4/4 [==============================] - 0s 49ms/step - loss: 0.8809 - accuracy: 0.6071 - val_loss: 1.0381 - val_accuracy: 0.5000 - lr: 1.0000e-04\n",
            "Epoch 71/100\n",
            "4/4 [==============================] - 0s 52ms/step - loss: 0.9260 - accuracy: 0.6786 - val_loss: 1.0372 - val_accuracy: 0.5000 - lr: 1.0000e-04\n",
            "Epoch 72/100\n",
            "4/4 [==============================] - 0s 52ms/step - loss: 0.9424 - accuracy: 0.5000 - val_loss: 1.0353 - val_accuracy: 0.5000 - lr: 1.0000e-04\n",
            "Epoch 73/100\n",
            "4/4 [==============================] - 0s 52ms/step - loss: 1.0044 - accuracy: 0.4643 - val_loss: 1.0300 - val_accuracy: 0.5000 - lr: 1.0000e-04\n",
            "Epoch 74/100\n",
            "4/4 [==============================] - 0s 48ms/step - loss: 0.9563 - accuracy: 0.5357 - val_loss: 1.0223 - val_accuracy: 0.5000 - lr: 1.0000e-04\n",
            "Epoch 75/100\n",
            "4/4 [==============================] - 0s 56ms/step - loss: 0.9330 - accuracy: 0.5357 - val_loss: 1.0156 - val_accuracy: 0.5000 - lr: 1.0000e-04\n",
            "Epoch 76/100\n",
            "4/4 [==============================] - 0s 48ms/step - loss: 0.9704 - accuracy: 0.5357 - val_loss: 1.0104 - val_accuracy: 0.5000 - lr: 1.0000e-04\n",
            "Epoch 77/100\n",
            "4/4 [==============================] - 0s 51ms/step - loss: 0.9725 - accuracy: 0.7143 - val_loss: 1.0066 - val_accuracy: 0.5000 - lr: 1.0000e-04\n",
            "Epoch 78/100\n",
            "4/4 [==============================] - 0s 49ms/step - loss: 0.9593 - accuracy: 0.5000 - val_loss: 1.0019 - val_accuracy: 0.5000 - lr: 1.0000e-04\n",
            "Epoch 79/100\n",
            "4/4 [==============================] - 0s 56ms/step - loss: 0.9011 - accuracy: 0.6071 - val_loss: 1.0040 - val_accuracy: 0.2500 - lr: 1.0000e-04\n",
            "Epoch 80/100\n",
            "4/4 [==============================] - 0s 50ms/step - loss: 0.9397 - accuracy: 0.6071 - val_loss: 1.0044 - val_accuracy: 0.2500 - lr: 1.0000e-04\n",
            "Epoch 81/100\n",
            "4/4 [==============================] - 0s 53ms/step - loss: 0.9444 - accuracy: 0.6786 - val_loss: 0.9973 - val_accuracy: 0.5000 - lr: 1.0000e-04\n",
            "Epoch 82/100\n",
            "4/4 [==============================] - 0s 51ms/step - loss: 0.8225 - accuracy: 0.6071 - val_loss: 0.9907 - val_accuracy: 0.5000 - lr: 1.0000e-04\n",
            "Epoch 83/100\n",
            "4/4 [==============================] - 0s 58ms/step - loss: 1.0177 - accuracy: 0.5357 - val_loss: 0.9858 - val_accuracy: 0.5000 - lr: 1.0000e-04\n",
            "Epoch 84/100\n",
            "4/4 [==============================] - 0s 49ms/step - loss: 1.0070 - accuracy: 0.5000 - val_loss: 0.9836 - val_accuracy: 0.5000 - lr: 1.0000e-04\n",
            "Epoch 85/100\n",
            "4/4 [==============================] - 0s 48ms/step - loss: 0.9391 - accuracy: 0.6071 - val_loss: 0.9820 - val_accuracy: 0.5000 - lr: 1.0000e-04\n",
            "Epoch 86/100\n",
            "4/4 [==============================] - 0s 51ms/step - loss: 0.9387 - accuracy: 0.5357 - val_loss: 0.9805 - val_accuracy: 0.5000 - lr: 1.0000e-04\n",
            "Epoch 87/100\n",
            "4/4 [==============================] - 0s 55ms/step - loss: 0.9338 - accuracy: 0.5357 - val_loss: 0.9786 - val_accuracy: 0.5000 - lr: 1.0000e-04\n",
            "Epoch 88/100\n",
            "4/4 [==============================] - 0s 51ms/step - loss: 0.8684 - accuracy: 0.6429 - val_loss: 0.9748 - val_accuracy: 0.5000 - lr: 1.0000e-04\n",
            "Epoch 89/100\n",
            "4/4 [==============================] - 0s 52ms/step - loss: 0.8908 - accuracy: 0.6429 - val_loss: 0.9700 - val_accuracy: 0.5000 - lr: 1.0000e-04\n",
            "Epoch 90/100\n",
            "4/4 [==============================] - 0s 46ms/step - loss: 0.8800 - accuracy: 0.6786 - val_loss: 0.9594 - val_accuracy: 0.5000 - lr: 1.0000e-04\n",
            "Epoch 91/100\n",
            "4/4 [==============================] - 0s 50ms/step - loss: 0.9076 - accuracy: 0.6429 - val_loss: 0.9511 - val_accuracy: 0.5000 - lr: 1.0000e-04\n",
            "Epoch 92/100\n",
            "4/4 [==============================] - 0s 48ms/step - loss: 0.8632 - accuracy: 0.6429 - val_loss: 0.9509 - val_accuracy: 0.5000 - lr: 1.0000e-04\n",
            "Epoch 93/100\n",
            "4/4 [==============================] - 0s 51ms/step - loss: 0.8367 - accuracy: 0.6071 - val_loss: 0.9504 - val_accuracy: 0.5000 - lr: 1.0000e-04\n",
            "Epoch 94/100\n",
            "4/4 [==============================] - 0s 49ms/step - loss: 0.8053 - accuracy: 0.7143 - val_loss: 0.9503 - val_accuracy: 0.5000 - lr: 1.0000e-04\n",
            "Epoch 95/100\n",
            "4/4 [==============================] - 0s 49ms/step - loss: 0.8838 - accuracy: 0.6429 - val_loss: 0.9424 - val_accuracy: 0.5000 - lr: 1.0000e-04\n",
            "Epoch 96/100\n",
            "4/4 [==============================] - 0s 50ms/step - loss: 0.8299 - accuracy: 0.6429 - val_loss: 0.9355 - val_accuracy: 0.5000 - lr: 1.0000e-04\n",
            "Epoch 97/100\n",
            "4/4 [==============================] - 0s 50ms/step - loss: 0.9410 - accuracy: 0.5357 - val_loss: 0.9253 - val_accuracy: 0.5000 - lr: 1.0000e-04\n",
            "Epoch 98/100\n",
            "4/4 [==============================] - 0s 61ms/step - loss: 0.8688 - accuracy: 0.5714 - val_loss: 0.9220 - val_accuracy: 0.5000 - lr: 1.0000e-04\n",
            "Epoch 99/100\n",
            "4/4 [==============================] - 0s 46ms/step - loss: 0.8390 - accuracy: 0.6429 - val_loss: 0.9278 - val_accuracy: 0.5000 - lr: 1.0000e-04\n",
            "Epoch 100/100\n",
            "4/4 [==============================] - 0s 52ms/step - loss: 0.8392 - accuracy: 0.6429 - val_loss: 0.9209 - val_accuracy: 0.5000 - lr: 1.0000e-04\n",
            "22/22 [==============================] - 0s 9ms/step - loss: 0.9410 - accuracy: 0.5314\n",
            "Score for fold 1: loss of 0.9410296678543091; accuracy of 53.14285755157471%\n",
            "Epoch 1/100\n",
            "4/4 [==============================] - 1s 115ms/step - loss: 1.0930 - accuracy: 0.2414 - val_loss: 1.1220 - val_accuracy: 0.1429 - lr: 1.0000e-04\n",
            "Epoch 2/100\n",
            "4/4 [==============================] - 0s 54ms/step - loss: 1.1035 - accuracy: 0.4138 - val_loss: 1.1202 - val_accuracy: 0.1429 - lr: 1.0000e-04\n",
            "Epoch 3/100\n",
            "4/4 [==============================] - 0s 49ms/step - loss: 1.1076 - accuracy: 0.3793 - val_loss: 1.1224 - val_accuracy: 0.1429 - lr: 1.0000e-04\n",
            "Epoch 4/100\n",
            "4/4 [==============================] - 0s 50ms/step - loss: 1.0787 - accuracy: 0.4138 - val_loss: 1.1237 - val_accuracy: 0.1429 - lr: 1.0000e-04\n",
            "Epoch 5/100\n",
            "4/4 [==============================] - 0s 62ms/step - loss: 1.0863 - accuracy: 0.2414 - val_loss: 1.1231 - val_accuracy: 0.1429 - lr: 1.0000e-04\n",
            "Epoch 6/100\n",
            "4/4 [==============================] - 0s 51ms/step - loss: 1.0937 - accuracy: 0.2759 - val_loss: 1.1237 - val_accuracy: 0.4286 - lr: 1.0000e-04\n",
            "Epoch 7/100\n",
            "4/4 [==============================] - 0s 50ms/step - loss: 1.1063 - accuracy: 0.3103 - val_loss: 1.1192 - val_accuracy: 0.4286 - lr: 1.0000e-04\n",
            "Epoch 8/100\n",
            "4/4 [==============================] - 0s 52ms/step - loss: 1.0998 - accuracy: 0.2759 - val_loss: 1.1151 - val_accuracy: 0.4286 - lr: 1.0000e-04\n",
            "Epoch 9/100\n",
            "4/4 [==============================] - 0s 51ms/step - loss: 1.1161 - accuracy: 0.3448 - val_loss: 1.1109 - val_accuracy: 0.4286 - lr: 1.0000e-04\n",
            "Epoch 10/100\n",
            "4/4 [==============================] - 0s 52ms/step - loss: 1.0483 - accuracy: 0.4828 - val_loss: 1.1107 - val_accuracy: 0.4286 - lr: 1.0000e-04\n",
            "Epoch 11/100\n",
            "4/4 [==============================] - 0s 54ms/step - loss: 1.0915 - accuracy: 0.4138 - val_loss: 1.1152 - val_accuracy: 0.4286 - lr: 1.0000e-04\n",
            "Epoch 12/100\n",
            "4/4 [==============================] - 0s 54ms/step - loss: 1.0728 - accuracy: 0.3448 - val_loss: 1.1196 - val_accuracy: 0.4286 - lr: 1.0000e-04\n",
            "Epoch 13/100\n",
            "4/4 [==============================] - 0s 58ms/step - loss: 1.1046 - accuracy: 0.2414 - val_loss: 1.1239 - val_accuracy: 0.4286 - lr: 1.0000e-04\n",
            "Epoch 14/100\n",
            "4/4 [==============================] - 0s 57ms/step - loss: 1.0794 - accuracy: 0.4828 - val_loss: 1.1207 - val_accuracy: 0.4286 - lr: 1.0000e-04\n",
            "Epoch 15/100\n",
            "4/4 [==============================] - 0s 56ms/step - loss: 1.0829 - accuracy: 0.3793 - val_loss: 1.1211 - val_accuracy: 0.4286 - lr: 1.0000e-04\n",
            "Epoch 16/100\n",
            "4/4 [==============================] - 0s 52ms/step - loss: 1.0604 - accuracy: 0.5172 - val_loss: 1.1223 - val_accuracy: 0.4286 - lr: 1.0000e-04\n",
            "Epoch 17/100\n",
            "4/4 [==============================] - 0s 57ms/step - loss: 1.0636 - accuracy: 0.2069 - val_loss: 1.1210 - val_accuracy: 0.4286 - lr: 1.0000e-04\n",
            "Epoch 18/100\n",
            "4/4 [==============================] - 0s 51ms/step - loss: 1.0833 - accuracy: 0.4138 - val_loss: 1.1183 - val_accuracy: 0.4286 - lr: 1.0000e-04\n",
            "Epoch 19/100\n",
            "4/4 [==============================] - 0s 49ms/step - loss: 1.0906 - accuracy: 0.3448 - val_loss: 1.1185 - val_accuracy: 0.4286 - lr: 1.0000e-04\n",
            "Epoch 20/100\n",
            "4/4 [==============================] - 0s 47ms/step - loss: 1.0912 - accuracy: 0.4138 - val_loss: 1.1146 - val_accuracy: 0.4286 - lr: 1.0000e-04\n",
            "Epoch 21/100\n",
            "4/4 [==============================] - 0s 52ms/step - loss: 1.0627 - accuracy: 0.4483 - val_loss: 1.1126 - val_accuracy: 0.4286 - lr: 1.0000e-04\n",
            "Epoch 22/100\n",
            "4/4 [==============================] - 0s 54ms/step - loss: 1.0755 - accuracy: 0.3793 - val_loss: 1.1090 - val_accuracy: 0.4286 - lr: 1.0000e-04\n",
            "Epoch 23/100\n",
            "4/4 [==============================] - 0s 55ms/step - loss: 1.0554 - accuracy: 0.4483 - val_loss: 1.1058 - val_accuracy: 0.4286 - lr: 1.0000e-04\n",
            "Epoch 24/100\n",
            "4/4 [==============================] - 0s 60ms/step - loss: 1.0245 - accuracy: 0.4483 - val_loss: 1.1005 - val_accuracy: 0.4286 - lr: 1.0000e-04\n",
            "Epoch 25/100\n",
            "4/4 [==============================] - 0s 50ms/step - loss: 1.0280 - accuracy: 0.4828 - val_loss: 1.0981 - val_accuracy: 0.4286 - lr: 1.0000e-04\n",
            "Epoch 26/100\n",
            "4/4 [==============================] - 0s 47ms/step - loss: 1.0564 - accuracy: 0.4483 - val_loss: 1.0962 - val_accuracy: 0.4286 - lr: 1.0000e-04\n",
            "Epoch 27/100\n",
            "4/4 [==============================] - 0s 46ms/step - loss: 1.0778 - accuracy: 0.4138 - val_loss: 1.0960 - val_accuracy: 0.4286 - lr: 1.0000e-04\n",
            "Epoch 28/100\n",
            "4/4 [==============================] - 0s 58ms/step - loss: 1.0496 - accuracy: 0.3448 - val_loss: 1.0955 - val_accuracy: 0.4286 - lr: 1.0000e-04\n",
            "Epoch 29/100\n",
            "4/4 [==============================] - 0s 52ms/step - loss: 1.0327 - accuracy: 0.4828 - val_loss: 1.0962 - val_accuracy: 0.4286 - lr: 1.0000e-04\n",
            "Epoch 30/100\n",
            "4/4 [==============================] - 0s 49ms/step - loss: 1.0522 - accuracy: 0.5172 - val_loss: 1.0928 - val_accuracy: 0.4286 - lr: 1.0000e-04\n",
            "Epoch 31/100\n",
            "4/4 [==============================] - 0s 56ms/step - loss: 1.0047 - accuracy: 0.6207 - val_loss: 1.0913 - val_accuracy: 0.4286 - lr: 1.0000e-04\n",
            "Epoch 32/100\n",
            "4/4 [==============================] - 0s 61ms/step - loss: 1.0578 - accuracy: 0.4483 - val_loss: 1.0909 - val_accuracy: 0.4286 - lr: 1.0000e-04\n",
            "Epoch 33/100\n",
            "4/4 [==============================] - 0s 57ms/step - loss: 1.0819 - accuracy: 0.5517 - val_loss: 1.0873 - val_accuracy: 0.4286 - lr: 1.0000e-04\n",
            "Epoch 34/100\n",
            "4/4 [==============================] - 0s 63ms/step - loss: 1.0188 - accuracy: 0.4828 - val_loss: 1.0832 - val_accuracy: 0.4286 - lr: 1.0000e-04\n",
            "Epoch 35/100\n",
            "4/4 [==============================] - 0s 55ms/step - loss: 1.0430 - accuracy: 0.4483 - val_loss: 1.0821 - val_accuracy: 0.4286 - lr: 1.0000e-04\n",
            "Epoch 36/100\n",
            "4/4 [==============================] - 0s 54ms/step - loss: 1.0767 - accuracy: 0.3103 - val_loss: 1.0812 - val_accuracy: 0.4286 - lr: 1.0000e-04\n",
            "Epoch 37/100\n",
            "4/4 [==============================] - 0s 50ms/step - loss: 1.0067 - accuracy: 0.4483 - val_loss: 1.0761 - val_accuracy: 0.4286 - lr: 1.0000e-04\n",
            "Epoch 38/100\n",
            "4/4 [==============================] - 0s 57ms/step - loss: 1.0891 - accuracy: 0.3103 - val_loss: 1.0674 - val_accuracy: 0.4286 - lr: 1.0000e-04\n",
            "Epoch 39/100\n",
            "4/4 [==============================] - 0s 56ms/step - loss: 1.0541 - accuracy: 0.5172 - val_loss: 1.0629 - val_accuracy: 0.4286 - lr: 1.0000e-04\n",
            "Epoch 40/100\n",
            "4/4 [==============================] - 0s 53ms/step - loss: 1.0692 - accuracy: 0.4138 - val_loss: 1.0573 - val_accuracy: 0.4286 - lr: 1.0000e-04\n",
            "Epoch 41/100\n",
            "4/4 [==============================] - 0s 52ms/step - loss: 1.0110 - accuracy: 0.4828 - val_loss: 1.0507 - val_accuracy: 0.4286 - lr: 1.0000e-04\n",
            "Epoch 42/100\n",
            "4/4 [==============================] - 0s 56ms/step - loss: 1.0724 - accuracy: 0.4138 - val_loss: 1.0454 - val_accuracy: 0.4286 - lr: 1.0000e-04\n",
            "Epoch 43/100\n",
            "4/4 [==============================] - 0s 58ms/step - loss: 1.0416 - accuracy: 0.3448 - val_loss: 1.0409 - val_accuracy: 0.4286 - lr: 1.0000e-04\n",
            "Epoch 44/100\n",
            "4/4 [==============================] - 0s 59ms/step - loss: 1.0428 - accuracy: 0.4138 - val_loss: 1.0381 - val_accuracy: 0.4286 - lr: 1.0000e-04\n",
            "Epoch 45/100\n",
            "4/4 [==============================] - 1s 142ms/step - loss: 1.0553 - accuracy: 0.4828 - val_loss: 1.0366 - val_accuracy: 0.4286 - lr: 1.0000e-04\n",
            "Epoch 46/100\n",
            "4/4 [==============================] - 0s 109ms/step - loss: 1.0461 - accuracy: 0.4138 - val_loss: 1.0320 - val_accuracy: 0.4286 - lr: 1.0000e-04\n",
            "Epoch 47/100\n",
            "4/4 [==============================] - 0s 55ms/step - loss: 0.9987 - accuracy: 0.4138 - val_loss: 1.0282 - val_accuracy: 0.4286 - lr: 1.0000e-04\n",
            "Epoch 48/100\n",
            "4/4 [==============================] - 0s 60ms/step - loss: 0.9925 - accuracy: 0.5172 - val_loss: 1.0232 - val_accuracy: 0.4286 - lr: 1.0000e-04\n",
            "Epoch 49/100\n",
            "4/4 [==============================] - 0s 47ms/step - loss: 1.0195 - accuracy: 0.5172 - val_loss: 1.0191 - val_accuracy: 0.4286 - lr: 1.0000e-04\n",
            "Epoch 50/100\n",
            "4/4 [==============================] - 0s 56ms/step - loss: 1.0575 - accuracy: 0.4828 - val_loss: 1.0174 - val_accuracy: 0.4286 - lr: 1.0000e-04\n",
            "Epoch 51/100\n",
            "4/4 [==============================] - 0s 51ms/step - loss: 1.0694 - accuracy: 0.4138 - val_loss: 1.0146 - val_accuracy: 0.4286 - lr: 1.0000e-04\n",
            "Epoch 52/100\n",
            "4/4 [==============================] - 0s 53ms/step - loss: 1.0416 - accuracy: 0.4828 - val_loss: 1.0145 - val_accuracy: 0.4286 - lr: 1.0000e-04\n",
            "Epoch 53/100\n",
            "4/4 [==============================] - 0s 54ms/step - loss: 0.9460 - accuracy: 0.5517 - val_loss: 1.0150 - val_accuracy: 0.4286 - lr: 1.0000e-04\n",
            "Epoch 54/100\n",
            "4/4 [==============================] - 0s 54ms/step - loss: 0.9520 - accuracy: 0.4828 - val_loss: 1.0136 - val_accuracy: 0.4286 - lr: 1.0000e-04\n",
            "Epoch 55/100\n",
            "4/4 [==============================] - 0s 55ms/step - loss: 0.9610 - accuracy: 0.7241 - val_loss: 1.0099 - val_accuracy: 0.4286 - lr: 1.0000e-04\n",
            "Epoch 56/100\n",
            "4/4 [==============================] - 0s 54ms/step - loss: 1.0895 - accuracy: 0.3448 - val_loss: 1.0069 - val_accuracy: 0.4286 - lr: 1.0000e-04\n",
            "Epoch 57/100\n",
            "4/4 [==============================] - 0s 57ms/step - loss: 1.0252 - accuracy: 0.4828 - val_loss: 1.0076 - val_accuracy: 0.4286 - lr: 1.0000e-04\n",
            "Epoch 58/100\n",
            "4/4 [==============================] - 0s 56ms/step - loss: 0.9765 - accuracy: 0.5172 - val_loss: 1.0062 - val_accuracy: 0.4286 - lr: 1.0000e-04\n",
            "Epoch 59/100\n",
            "4/4 [==============================] - 0s 51ms/step - loss: 1.0244 - accuracy: 0.5172 - val_loss: 1.0067 - val_accuracy: 0.4286 - lr: 1.0000e-04\n",
            "Epoch 60/100\n",
            "4/4 [==============================] - 0s 55ms/step - loss: 0.9996 - accuracy: 0.5172 - val_loss: 1.0014 - val_accuracy: 0.4286 - lr: 1.0000e-04\n",
            "Epoch 61/100\n",
            "4/4 [==============================] - 0s 58ms/step - loss: 1.0520 - accuracy: 0.4483 - val_loss: 0.9980 - val_accuracy: 0.4286 - lr: 1.0000e-04\n",
            "Epoch 62/100\n",
            "4/4 [==============================] - 0s 54ms/step - loss: 0.9531 - accuracy: 0.6897 - val_loss: 0.9985 - val_accuracy: 0.4286 - lr: 1.0000e-04\n",
            "Epoch 63/100\n",
            "4/4 [==============================] - 0s 58ms/step - loss: 0.8694 - accuracy: 0.6897 - val_loss: 0.9966 - val_accuracy: 0.4286 - lr: 1.0000e-04\n",
            "Epoch 64/100\n",
            "4/4 [==============================] - 0s 54ms/step - loss: 0.9690 - accuracy: 0.5517 - val_loss: 0.9909 - val_accuracy: 0.4286 - lr: 1.0000e-04\n",
            "Epoch 65/100\n",
            "4/4 [==============================] - 0s 48ms/step - loss: 0.9556 - accuracy: 0.4828 - val_loss: 0.9840 - val_accuracy: 0.4286 - lr: 1.0000e-04\n",
            "Epoch 66/100\n",
            "4/4 [==============================] - 0s 53ms/step - loss: 1.0129 - accuracy: 0.4483 - val_loss: 0.9801 - val_accuracy: 0.4286 - lr: 1.0000e-04\n",
            "Epoch 67/100\n",
            "4/4 [==============================] - 0s 53ms/step - loss: 0.9914 - accuracy: 0.5517 - val_loss: 0.9787 - val_accuracy: 0.4286 - lr: 1.0000e-04\n",
            "Epoch 68/100\n",
            "4/4 [==============================] - 0s 55ms/step - loss: 0.9740 - accuracy: 0.6207 - val_loss: 0.9739 - val_accuracy: 0.4286 - lr: 1.0000e-04\n",
            "Epoch 69/100\n",
            "4/4 [==============================] - 0s 52ms/step - loss: 1.0422 - accuracy: 0.5172 - val_loss: 0.9654 - val_accuracy: 0.4286 - lr: 1.0000e-04\n",
            "Epoch 70/100\n",
            "4/4 [==============================] - 0s 53ms/step - loss: 0.9441 - accuracy: 0.4138 - val_loss: 0.9546 - val_accuracy: 0.4286 - lr: 1.0000e-04\n",
            "Epoch 71/100\n",
            "4/4 [==============================] - 0s 56ms/step - loss: 0.9844 - accuracy: 0.4138 - val_loss: 0.9446 - val_accuracy: 0.4286 - lr: 1.0000e-04\n",
            "Epoch 72/100\n",
            "4/4 [==============================] - 0s 47ms/step - loss: 1.0014 - accuracy: 0.4483 - val_loss: 0.9380 - val_accuracy: 0.4286 - lr: 1.0000e-04\n",
            "Epoch 73/100\n",
            "4/4 [==============================] - 0s 55ms/step - loss: 0.8947 - accuracy: 0.7241 - val_loss: 0.9252 - val_accuracy: 0.4286 - lr: 1.0000e-04\n",
            "Epoch 74/100\n",
            "4/4 [==============================] - 0s 51ms/step - loss: 0.8909 - accuracy: 0.6897 - val_loss: 0.9153 - val_accuracy: 0.4286 - lr: 1.0000e-04\n",
            "Epoch 75/100\n",
            "4/4 [==============================] - 0s 56ms/step - loss: 0.9167 - accuracy: 0.5862 - val_loss: 0.9073 - val_accuracy: 0.4286 - lr: 1.0000e-04\n",
            "Epoch 76/100\n",
            "4/4 [==============================] - 0s 54ms/step - loss: 0.9694 - accuracy: 0.4828 - val_loss: 0.9031 - val_accuracy: 0.4286 - lr: 1.0000e-04\n",
            "Epoch 77/100\n",
            "4/4 [==============================] - 0s 50ms/step - loss: 0.9919 - accuracy: 0.5172 - val_loss: 0.9022 - val_accuracy: 0.4286 - lr: 1.0000e-04\n",
            "Epoch 78/100\n",
            "4/4 [==============================] - 0s 48ms/step - loss: 0.9994 - accuracy: 0.4828 - val_loss: 0.9006 - val_accuracy: 0.4286 - lr: 1.0000e-04\n",
            "Epoch 79/100\n",
            "4/4 [==============================] - 0s 58ms/step - loss: 1.0155 - accuracy: 0.4483 - val_loss: 0.8973 - val_accuracy: 0.4286 - lr: 1.0000e-04\n",
            "Epoch 80/100\n",
            "4/4 [==============================] - 0s 58ms/step - loss: 0.9522 - accuracy: 0.5172 - val_loss: 0.8987 - val_accuracy: 0.4286 - lr: 1.0000e-04\n",
            "Epoch 81/100\n",
            "4/4 [==============================] - 0s 50ms/step - loss: 0.9886 - accuracy: 0.4483 - val_loss: 0.8967 - val_accuracy: 0.4286 - lr: 1.0000e-04\n",
            "Epoch 82/100\n",
            "4/4 [==============================] - 0s 46ms/step - loss: 0.9161 - accuracy: 0.5517 - val_loss: 0.8910 - val_accuracy: 0.4286 - lr: 1.0000e-04\n",
            "Epoch 83/100\n",
            "4/4 [==============================] - 0s 61ms/step - loss: 0.8648 - accuracy: 0.5517 - val_loss: 0.8898 - val_accuracy: 0.4286 - lr: 1.0000e-04\n",
            "Epoch 84/100\n",
            "4/4 [==============================] - 0s 58ms/step - loss: 0.8944 - accuracy: 0.5517 - val_loss: 0.8897 - val_accuracy: 0.4286 - lr: 1.0000e-04\n",
            "Epoch 85/100\n",
            "4/4 [==============================] - 0s 48ms/step - loss: 0.9497 - accuracy: 0.5172 - val_loss: 0.8896 - val_accuracy: 0.4286 - lr: 1.0000e-04\n",
            "Epoch 86/100\n",
            "4/4 [==============================] - 0s 59ms/step - loss: 0.8834 - accuracy: 0.6552 - val_loss: 0.8875 - val_accuracy: 0.4286 - lr: 1.0000e-04\n",
            "Epoch 87/100\n",
            "4/4 [==============================] - 0s 63ms/step - loss: 0.8476 - accuracy: 0.5862 - val_loss: 0.8839 - val_accuracy: 0.4286 - lr: 1.0000e-04\n",
            "Epoch 88/100\n",
            "4/4 [==============================] - 0s 56ms/step - loss: 0.9302 - accuracy: 0.5862 - val_loss: 0.8816 - val_accuracy: 0.4286 - lr: 1.0000e-04\n",
            "Epoch 89/100\n",
            "4/4 [==============================] - 0s 47ms/step - loss: 0.8963 - accuracy: 0.4828 - val_loss: 0.8737 - val_accuracy: 0.4286 - lr: 1.0000e-04\n",
            "Epoch 90/100\n",
            "4/4 [==============================] - 0s 57ms/step - loss: 0.9213 - accuracy: 0.5172 - val_loss: 0.8654 - val_accuracy: 0.4286 - lr: 1.0000e-04\n",
            "Epoch 91/100\n",
            "4/4 [==============================] - 0s 53ms/step - loss: 0.8647 - accuracy: 0.5517 - val_loss: 0.8527 - val_accuracy: 0.4286 - lr: 1.0000e-04\n",
            "Epoch 92/100\n",
            "4/4 [==============================] - 0s 51ms/step - loss: 0.8636 - accuracy: 0.6207 - val_loss: 0.8509 - val_accuracy: 0.4286 - lr: 1.0000e-04\n",
            "Epoch 93/100\n",
            "4/4 [==============================] - 0s 48ms/step - loss: 0.8329 - accuracy: 0.6552 - val_loss: 0.8433 - val_accuracy: 0.4286 - lr: 1.0000e-04\n",
            "Epoch 94/100\n",
            "4/4 [==============================] - 0s 52ms/step - loss: 0.9515 - accuracy: 0.5172 - val_loss: 0.8413 - val_accuracy: 0.4286 - lr: 1.0000e-04\n",
            "Epoch 95/100\n",
            "4/4 [==============================] - 0s 54ms/step - loss: 0.8520 - accuracy: 0.6207 - val_loss: 0.8393 - val_accuracy: 0.4286 - lr: 1.0000e-04\n",
            "Epoch 96/100\n",
            "4/4 [==============================] - 0s 58ms/step - loss: 0.8112 - accuracy: 0.6897 - val_loss: 0.8295 - val_accuracy: 0.4286 - lr: 1.0000e-04\n",
            "Epoch 97/100\n",
            "4/4 [==============================] - 0s 49ms/step - loss: 0.8382 - accuracy: 0.7241 - val_loss: 0.8198 - val_accuracy: 0.4286 - lr: 1.0000e-04\n",
            "Epoch 98/100\n",
            "4/4 [==============================] - 0s 56ms/step - loss: 0.8418 - accuracy: 0.6552 - val_loss: 0.8131 - val_accuracy: 0.4286 - lr: 1.0000e-04\n",
            "Epoch 99/100\n",
            "4/4 [==============================] - 0s 52ms/step - loss: 0.8616 - accuracy: 0.5172 - val_loss: 0.8114 - val_accuracy: 0.4286 - lr: 1.0000e-04\n",
            "Epoch 100/100\n",
            "4/4 [==============================] - 0s 51ms/step - loss: 0.8383 - accuracy: 0.5862 - val_loss: 0.8092 - val_accuracy: 0.4286 - lr: 1.0000e-04\n",
            "22/22 [==============================] - 0s 9ms/step - loss: 0.8979 - accuracy: 0.5657\n",
            "Score for fold 2: loss of 0.8979281187057495; accuracy of 56.57142996788025%\n",
            "Epoch 1/100\n",
            "4/4 [==============================] - 1s 126ms/step - loss: 1.1059 - accuracy: 0.3103 - val_loss: 1.1044 - val_accuracy: 0.4286 - lr: 1.0000e-04\n",
            "Epoch 2/100\n",
            "4/4 [==============================] - 0s 52ms/step - loss: 1.1152 - accuracy: 0.3103 - val_loss: 1.0996 - val_accuracy: 0.4286 - lr: 1.0000e-04\n",
            "Epoch 3/100\n",
            "4/4 [==============================] - 0s 50ms/step - loss: 1.0692 - accuracy: 0.4828 - val_loss: 1.0981 - val_accuracy: 0.4286 - lr: 1.0000e-04\n",
            "Epoch 4/100\n",
            "4/4 [==============================] - 0s 62ms/step - loss: 1.0507 - accuracy: 0.4138 - val_loss: 1.0970 - val_accuracy: 0.5714 - lr: 1.0000e-04\n",
            "Epoch 5/100\n",
            "4/4 [==============================] - 0s 57ms/step - loss: 1.0899 - accuracy: 0.3103 - val_loss: 1.0971 - val_accuracy: 0.5714 - lr: 1.0000e-04\n",
            "Epoch 6/100\n",
            "4/4 [==============================] - 0s 56ms/step - loss: 1.1122 - accuracy: 0.2414 - val_loss: 1.0971 - val_accuracy: 0.5714 - lr: 1.0000e-04\n",
            "Epoch 7/100\n",
            "4/4 [==============================] - 0s 56ms/step - loss: 1.0916 - accuracy: 0.3793 - val_loss: 1.0983 - val_accuracy: 0.5714 - lr: 1.0000e-04\n",
            "Epoch 8/100\n",
            "4/4 [==============================] - 0s 54ms/step - loss: 1.1064 - accuracy: 0.3448 - val_loss: 1.0984 - val_accuracy: 0.5714 - lr: 1.0000e-04\n",
            "Epoch 9/100\n",
            "4/4 [==============================] - 0s 57ms/step - loss: 1.0893 - accuracy: 0.2759 - val_loss: 1.0979 - val_accuracy: 0.4286 - lr: 1.0000e-04\n",
            "Epoch 10/100\n",
            "4/4 [==============================] - 0s 61ms/step - loss: 1.1098 - accuracy: 0.3448 - val_loss: 1.0971 - val_accuracy: 0.2857 - lr: 1.0000e-04\n",
            "Epoch 11/100\n",
            "4/4 [==============================] - 0s 55ms/step - loss: 1.0387 - accuracy: 0.4138 - val_loss: 1.0943 - val_accuracy: 0.2857 - lr: 1.0000e-04\n",
            "Epoch 12/100\n",
            "4/4 [==============================] - 0s 54ms/step - loss: 1.1514 - accuracy: 0.2414 - val_loss: 1.0908 - val_accuracy: 0.4286 - lr: 1.0000e-04\n",
            "Epoch 13/100\n",
            "4/4 [==============================] - 0s 57ms/step - loss: 1.0175 - accuracy: 0.4483 - val_loss: 1.0862 - val_accuracy: 0.4286 - lr: 1.0000e-04\n",
            "Epoch 14/100\n",
            "4/4 [==============================] - 0s 57ms/step - loss: 1.0505 - accuracy: 0.5172 - val_loss: 1.0827 - val_accuracy: 0.4286 - lr: 1.0000e-04\n",
            "Epoch 15/100\n",
            "4/4 [==============================] - 0s 63ms/step - loss: 1.0334 - accuracy: 0.5862 - val_loss: 1.0796 - val_accuracy: 0.4286 - lr: 1.0000e-04\n",
            "Epoch 16/100\n",
            "4/4 [==============================] - 0s 52ms/step - loss: 1.0339 - accuracy: 0.4138 - val_loss: 1.0784 - val_accuracy: 0.4286 - lr: 1.0000e-04\n",
            "Epoch 17/100\n",
            "4/4 [==============================] - 0s 60ms/step - loss: 1.0481 - accuracy: 0.4828 - val_loss: 1.0775 - val_accuracy: 0.4286 - lr: 1.0000e-04\n",
            "Epoch 18/100\n",
            "4/4 [==============================] - 0s 58ms/step - loss: 1.0520 - accuracy: 0.4138 - val_loss: 1.0758 - val_accuracy: 0.4286 - lr: 1.0000e-04\n",
            "Epoch 19/100\n",
            "4/4 [==============================] - 0s 61ms/step - loss: 1.0259 - accuracy: 0.3793 - val_loss: 1.0749 - val_accuracy: 0.4286 - lr: 1.0000e-04\n",
            "Epoch 20/100\n",
            "4/4 [==============================] - 0s 59ms/step - loss: 1.0645 - accuracy: 0.4828 - val_loss: 1.0727 - val_accuracy: 0.4286 - lr: 1.0000e-04\n",
            "Epoch 21/100\n",
            "4/4 [==============================] - 0s 60ms/step - loss: 1.0451 - accuracy: 0.4138 - val_loss: 1.0675 - val_accuracy: 0.4286 - lr: 1.0000e-04\n",
            "Epoch 22/100\n",
            "4/4 [==============================] - 0s 50ms/step - loss: 1.0427 - accuracy: 0.4483 - val_loss: 1.0618 - val_accuracy: 0.5714 - lr: 1.0000e-04\n",
            "Epoch 23/100\n",
            "4/4 [==============================] - 0s 59ms/step - loss: 1.1070 - accuracy: 0.3448 - val_loss: 1.0574 - val_accuracy: 0.5714 - lr: 1.0000e-04\n",
            "Epoch 24/100\n",
            "4/4 [==============================] - 0s 55ms/step - loss: 0.9717 - accuracy: 0.5517 - val_loss: 1.0521 - val_accuracy: 0.4286 - lr: 1.0000e-04\n",
            "Epoch 25/100\n",
            "4/4 [==============================] - 0s 57ms/step - loss: 1.0856 - accuracy: 0.3793 - val_loss: 1.0481 - val_accuracy: 0.5714 - lr: 1.0000e-04\n",
            "Epoch 26/100\n",
            "4/4 [==============================] - 0s 57ms/step - loss: 1.0525 - accuracy: 0.4483 - val_loss: 1.0453 - val_accuracy: 0.5714 - lr: 1.0000e-04\n",
            "Epoch 27/100\n",
            "4/4 [==============================] - 0s 54ms/step - loss: 1.0529 - accuracy: 0.4483 - val_loss: 1.0433 - val_accuracy: 0.5714 - lr: 1.0000e-04\n",
            "Epoch 28/100\n",
            "4/4 [==============================] - 0s 53ms/step - loss: 1.0676 - accuracy: 0.4828 - val_loss: 1.0406 - val_accuracy: 0.5714 - lr: 1.0000e-04\n",
            "Epoch 29/100\n",
            "4/4 [==============================] - 0s 59ms/step - loss: 0.9962 - accuracy: 0.5862 - val_loss: 1.0401 - val_accuracy: 0.5714 - lr: 1.0000e-04\n",
            "Epoch 30/100\n",
            "4/4 [==============================] - 0s 61ms/step - loss: 1.0313 - accuracy: 0.5172 - val_loss: 1.0415 - val_accuracy: 0.5714 - lr: 1.0000e-04\n",
            "Epoch 31/100\n",
            "4/4 [==============================] - 0s 62ms/step - loss: 1.1059 - accuracy: 0.3448 - val_loss: 1.0425 - val_accuracy: 0.7143 - lr: 1.0000e-04\n",
            "Epoch 32/100\n",
            "4/4 [==============================] - 0s 57ms/step - loss: 0.9978 - accuracy: 0.5172 - val_loss: 1.0403 - val_accuracy: 0.5714 - lr: 1.0000e-04\n",
            "Epoch 33/100\n",
            "4/4 [==============================] - 0s 56ms/step - loss: 0.9747 - accuracy: 0.5172 - val_loss: 1.0391 - val_accuracy: 0.5714 - lr: 1.0000e-04\n",
            "Epoch 34/100\n",
            "4/4 [==============================] - 0s 63ms/step - loss: 1.0224 - accuracy: 0.4483 - val_loss: 1.0384 - val_accuracy: 0.7143 - lr: 1.0000e-04\n",
            "Epoch 35/100\n",
            "4/4 [==============================] - 0s 52ms/step - loss: 1.0531 - accuracy: 0.4138 - val_loss: 1.0368 - val_accuracy: 0.7143 - lr: 1.0000e-04\n",
            "Epoch 36/100\n",
            "4/4 [==============================] - 0s 57ms/step - loss: 1.0508 - accuracy: 0.4483 - val_loss: 1.0319 - val_accuracy: 0.7143 - lr: 1.0000e-04\n",
            "Epoch 37/100\n",
            "4/4 [==============================] - 0s 60ms/step - loss: 1.0048 - accuracy: 0.5862 - val_loss: 1.0270 - val_accuracy: 0.7143 - lr: 1.0000e-04\n",
            "Epoch 38/100\n",
            "4/4 [==============================] - 0s 57ms/step - loss: 1.1003 - accuracy: 0.3103 - val_loss: 1.0251 - val_accuracy: 0.5714 - lr: 1.0000e-04\n",
            "Epoch 39/100\n",
            "4/4 [==============================] - 0s 66ms/step - loss: 1.0729 - accuracy: 0.3793 - val_loss: 1.0235 - val_accuracy: 0.5714 - lr: 1.0000e-04\n",
            "Epoch 40/100\n",
            "4/4 [==============================] - 0s 52ms/step - loss: 1.0042 - accuracy: 0.4138 - val_loss: 1.0223 - val_accuracy: 0.5714 - lr: 1.0000e-04\n",
            "Epoch 41/100\n",
            "4/4 [==============================] - 0s 59ms/step - loss: 0.9548 - accuracy: 0.6207 - val_loss: 1.0205 - val_accuracy: 0.5714 - lr: 1.0000e-04\n",
            "Epoch 42/100\n",
            "4/4 [==============================] - 0s 57ms/step - loss: 0.9836 - accuracy: 0.5862 - val_loss: 1.0189 - val_accuracy: 0.5714 - lr: 1.0000e-04\n",
            "Epoch 43/100\n",
            "4/4 [==============================] - 0s 59ms/step - loss: 1.0294 - accuracy: 0.5172 - val_loss: 1.0145 - val_accuracy: 0.5714 - lr: 1.0000e-04\n",
            "Epoch 44/100\n",
            "4/4 [==============================] - 0s 50ms/step - loss: 0.9168 - accuracy: 0.5517 - val_loss: 1.0123 - val_accuracy: 0.5714 - lr: 1.0000e-04\n",
            "Epoch 45/100\n",
            "4/4 [==============================] - 0s 59ms/step - loss: 0.9386 - accuracy: 0.5517 - val_loss: 1.0081 - val_accuracy: 0.5714 - lr: 1.0000e-04\n",
            "Epoch 46/100\n",
            "4/4 [==============================] - 0s 63ms/step - loss: 0.9581 - accuracy: 0.5517 - val_loss: 1.0043 - val_accuracy: 0.5714 - lr: 1.0000e-04\n",
            "Epoch 47/100\n",
            "4/4 [==============================] - 0s 50ms/step - loss: 0.9787 - accuracy: 0.5517 - val_loss: 1.0017 - val_accuracy: 0.5714 - lr: 1.0000e-04\n",
            "Epoch 48/100\n",
            "4/4 [==============================] - 0s 55ms/step - loss: 0.9858 - accuracy: 0.5517 - val_loss: 0.9991 - val_accuracy: 0.5714 - lr: 1.0000e-04\n",
            "Epoch 49/100\n",
            "4/4 [==============================] - 0s 62ms/step - loss: 0.9609 - accuracy: 0.5172 - val_loss: 0.9979 - val_accuracy: 0.5714 - lr: 1.0000e-04\n",
            "Epoch 50/100\n",
            "4/4 [==============================] - 0s 56ms/step - loss: 1.0039 - accuracy: 0.4483 - val_loss: 0.9971 - val_accuracy: 0.5714 - lr: 1.0000e-04\n",
            "Epoch 51/100\n",
            "4/4 [==============================] - 0s 55ms/step - loss: 0.9206 - accuracy: 0.6207 - val_loss: 0.9938 - val_accuracy: 0.5714 - lr: 1.0000e-04\n",
            "Epoch 52/100\n",
            "4/4 [==============================] - 0s 56ms/step - loss: 0.9615 - accuracy: 0.5517 - val_loss: 0.9924 - val_accuracy: 0.5714 - lr: 1.0000e-04\n",
            "Epoch 53/100\n",
            "4/4 [==============================] - 0s 52ms/step - loss: 0.9906 - accuracy: 0.4828 - val_loss: 0.9861 - val_accuracy: 0.5714 - lr: 1.0000e-04\n",
            "Epoch 54/100\n",
            "4/4 [==============================] - 0s 59ms/step - loss: 0.9524 - accuracy: 0.5172 - val_loss: 0.9846 - val_accuracy: 0.5714 - lr: 1.0000e-04\n",
            "Epoch 55/100\n",
            "4/4 [==============================] - 0s 49ms/step - loss: 0.9560 - accuracy: 0.5862 - val_loss: 0.9810 - val_accuracy: 0.7143 - lr: 1.0000e-04\n",
            "Epoch 56/100\n",
            "4/4 [==============================] - 0s 59ms/step - loss: 1.0137 - accuracy: 0.4483 - val_loss: 0.9760 - val_accuracy: 0.5714 - lr: 1.0000e-04\n",
            "Epoch 57/100\n",
            "4/4 [==============================] - 0s 53ms/step - loss: 0.9357 - accuracy: 0.6207 - val_loss: 0.9694 - val_accuracy: 0.5714 - lr: 1.0000e-04\n",
            "Epoch 58/100\n",
            "4/4 [==============================] - 0s 54ms/step - loss: 0.9458 - accuracy: 0.6207 - val_loss: 0.9657 - val_accuracy: 0.5714 - lr: 1.0000e-04\n",
            "Epoch 59/100\n",
            "4/4 [==============================] - 0s 59ms/step - loss: 0.9290 - accuracy: 0.6207 - val_loss: 0.9622 - val_accuracy: 0.5714 - lr: 1.0000e-04\n",
            "Epoch 60/100\n",
            "4/4 [==============================] - 0s 58ms/step - loss: 0.8521 - accuracy: 0.5172 - val_loss: 0.9583 - val_accuracy: 0.7143 - lr: 1.0000e-04\n",
            "Epoch 61/100\n",
            "4/4 [==============================] - 0s 57ms/step - loss: 0.8972 - accuracy: 0.5862 - val_loss: 0.9573 - val_accuracy: 0.5714 - lr: 1.0000e-04\n",
            "Epoch 62/100\n",
            "4/4 [==============================] - 0s 58ms/step - loss: 0.8320 - accuracy: 0.5862 - val_loss: 0.9579 - val_accuracy: 0.5714 - lr: 1.0000e-04\n",
            "Epoch 63/100\n",
            "4/4 [==============================] - 0s 49ms/step - loss: 0.8493 - accuracy: 0.6897 - val_loss: 0.9579 - val_accuracy: 0.5714 - lr: 1.0000e-04\n",
            "Epoch 64/100\n",
            "4/4 [==============================] - 0s 63ms/step - loss: 0.8382 - accuracy: 0.6207 - val_loss: 0.9550 - val_accuracy: 0.5714 - lr: 1.0000e-04\n",
            "Epoch 65/100\n",
            "4/4 [==============================] - 0s 55ms/step - loss: 0.8691 - accuracy: 0.6897 - val_loss: 0.9470 - val_accuracy: 0.5714 - lr: 1.0000e-04\n",
            "Epoch 66/100\n",
            "4/4 [==============================] - 0s 59ms/step - loss: 0.8962 - accuracy: 0.5172 - val_loss: 0.9354 - val_accuracy: 0.5714 - lr: 1.0000e-04\n",
            "Epoch 67/100\n",
            "4/4 [==============================] - 0s 55ms/step - loss: 0.8598 - accuracy: 0.6552 - val_loss: 0.9290 - val_accuracy: 0.5714 - lr: 1.0000e-04\n",
            "Epoch 68/100\n",
            "4/4 [==============================] - 0s 50ms/step - loss: 0.8233 - accuracy: 0.5862 - val_loss: 0.9210 - val_accuracy: 0.5714 - lr: 1.0000e-04\n",
            "Epoch 69/100\n",
            "4/4 [==============================] - 0s 59ms/step - loss: 0.8179 - accuracy: 0.5862 - val_loss: 0.9182 - val_accuracy: 0.5714 - lr: 1.0000e-04\n",
            "Epoch 70/100\n",
            "4/4 [==============================] - 0s 55ms/step - loss: 0.8330 - accuracy: 0.4828 - val_loss: 0.9143 - val_accuracy: 0.5714 - lr: 1.0000e-04\n",
            "Epoch 71/100\n",
            "4/4 [==============================] - 0s 63ms/step - loss: 0.9092 - accuracy: 0.5862 - val_loss: 0.9129 - val_accuracy: 0.5714 - lr: 1.0000e-04\n",
            "Epoch 72/100\n",
            "4/4 [==============================] - 0s 52ms/step - loss: 0.8965 - accuracy: 0.5862 - val_loss: 0.9134 - val_accuracy: 0.5714 - lr: 1.0000e-04\n",
            "Epoch 73/100\n",
            "4/4 [==============================] - 0s 50ms/step - loss: 0.8514 - accuracy: 0.5862 - val_loss: 0.9103 - val_accuracy: 0.5714 - lr: 1.0000e-04\n",
            "Epoch 74/100\n",
            "4/4 [==============================] - 0s 47ms/step - loss: 0.8586 - accuracy: 0.5862 - val_loss: 0.9115 - val_accuracy: 0.5714 - lr: 1.0000e-04\n",
            "Epoch 75/100\n",
            "4/4 [==============================] - 0s 53ms/step - loss: 0.7506 - accuracy: 0.7241 - val_loss: 0.9136 - val_accuracy: 0.5714 - lr: 1.0000e-04\n",
            "Epoch 76/100\n",
            "4/4 [==============================] - 0s 51ms/step - loss: 0.9326 - accuracy: 0.4483 - val_loss: 0.9187 - val_accuracy: 0.5714 - lr: 1.0000e-04\n",
            "Epoch 77/100\n",
            "4/4 [==============================] - 0s 62ms/step - loss: 0.7259 - accuracy: 0.7241 - val_loss: 0.9153 - val_accuracy: 0.5714 - lr: 1.0000e-04\n",
            "Epoch 78/100\n",
            "4/4 [==============================] - 0s 50ms/step - loss: 0.8866 - accuracy: 0.5517 - val_loss: 0.9067 - val_accuracy: 0.5714 - lr: 1.0000e-04\n",
            "Epoch 79/100\n",
            "4/4 [==============================] - 0s 58ms/step - loss: 0.8209 - accuracy: 0.6897 - val_loss: 0.8989 - val_accuracy: 0.5714 - lr: 1.0000e-04\n",
            "Epoch 80/100\n",
            "4/4 [==============================] - 0s 56ms/step - loss: 0.8180 - accuracy: 0.5862 - val_loss: 0.8960 - val_accuracy: 0.5714 - lr: 1.0000e-04\n",
            "Epoch 81/100\n",
            "4/4 [==============================] - 0s 56ms/step - loss: 0.8935 - accuracy: 0.5862 - val_loss: 0.8911 - val_accuracy: 0.7143 - lr: 1.0000e-04\n",
            "Epoch 82/100\n",
            "4/4 [==============================] - 0s 58ms/step - loss: 0.8678 - accuracy: 0.5862 - val_loss: 0.8919 - val_accuracy: 0.5714 - lr: 1.0000e-04\n",
            "Epoch 83/100\n",
            "4/4 [==============================] - 0s 62ms/step - loss: 0.8183 - accuracy: 0.5517 - val_loss: 0.8927 - val_accuracy: 0.5714 - lr: 1.0000e-04\n",
            "Epoch 84/100\n",
            "4/4 [==============================] - 0s 57ms/step - loss: 0.7897 - accuracy: 0.6552 - val_loss: 0.8920 - val_accuracy: 0.5714 - lr: 1.0000e-04\n",
            "Epoch 85/100\n",
            "4/4 [==============================] - 0s 60ms/step - loss: 0.8066 - accuracy: 0.5862 - val_loss: 0.8988 - val_accuracy: 0.5714 - lr: 1.0000e-04\n",
            "Epoch 86/100\n",
            "4/4 [==============================] - 0s 62ms/step - loss: 0.8450 - accuracy: 0.5517 - val_loss: 0.8966 - val_accuracy: 0.5714 - lr: 1.0000e-04\n",
            "Epoch 87/100\n",
            "4/4 [==============================] - 0s 49ms/step - loss: 0.8200 - accuracy: 0.7241 - val_loss: 0.8919 - val_accuracy: 0.5714 - lr: 1.0000e-04\n",
            "Epoch 88/100\n",
            "4/4 [==============================] - 0s 56ms/step - loss: 0.9049 - accuracy: 0.4483 - val_loss: 0.8812 - val_accuracy: 0.5714 - lr: 1.0000e-04\n",
            "Epoch 89/100\n",
            "4/4 [==============================] - 0s 58ms/step - loss: 0.8136 - accuracy: 0.6207 - val_loss: 0.8761 - val_accuracy: 0.5714 - lr: 1.0000e-04\n",
            "Epoch 90/100\n",
            "4/4 [==============================] - 0s 60ms/step - loss: 0.8478 - accuracy: 0.6207 - val_loss: 0.8719 - val_accuracy: 0.5714 - lr: 1.0000e-04\n",
            "Epoch 91/100\n",
            "4/4 [==============================] - 0s 60ms/step - loss: 0.7628 - accuracy: 0.7241 - val_loss: 0.8713 - val_accuracy: 0.5714 - lr: 1.0000e-04\n",
            "Epoch 92/100\n",
            "4/4 [==============================] - 0s 56ms/step - loss: 0.8319 - accuracy: 0.5517 - val_loss: 0.8678 - val_accuracy: 0.5714 - lr: 1.0000e-04\n",
            "Epoch 93/100\n",
            "4/4 [==============================] - 0s 52ms/step - loss: 0.7822 - accuracy: 0.6207 - val_loss: 0.8699 - val_accuracy: 0.5714 - lr: 1.0000e-04\n",
            "Epoch 94/100\n",
            "4/4 [==============================] - 0s 54ms/step - loss: 0.8551 - accuracy: 0.6552 - val_loss: 0.8597 - val_accuracy: 0.5714 - lr: 1.0000e-04\n",
            "Epoch 95/100\n",
            "4/4 [==============================] - 0s 58ms/step - loss: 0.7972 - accuracy: 0.6552 - val_loss: 0.8510 - val_accuracy: 0.5714 - lr: 1.0000e-04\n",
            "Epoch 96/100\n",
            "4/4 [==============================] - 0s 56ms/step - loss: 0.7069 - accuracy: 0.7241 - val_loss: 0.8469 - val_accuracy: 0.5714 - lr: 1.0000e-04\n",
            "Epoch 97/100\n",
            "4/4 [==============================] - 0s 60ms/step - loss: 0.6767 - accuracy: 0.7931 - val_loss: 0.8369 - val_accuracy: 0.5714 - lr: 1.0000e-04\n",
            "Epoch 98/100\n",
            "4/4 [==============================] - 0s 51ms/step - loss: 0.7121 - accuracy: 0.7586 - val_loss: 0.8293 - val_accuracy: 0.5714 - lr: 1.0000e-04\n",
            "Epoch 99/100\n",
            "4/4 [==============================] - 0s 53ms/step - loss: 0.7758 - accuracy: 0.6897 - val_loss: 0.8337 - val_accuracy: 0.5714 - lr: 1.0000e-04\n",
            "Epoch 100/100\n",
            "4/4 [==============================] - 0s 60ms/step - loss: 0.8304 - accuracy: 0.5517 - val_loss: 0.8424 - val_accuracy: 0.5714 - lr: 1.0000e-04\n",
            "22/22 [==============================] - 0s 10ms/step - loss: 0.8437 - accuracy: 0.5143\n",
            "Score for fold 3: loss of 0.8437471985816956; accuracy of 51.428574323654175%\n",
            "Epoch 1/100\n",
            "4/4 [==============================] - 2s 214ms/step - loss: 1.0483 - accuracy: 0.5172 - val_loss: 1.0855 - val_accuracy: 0.4286 - lr: 1.0000e-04\n",
            "Epoch 2/100\n",
            "4/4 [==============================] - 0s 114ms/step - loss: 1.1426 - accuracy: 0.3793 - val_loss: 1.0801 - val_accuracy: 0.2857 - lr: 1.0000e-04\n",
            "Epoch 3/100\n",
            "4/4 [==============================] - 0s 110ms/step - loss: 1.0262 - accuracy: 0.3793 - val_loss: 1.0775 - val_accuracy: 0.2857 - lr: 1.0000e-04\n",
            "Epoch 4/100\n",
            "4/4 [==============================] - 0s 91ms/step - loss: 1.1118 - accuracy: 0.3448 - val_loss: 1.0737 - val_accuracy: 0.2857 - lr: 1.0000e-04\n",
            "Epoch 5/100\n",
            "4/4 [==============================] - 0s 92ms/step - loss: 1.0628 - accuracy: 0.3793 - val_loss: 1.0681 - val_accuracy: 0.2857 - lr: 1.0000e-04\n",
            "Epoch 6/100\n",
            "4/4 [==============================] - 0s 107ms/step - loss: 1.1175 - accuracy: 0.2759 - val_loss: 1.0663 - val_accuracy: 0.4286 - lr: 1.0000e-04\n",
            "Epoch 7/100\n",
            "4/4 [==============================] - 0s 97ms/step - loss: 1.1210 - accuracy: 0.3103 - val_loss: 1.0624 - val_accuracy: 0.5714 - lr: 1.0000e-04\n",
            "Epoch 8/100\n",
            "4/4 [==============================] - 0s 99ms/step - loss: 1.1565 - accuracy: 0.3448 - val_loss: 1.0611 - val_accuracy: 0.4286 - lr: 1.0000e-04\n",
            "Epoch 9/100\n",
            "4/4 [==============================] - 0s 55ms/step - loss: 1.0600 - accuracy: 0.4828 - val_loss: 1.0577 - val_accuracy: 0.4286 - lr: 1.0000e-04\n",
            "Epoch 10/100\n",
            "4/4 [==============================] - 0s 62ms/step - loss: 1.1977 - accuracy: 0.3448 - val_loss: 1.0591 - val_accuracy: 0.4286 - lr: 1.0000e-04\n",
            "Epoch 11/100\n",
            "4/4 [==============================] - 0s 54ms/step - loss: 1.0771 - accuracy: 0.3793 - val_loss: 1.0590 - val_accuracy: 0.4286 - lr: 1.0000e-04\n",
            "Epoch 12/100\n",
            "4/4 [==============================] - 0s 57ms/step - loss: 1.1486 - accuracy: 0.2414 - val_loss: 1.0603 - val_accuracy: 0.4286 - lr: 1.0000e-04\n",
            "Epoch 13/100\n",
            "4/4 [==============================] - 0s 50ms/step - loss: 1.0930 - accuracy: 0.3103 - val_loss: 1.0623 - val_accuracy: 0.4286 - lr: 1.0000e-04\n",
            "Epoch 14/100\n",
            "4/4 [==============================] - 0s 60ms/step - loss: 1.0417 - accuracy: 0.4828 - val_loss: 1.0623 - val_accuracy: 0.4286 - lr: 1.0000e-04\n",
            "Epoch 15/100\n",
            "4/4 [==============================] - 0s 64ms/step - loss: 1.1215 - accuracy: 0.3793 - val_loss: 1.0584 - val_accuracy: 0.4286 - lr: 1.0000e-04\n",
            "Epoch 16/100\n",
            "4/4 [==============================] - 0s 62ms/step - loss: 1.0709 - accuracy: 0.3793 - val_loss: 1.0570 - val_accuracy: 0.4286 - lr: 1.0000e-04\n",
            "Epoch 17/100\n",
            "4/4 [==============================] - 0s 62ms/step - loss: 1.0376 - accuracy: 0.4483 - val_loss: 1.0541 - val_accuracy: 0.4286 - lr: 1.0000e-04\n",
            "Epoch 18/100\n",
            "4/4 [==============================] - 0s 58ms/step - loss: 1.1082 - accuracy: 0.3103 - val_loss: 1.0509 - val_accuracy: 0.4286 - lr: 1.0000e-04\n",
            "Epoch 19/100\n",
            "4/4 [==============================] - 0s 67ms/step - loss: 1.1470 - accuracy: 0.3448 - val_loss: 1.0487 - val_accuracy: 0.5714 - lr: 1.0000e-04\n",
            "Epoch 20/100\n",
            "4/4 [==============================] - 0s 61ms/step - loss: 0.9947 - accuracy: 0.5172 - val_loss: 1.0471 - val_accuracy: 0.5714 - lr: 1.0000e-04\n",
            "Epoch 21/100\n",
            "4/4 [==============================] - 0s 51ms/step - loss: 0.9963 - accuracy: 0.4138 - val_loss: 1.0450 - val_accuracy: 0.5714 - lr: 1.0000e-04\n",
            "Epoch 22/100\n",
            "4/4 [==============================] - 0s 54ms/step - loss: 0.9972 - accuracy: 0.5862 - val_loss: 1.0365 - val_accuracy: 0.5714 - lr: 1.0000e-04\n",
            "Epoch 23/100\n",
            "4/4 [==============================] - 0s 48ms/step - loss: 1.0694 - accuracy: 0.3448 - val_loss: 1.0319 - val_accuracy: 0.5714 - lr: 1.0000e-04\n",
            "Epoch 24/100\n",
            "4/4 [==============================] - 0s 52ms/step - loss: 1.0223 - accuracy: 0.4483 - val_loss: 1.0298 - val_accuracy: 0.5714 - lr: 1.0000e-04\n",
            "Epoch 25/100\n",
            "4/4 [==============================] - 0s 64ms/step - loss: 1.0562 - accuracy: 0.3793 - val_loss: 1.0263 - val_accuracy: 0.4286 - lr: 1.0000e-04\n",
            "Epoch 26/100\n",
            "4/4 [==============================] - 0s 61ms/step - loss: 0.9851 - accuracy: 0.4483 - val_loss: 1.0247 - val_accuracy: 0.4286 - lr: 1.0000e-04\n",
            "Epoch 27/100\n",
            "4/4 [==============================] - 0s 60ms/step - loss: 1.0579 - accuracy: 0.4483 - val_loss: 1.0237 - val_accuracy: 0.4286 - lr: 1.0000e-04\n",
            "Epoch 28/100\n",
            "4/4 [==============================] - 0s 62ms/step - loss: 1.0639 - accuracy: 0.4483 - val_loss: 1.0198 - val_accuracy: 0.4286 - lr: 1.0000e-04\n",
            "Epoch 29/100\n",
            "4/4 [==============================] - 0s 51ms/step - loss: 0.8939 - accuracy: 0.7586 - val_loss: 1.0170 - val_accuracy: 0.4286 - lr: 1.0000e-04\n",
            "Epoch 30/100\n",
            "4/4 [==============================] - 1s 139ms/step - loss: 0.9793 - accuracy: 0.5172 - val_loss: 1.0146 - val_accuracy: 0.4286 - lr: 1.0000e-04\n",
            "Epoch 31/100\n",
            "4/4 [==============================] - 0s 93ms/step - loss: 0.9756 - accuracy: 0.5172 - val_loss: 1.0085 - val_accuracy: 0.4286 - lr: 1.0000e-04\n",
            "Epoch 32/100\n",
            "4/4 [==============================] - 0s 63ms/step - loss: 0.9749 - accuracy: 0.4483 - val_loss: 1.0000 - val_accuracy: 0.4286 - lr: 1.0000e-04\n",
            "Epoch 33/100\n",
            "4/4 [==============================] - 0s 50ms/step - loss: 0.9828 - accuracy: 0.5517 - val_loss: 0.9940 - val_accuracy: 0.4286 - lr: 1.0000e-04\n",
            "Epoch 34/100\n",
            "4/4 [==============================] - 0s 54ms/step - loss: 0.9597 - accuracy: 0.5172 - val_loss: 0.9863 - val_accuracy: 0.4286 - lr: 1.0000e-04\n",
            "Epoch 35/100\n",
            "4/4 [==============================] - 0s 51ms/step - loss: 1.0058 - accuracy: 0.4483 - val_loss: 0.9813 - val_accuracy: 0.4286 - lr: 1.0000e-04\n",
            "Epoch 36/100\n",
            "4/4 [==============================] - 0s 60ms/step - loss: 1.0395 - accuracy: 0.4483 - val_loss: 0.9771 - val_accuracy: 0.4286 - lr: 1.0000e-04\n",
            "Epoch 37/100\n",
            "4/4 [==============================] - 0s 55ms/step - loss: 1.0045 - accuracy: 0.4138 - val_loss: 0.9735 - val_accuracy: 0.4286 - lr: 1.0000e-04\n",
            "Epoch 38/100\n",
            "4/4 [==============================] - 0s 60ms/step - loss: 0.9786 - accuracy: 0.4483 - val_loss: 0.9753 - val_accuracy: 0.4286 - lr: 1.0000e-04\n",
            "Epoch 39/100\n",
            "4/4 [==============================] - 0s 58ms/step - loss: 0.9864 - accuracy: 0.4828 - val_loss: 0.9775 - val_accuracy: 0.4286 - lr: 1.0000e-04\n",
            "Epoch 40/100\n",
            "4/4 [==============================] - 0s 53ms/step - loss: 0.9517 - accuracy: 0.5172 - val_loss: 0.9793 - val_accuracy: 0.4286 - lr: 1.0000e-04\n",
            "Epoch 41/100\n",
            "4/4 [==============================] - 0s 63ms/step - loss: 0.9630 - accuracy: 0.5172 - val_loss: 0.9750 - val_accuracy: 0.4286 - lr: 1.0000e-04\n",
            "Epoch 42/100\n",
            "4/4 [==============================] - 0s 58ms/step - loss: 0.9276 - accuracy: 0.5517 - val_loss: 0.9670 - val_accuracy: 0.4286 - lr: 1.0000e-04\n",
            "Epoch 43/100\n",
            "4/4 [==============================] - 0s 58ms/step - loss: 0.9660 - accuracy: 0.4828 - val_loss: 0.9618 - val_accuracy: 0.4286 - lr: 1.0000e-04\n",
            "Epoch 44/100\n",
            "4/4 [==============================] - 0s 60ms/step - loss: 0.9464 - accuracy: 0.5172 - val_loss: 0.9566 - val_accuracy: 0.4286 - lr: 1.0000e-04\n",
            "Epoch 45/100\n",
            "4/4 [==============================] - 0s 61ms/step - loss: 0.9757 - accuracy: 0.5862 - val_loss: 0.9516 - val_accuracy: 0.5714 - lr: 1.0000e-04\n",
            "Epoch 46/100\n",
            "4/4 [==============================] - 0s 59ms/step - loss: 0.9365 - accuracy: 0.4483 - val_loss: 0.9493 - val_accuracy: 0.4286 - lr: 1.0000e-04\n",
            "Epoch 47/100\n",
            "4/4 [==============================] - 0s 54ms/step - loss: 0.9214 - accuracy: 0.5862 - val_loss: 0.9489 - val_accuracy: 0.4286 - lr: 1.0000e-04\n",
            "Epoch 48/100\n",
            "4/4 [==============================] - 0s 51ms/step - loss: 0.8978 - accuracy: 0.5862 - val_loss: 0.9463 - val_accuracy: 0.5714 - lr: 1.0000e-04\n",
            "Epoch 49/100\n",
            "4/4 [==============================] - 0s 61ms/step - loss: 0.7899 - accuracy: 0.8276 - val_loss: 0.9438 - val_accuracy: 0.5714 - lr: 1.0000e-04\n",
            "Epoch 50/100\n",
            "4/4 [==============================] - 0s 64ms/step - loss: 0.8992 - accuracy: 0.6207 - val_loss: 0.9432 - val_accuracy: 0.4286 - lr: 1.0000e-04\n",
            "Epoch 51/100\n",
            "4/4 [==============================] - 0s 65ms/step - loss: 1.0158 - accuracy: 0.4138 - val_loss: 0.9382 - val_accuracy: 0.5714 - lr: 1.0000e-04\n",
            "Epoch 52/100\n",
            "4/4 [==============================] - 0s 60ms/step - loss: 0.9412 - accuracy: 0.5172 - val_loss: 0.9378 - val_accuracy: 0.4286 - lr: 1.0000e-04\n",
            "Epoch 53/100\n",
            "4/4 [==============================] - 0s 65ms/step - loss: 0.8699 - accuracy: 0.6207 - val_loss: 0.9365 - val_accuracy: 0.5714 - lr: 1.0000e-04\n",
            "Epoch 54/100\n",
            "4/4 [==============================] - 0s 64ms/step - loss: 0.9234 - accuracy: 0.4828 - val_loss: 0.9320 - val_accuracy: 0.4286 - lr: 1.0000e-04\n",
            "Epoch 55/100\n",
            "4/4 [==============================] - 0s 64ms/step - loss: 0.8998 - accuracy: 0.5862 - val_loss: 0.9275 - val_accuracy: 0.5714 - lr: 1.0000e-04\n",
            "Epoch 56/100\n",
            "4/4 [==============================] - 0s 62ms/step - loss: 0.8822 - accuracy: 0.6552 - val_loss: 0.9203 - val_accuracy: 0.7143 - lr: 1.0000e-04\n",
            "Epoch 57/100\n",
            "4/4 [==============================] - 0s 63ms/step - loss: 0.9487 - accuracy: 0.5172 - val_loss: 0.9186 - val_accuracy: 0.7143 - lr: 1.0000e-04\n",
            "Epoch 58/100\n",
            "4/4 [==============================] - 0s 62ms/step - loss: 0.9223 - accuracy: 0.5172 - val_loss: 0.9131 - val_accuracy: 0.7143 - lr: 1.0000e-04\n",
            "Epoch 59/100\n",
            "4/4 [==============================] - 0s 60ms/step - loss: 0.8294 - accuracy: 0.6207 - val_loss: 0.9107 - val_accuracy: 0.4286 - lr: 1.0000e-04\n",
            "Epoch 60/100\n",
            "4/4 [==============================] - 0s 62ms/step - loss: 0.9812 - accuracy: 0.5172 - val_loss: 0.9088 - val_accuracy: 0.7143 - lr: 1.0000e-04\n",
            "Epoch 61/100\n",
            "4/4 [==============================] - 0s 51ms/step - loss: 0.8608 - accuracy: 0.5862 - val_loss: 0.9085 - val_accuracy: 0.7143 - lr: 1.0000e-04\n",
            "Epoch 62/100\n",
            "4/4 [==============================] - 0s 63ms/step - loss: 0.8166 - accuracy: 0.6207 - val_loss: 0.9067 - val_accuracy: 0.7143 - lr: 1.0000e-04\n",
            "Epoch 63/100\n",
            "4/4 [==============================] - 0s 58ms/step - loss: 0.8691 - accuracy: 0.6897 - val_loss: 0.9028 - val_accuracy: 0.7143 - lr: 1.0000e-04\n",
            "Epoch 64/100\n",
            "4/4 [==============================] - 0s 59ms/step - loss: 0.7824 - accuracy: 0.7241 - val_loss: 0.8984 - val_accuracy: 0.7143 - lr: 1.0000e-04\n",
            "Epoch 65/100\n",
            "4/4 [==============================] - 0s 51ms/step - loss: 0.9416 - accuracy: 0.5517 - val_loss: 0.8942 - val_accuracy: 0.7143 - lr: 1.0000e-04\n",
            "Epoch 66/100\n",
            "4/4 [==============================] - 0s 63ms/step - loss: 0.9598 - accuracy: 0.5172 - val_loss: 0.8926 - val_accuracy: 0.7143 - lr: 1.0000e-04\n",
            "Epoch 67/100\n",
            "4/4 [==============================] - 0s 60ms/step - loss: 0.9151 - accuracy: 0.5517 - val_loss: 0.9010 - val_accuracy: 0.4286 - lr: 1.0000e-04\n",
            "Epoch 68/100\n",
            "4/4 [==============================] - 0s 67ms/step - loss: 0.8773 - accuracy: 0.4828 - val_loss: 0.9083 - val_accuracy: 0.5714 - lr: 1.0000e-04\n",
            "Epoch 69/100\n",
            "4/4 [==============================] - 0s 66ms/step - loss: 0.9822 - accuracy: 0.4483 - val_loss: 0.9136 - val_accuracy: 0.4286 - lr: 1.0000e-04\n",
            "Epoch 70/100\n",
            "4/4 [==============================] - 0s 61ms/step - loss: 0.9007 - accuracy: 0.5517 - val_loss: 0.9209 - val_accuracy: 0.4286 - lr: 1.0000e-04\n",
            "Epoch 71/100\n",
            "4/4 [==============================] - 0s 66ms/step - loss: 0.8958 - accuracy: 0.5172 - val_loss: 0.9243 - val_accuracy: 0.4286 - lr: 1.0000e-04\n",
            "Epoch 72/100\n",
            "4/4 [==============================] - 0s 61ms/step - loss: 0.9436 - accuracy: 0.4828 - val_loss: 0.9229 - val_accuracy: 0.4286 - lr: 1.0000e-04\n",
            "Epoch 73/100\n",
            "4/4 [==============================] - 0s 61ms/step - loss: 0.8592 - accuracy: 0.6552 - val_loss: 0.9222 - val_accuracy: 0.4286 - lr: 1.0000e-04\n",
            "Epoch 74/100\n",
            "4/4 [==============================] - 0s 51ms/step - loss: 0.7890 - accuracy: 0.5172 - val_loss: 0.9188 - val_accuracy: 0.4286 - lr: 1.0000e-04\n",
            "Epoch 75/100\n",
            "4/4 [==============================] - 0s 64ms/step - loss: 0.8458 - accuracy: 0.5862 - val_loss: 0.9129 - val_accuracy: 0.4286 - lr: 1.0000e-04\n",
            "Epoch 76/100\n",
            "4/4 [==============================] - 0s 58ms/step - loss: 0.8378 - accuracy: 0.6552 - val_loss: 0.9047 - val_accuracy: 0.4286 - lr: 1.0000e-04\n",
            "Epoch 77/100\n",
            "4/4 [==============================] - 0s 63ms/step - loss: 0.7986 - accuracy: 0.6207 - val_loss: 0.8967 - val_accuracy: 0.4286 - lr: 1.0000e-04\n",
            "Epoch 78/100\n",
            "4/4 [==============================] - 0s 55ms/step - loss: 0.7585 - accuracy: 0.6552 - val_loss: 0.8907 - val_accuracy: 0.5714 - lr: 1.0000e-04\n",
            "Epoch 79/100\n",
            "4/4 [==============================] - 0s 63ms/step - loss: 0.8440 - accuracy: 0.5862 - val_loss: 0.8900 - val_accuracy: 0.5714 - lr: 1.0000e-04\n",
            "Epoch 80/100\n",
            "4/4 [==============================] - 0s 56ms/step - loss: 0.7885 - accuracy: 0.6897 - val_loss: 0.8867 - val_accuracy: 0.5714 - lr: 1.0000e-04\n",
            "Epoch 81/100\n",
            "4/4 [==============================] - 0s 58ms/step - loss: 0.8572 - accuracy: 0.5172 - val_loss: 0.8872 - val_accuracy: 0.4286 - lr: 1.0000e-04\n",
            "Epoch 82/100\n",
            "4/4 [==============================] - 0s 54ms/step - loss: 0.7602 - accuracy: 0.5172 - val_loss: 0.8855 - val_accuracy: 0.4286 - lr: 1.0000e-04\n",
            "Epoch 83/100\n",
            "4/4 [==============================] - 0s 58ms/step - loss: 0.8420 - accuracy: 0.6552 - val_loss: 0.8825 - val_accuracy: 0.4286 - lr: 1.0000e-04\n",
            "Epoch 84/100\n",
            "4/4 [==============================] - 0s 60ms/step - loss: 0.8441 - accuracy: 0.5517 - val_loss: 0.8797 - val_accuracy: 0.5714 - lr: 1.0000e-04\n",
            "Epoch 85/100\n",
            "4/4 [==============================] - 0s 52ms/step - loss: 0.8547 - accuracy: 0.6207 - val_loss: 0.8747 - val_accuracy: 0.5714 - lr: 1.0000e-04\n",
            "Epoch 86/100\n",
            "4/4 [==============================] - 0s 62ms/step - loss: 0.7819 - accuracy: 0.5862 - val_loss: 0.8737 - val_accuracy: 0.5714 - lr: 1.0000e-04\n",
            "Epoch 87/100\n",
            "4/4 [==============================] - 0s 58ms/step - loss: 0.8726 - accuracy: 0.4483 - val_loss: 0.8729 - val_accuracy: 0.5714 - lr: 1.0000e-04\n",
            "Epoch 88/100\n",
            "4/4 [==============================] - 0s 60ms/step - loss: 0.8012 - accuracy: 0.7241 - val_loss: 0.8714 - val_accuracy: 0.5714 - lr: 1.0000e-04\n",
            "Epoch 89/100\n",
            "4/4 [==============================] - 0s 67ms/step - loss: 0.7609 - accuracy: 0.7241 - val_loss: 0.8725 - val_accuracy: 0.5714 - lr: 1.0000e-04\n",
            "Epoch 90/100\n",
            "4/4 [==============================] - 0s 59ms/step - loss: 0.8145 - accuracy: 0.5862 - val_loss: 0.8704 - val_accuracy: 0.5714 - lr: 1.0000e-04\n",
            "Epoch 91/100\n",
            "4/4 [==============================] - 0s 63ms/step - loss: 0.6992 - accuracy: 0.6897 - val_loss: 0.8678 - val_accuracy: 0.5714 - lr: 1.0000e-04\n",
            "Epoch 92/100\n",
            "4/4 [==============================] - 0s 50ms/step - loss: 0.7859 - accuracy: 0.6552 - val_loss: 0.8681 - val_accuracy: 0.5714 - lr: 1.0000e-04\n",
            "Epoch 93/100\n",
            "4/4 [==============================] - 0s 57ms/step - loss: 0.9159 - accuracy: 0.5172 - val_loss: 0.8649 - val_accuracy: 0.4286 - lr: 1.0000e-04\n",
            "Epoch 94/100\n",
            "4/4 [==============================] - 0s 53ms/step - loss: 0.7897 - accuracy: 0.5862 - val_loss: 0.8567 - val_accuracy: 0.7143 - lr: 1.0000e-04\n",
            "Epoch 95/100\n",
            "4/4 [==============================] - 0s 57ms/step - loss: 0.7262 - accuracy: 0.6897 - val_loss: 0.8578 - val_accuracy: 0.7143 - lr: 1.0000e-04\n",
            "Epoch 96/100\n",
            "4/4 [==============================] - 0s 57ms/step - loss: 0.8976 - accuracy: 0.4138 - val_loss: 0.8600 - val_accuracy: 0.7143 - lr: 1.0000e-04\n",
            "Epoch 97/100\n",
            "4/4 [==============================] - 0s 58ms/step - loss: 0.8020 - accuracy: 0.5517 - val_loss: 0.8608 - val_accuracy: 0.7143 - lr: 1.0000e-04\n",
            "Epoch 98/100\n",
            "4/4 [==============================] - 0s 55ms/step - loss: 0.6616 - accuracy: 0.6552 - val_loss: 0.8588 - val_accuracy: 0.7143 - lr: 1.0000e-04\n",
            "Epoch 99/100\n",
            "4/4 [==============================] - 0s 58ms/step - loss: 0.7859 - accuracy: 0.6207 - val_loss: 0.8571 - val_accuracy: 0.7143 - lr: 1.0000e-04\n",
            "Epoch 100/100\n",
            "4/4 [==============================] - 0s 62ms/step - loss: 0.6547 - accuracy: 0.7241 - val_loss: 0.8593 - val_accuracy: 0.7143 - lr: 1.0000e-04\n",
            "22/22 [==============================] - 0s 11ms/step - loss: 0.8824 - accuracy: 0.5771\n",
            "Score for fold 4: loss of 0.8823558688163757; accuracy of 57.71428346633911%\n",
            "Epoch 1/100\n",
            "4/4 [==============================] - 1s 126ms/step - loss: 1.1038 - accuracy: 0.4138 - val_loss: 1.1013 - val_accuracy: 0.2857 - lr: 1.0000e-04\n",
            "Epoch 2/100\n",
            "4/4 [==============================] - 0s 53ms/step - loss: 1.1084 - accuracy: 0.2759 - val_loss: 1.0962 - val_accuracy: 0.2857 - lr: 1.0000e-04\n",
            "Epoch 3/100\n",
            "4/4 [==============================] - 0s 51ms/step - loss: 1.0820 - accuracy: 0.4483 - val_loss: 1.0927 - val_accuracy: 0.4286 - lr: 1.0000e-04\n",
            "Epoch 4/100\n",
            "4/4 [==============================] - 0s 61ms/step - loss: 1.0799 - accuracy: 0.4828 - val_loss: 1.0915 - val_accuracy: 0.4286 - lr: 1.0000e-04\n",
            "Epoch 5/100\n",
            "4/4 [==============================] - 0s 58ms/step - loss: 1.0744 - accuracy: 0.3448 - val_loss: 1.0890 - val_accuracy: 0.5714 - lr: 1.0000e-04\n",
            "Epoch 6/100\n",
            "4/4 [==============================] - 0s 60ms/step - loss: 1.0982 - accuracy: 0.3793 - val_loss: 1.0864 - val_accuracy: 0.7143 - lr: 1.0000e-04\n",
            "Epoch 7/100\n",
            "4/4 [==============================] - 0s 56ms/step - loss: 1.0976 - accuracy: 0.3448 - val_loss: 1.0851 - val_accuracy: 0.8571 - lr: 1.0000e-04\n",
            "Epoch 8/100\n",
            "4/4 [==============================] - 0s 61ms/step - loss: 1.0799 - accuracy: 0.3793 - val_loss: 1.0848 - val_accuracy: 0.5714 - lr: 1.0000e-04\n",
            "Epoch 9/100\n",
            "4/4 [==============================] - 0s 59ms/step - loss: 1.0489 - accuracy: 0.4483 - val_loss: 1.0826 - val_accuracy: 0.5714 - lr: 1.0000e-04\n",
            "Epoch 10/100\n",
            "4/4 [==============================] - 0s 61ms/step - loss: 1.0977 - accuracy: 0.4483 - val_loss: 1.0808 - val_accuracy: 0.5714 - lr: 1.0000e-04\n",
            "Epoch 11/100\n",
            "4/4 [==============================] - 0s 60ms/step - loss: 1.0854 - accuracy: 0.5517 - val_loss: 1.0789 - val_accuracy: 0.5714 - lr: 1.0000e-04\n",
            "Epoch 12/100\n",
            "4/4 [==============================] - 0s 59ms/step - loss: 1.0643 - accuracy: 0.4828 - val_loss: 1.0762 - val_accuracy: 0.5714 - lr: 1.0000e-04\n",
            "Epoch 13/100\n",
            "4/4 [==============================] - 0s 49ms/step - loss: 1.0722 - accuracy: 0.3793 - val_loss: 1.0733 - val_accuracy: 0.5714 - lr: 1.0000e-04\n",
            "Epoch 14/100\n",
            "4/4 [==============================] - 0s 59ms/step - loss: 1.0910 - accuracy: 0.4828 - val_loss: 1.0697 - val_accuracy: 0.5714 - lr: 1.0000e-04\n",
            "Epoch 15/100\n",
            "4/4 [==============================] - 0s 64ms/step - loss: 1.1018 - accuracy: 0.4483 - val_loss: 1.0679 - val_accuracy: 0.7143 - lr: 1.0000e-04\n",
            "Epoch 16/100\n",
            "4/4 [==============================] - 0s 62ms/step - loss: 1.1186 - accuracy: 0.4138 - val_loss: 1.0660 - val_accuracy: 0.7143 - lr: 1.0000e-04\n",
            "Epoch 17/100\n",
            "4/4 [==============================] - 0s 60ms/step - loss: 1.0838 - accuracy: 0.4828 - val_loss: 1.0638 - val_accuracy: 0.5714 - lr: 1.0000e-04\n",
            "Epoch 18/100\n",
            "4/4 [==============================] - 0s 63ms/step - loss: 1.0536 - accuracy: 0.5172 - val_loss: 1.0623 - val_accuracy: 0.5714 - lr: 1.0000e-04\n",
            "Epoch 19/100\n",
            "4/4 [==============================] - 0s 61ms/step - loss: 1.0723 - accuracy: 0.4138 - val_loss: 1.0602 - val_accuracy: 0.7143 - lr: 1.0000e-04\n",
            "Epoch 20/100\n",
            "4/4 [==============================] - 0s 64ms/step - loss: 1.0700 - accuracy: 0.3448 - val_loss: 1.0563 - val_accuracy: 0.5714 - lr: 1.0000e-04\n",
            "Epoch 21/100\n",
            "4/4 [==============================] - 0s 54ms/step - loss: 1.0930 - accuracy: 0.3793 - val_loss: 1.0524 - val_accuracy: 0.5714 - lr: 1.0000e-04\n",
            "Epoch 22/100\n",
            "4/4 [==============================] - 0s 50ms/step - loss: 1.0980 - accuracy: 0.4138 - val_loss: 1.0493 - val_accuracy: 0.5714 - lr: 1.0000e-04\n",
            "Epoch 23/100\n",
            "4/4 [==============================] - 0s 55ms/step - loss: 1.0714 - accuracy: 0.3793 - val_loss: 1.0463 - val_accuracy: 0.5714 - lr: 1.0000e-04\n",
            "Epoch 24/100\n",
            "4/4 [==============================] - 0s 63ms/step - loss: 1.0648 - accuracy: 0.3103 - val_loss: 1.0432 - val_accuracy: 0.5714 - lr: 1.0000e-04\n",
            "Epoch 25/100\n",
            "4/4 [==============================] - 0s 51ms/step - loss: 1.0722 - accuracy: 0.5517 - val_loss: 1.0400 - val_accuracy: 0.5714 - lr: 1.0000e-04\n",
            "Epoch 26/100\n",
            "4/4 [==============================] - 0s 50ms/step - loss: 1.1080 - accuracy: 0.3103 - val_loss: 1.0365 - val_accuracy: 0.5714 - lr: 1.0000e-04\n",
            "Epoch 27/100\n",
            "4/4 [==============================] - 0s 60ms/step - loss: 1.0853 - accuracy: 0.3793 - val_loss: 1.0336 - val_accuracy: 0.5714 - lr: 1.0000e-04\n",
            "Epoch 28/100\n",
            "4/4 [==============================] - 0s 54ms/step - loss: 1.0822 - accuracy: 0.3793 - val_loss: 1.0308 - val_accuracy: 0.5714 - lr: 1.0000e-04\n",
            "Epoch 29/100\n",
            "4/4 [==============================] - 0s 62ms/step - loss: 1.0681 - accuracy: 0.4828 - val_loss: 1.0285 - val_accuracy: 0.5714 - lr: 1.0000e-04\n",
            "Epoch 30/100\n",
            "4/4 [==============================] - 0s 61ms/step - loss: 1.0777 - accuracy: 0.3448 - val_loss: 1.0266 - val_accuracy: 0.5714 - lr: 1.0000e-04\n",
            "Epoch 31/100\n",
            "4/4 [==============================] - 0s 65ms/step - loss: 1.0803 - accuracy: 0.3793 - val_loss: 1.0256 - val_accuracy: 0.5714 - lr: 1.0000e-04\n",
            "Epoch 32/100\n",
            "4/4 [==============================] - 0s 63ms/step - loss: 1.0958 - accuracy: 0.4138 - val_loss: 1.0256 - val_accuracy: 0.5714 - lr: 1.0000e-04\n",
            "Epoch 33/100\n",
            "4/4 [==============================] - 0s 60ms/step - loss: 1.0555 - accuracy: 0.5172 - val_loss: 1.0246 - val_accuracy: 0.5714 - lr: 1.0000e-04\n",
            "Epoch 34/100\n",
            "4/4 [==============================] - 0s 54ms/step - loss: 1.0576 - accuracy: 0.5517 - val_loss: 1.0224 - val_accuracy: 0.5714 - lr: 1.0000e-04\n",
            "Epoch 35/100\n",
            "4/4 [==============================] - 0s 66ms/step - loss: 1.0914 - accuracy: 0.4483 - val_loss: 1.0197 - val_accuracy: 0.5714 - lr: 1.0000e-04\n",
            "Epoch 36/100\n",
            "4/4 [==============================] - 0s 59ms/step - loss: 1.0522 - accuracy: 0.4828 - val_loss: 1.0175 - val_accuracy: 0.5714 - lr: 1.0000e-04\n",
            "Epoch 37/100\n",
            "4/4 [==============================] - 0s 56ms/step - loss: 0.9995 - accuracy: 0.6207 - val_loss: 1.0141 - val_accuracy: 0.5714 - lr: 1.0000e-04\n",
            "Epoch 38/100\n",
            "4/4 [==============================] - 0s 56ms/step - loss: 1.0530 - accuracy: 0.4138 - val_loss: 1.0105 - val_accuracy: 0.5714 - lr: 1.0000e-04\n",
            "Epoch 39/100\n",
            "4/4 [==============================] - 0s 59ms/step - loss: 1.0855 - accuracy: 0.4138 - val_loss: 1.0081 - val_accuracy: 0.5714 - lr: 1.0000e-04\n",
            "Epoch 40/100\n",
            "4/4 [==============================] - 0s 60ms/step - loss: 1.0597 - accuracy: 0.4483 - val_loss: 1.0060 - val_accuracy: 0.5714 - lr: 1.0000e-04\n",
            "Epoch 41/100\n",
            "4/4 [==============================] - 0s 64ms/step - loss: 1.0331 - accuracy: 0.4828 - val_loss: 1.0035 - val_accuracy: 0.5714 - lr: 1.0000e-04\n",
            "Epoch 42/100\n",
            "4/4 [==============================] - 0s 63ms/step - loss: 1.0316 - accuracy: 0.4483 - val_loss: 1.0012 - val_accuracy: 0.5714 - lr: 1.0000e-04\n",
            "Epoch 43/100\n",
            "4/4 [==============================] - 0s 62ms/step - loss: 1.0451 - accuracy: 0.3448 - val_loss: 0.9986 - val_accuracy: 0.5714 - lr: 1.0000e-04\n",
            "Epoch 44/100\n",
            "4/4 [==============================] - 0s 60ms/step - loss: 1.0573 - accuracy: 0.3448 - val_loss: 0.9950 - val_accuracy: 0.5714 - lr: 1.0000e-04\n",
            "Epoch 45/100\n",
            "4/4 [==============================] - 0s 56ms/step - loss: 1.0519 - accuracy: 0.3793 - val_loss: 0.9919 - val_accuracy: 0.5714 - lr: 1.0000e-04\n",
            "Epoch 46/100\n",
            "4/4 [==============================] - 0s 57ms/step - loss: 1.0105 - accuracy: 0.6207 - val_loss: 0.9901 - val_accuracy: 0.5714 - lr: 1.0000e-04\n",
            "Epoch 47/100\n",
            "4/4 [==============================] - 0s 60ms/step - loss: 1.0536 - accuracy: 0.4483 - val_loss: 0.9872 - val_accuracy: 0.5714 - lr: 1.0000e-04\n",
            "Epoch 48/100\n",
            "4/4 [==============================] - 0s 55ms/step - loss: 1.0570 - accuracy: 0.4138 - val_loss: 0.9840 - val_accuracy: 0.5714 - lr: 1.0000e-04\n",
            "Epoch 49/100\n",
            "4/4 [==============================] - 0s 64ms/step - loss: 1.0737 - accuracy: 0.3448 - val_loss: 0.9817 - val_accuracy: 0.5714 - lr: 1.0000e-04\n",
            "Epoch 50/100\n",
            "4/4 [==============================] - 0s 59ms/step - loss: 1.0349 - accuracy: 0.4483 - val_loss: 0.9795 - val_accuracy: 0.5714 - lr: 1.0000e-04\n",
            "Epoch 51/100\n",
            "4/4 [==============================] - 0s 58ms/step - loss: 1.0452 - accuracy: 0.5172 - val_loss: 0.9766 - val_accuracy: 0.5714 - lr: 1.0000e-04\n",
            "Epoch 52/100\n",
            "4/4 [==============================] - 0s 59ms/step - loss: 1.0699 - accuracy: 0.4828 - val_loss: 0.9738 - val_accuracy: 0.5714 - lr: 1.0000e-04\n",
            "Epoch 53/100\n",
            "4/4 [==============================] - 0s 72ms/step - loss: 1.0434 - accuracy: 0.4483 - val_loss: 0.9711 - val_accuracy: 0.5714 - lr: 1.0000e-04\n",
            "Epoch 54/100\n",
            "4/4 [==============================] - 0s 56ms/step - loss: 1.0096 - accuracy: 0.6207 - val_loss: 0.9677 - val_accuracy: 0.5714 - lr: 1.0000e-04\n",
            "Epoch 55/100\n",
            "4/4 [==============================] - 0s 59ms/step - loss: 0.9387 - accuracy: 0.7241 - val_loss: 0.9636 - val_accuracy: 0.5714 - lr: 1.0000e-04\n",
            "Epoch 56/100\n",
            "4/4 [==============================] - 0s 60ms/step - loss: 0.9955 - accuracy: 0.5517 - val_loss: 0.9574 - val_accuracy: 0.5714 - lr: 1.0000e-04\n",
            "Epoch 57/100\n",
            "4/4 [==============================] - 0s 62ms/step - loss: 1.0085 - accuracy: 0.5172 - val_loss: 0.9507 - val_accuracy: 0.5714 - lr: 1.0000e-04\n",
            "Epoch 58/100\n",
            "4/4 [==============================] - 0s 62ms/step - loss: 1.0568 - accuracy: 0.5517 - val_loss: 0.9449 - val_accuracy: 0.5714 - lr: 1.0000e-04\n",
            "Epoch 59/100\n",
            "4/4 [==============================] - 0s 60ms/step - loss: 1.0182 - accuracy: 0.5172 - val_loss: 0.9401 - val_accuracy: 0.5714 - lr: 1.0000e-04\n",
            "Epoch 60/100\n",
            "4/4 [==============================] - 0s 55ms/step - loss: 1.0323 - accuracy: 0.4828 - val_loss: 0.9348 - val_accuracy: 0.5714 - lr: 1.0000e-04\n",
            "Epoch 61/100\n",
            "4/4 [==============================] - 0s 51ms/step - loss: 0.9639 - accuracy: 0.6207 - val_loss: 0.9296 - val_accuracy: 0.5714 - lr: 1.0000e-04\n",
            "Epoch 62/100\n",
            "4/4 [==============================] - 0s 62ms/step - loss: 0.9485 - accuracy: 0.6552 - val_loss: 0.9239 - val_accuracy: 0.5714 - lr: 1.0000e-04\n",
            "Epoch 63/100\n",
            "4/4 [==============================] - 0s 53ms/step - loss: 0.9919 - accuracy: 0.4828 - val_loss: 0.9178 - val_accuracy: 0.5714 - lr: 1.0000e-04\n",
            "Epoch 64/100\n",
            "4/4 [==============================] - 0s 66ms/step - loss: 0.9719 - accuracy: 0.6552 - val_loss: 0.9123 - val_accuracy: 0.5714 - lr: 1.0000e-04\n",
            "Epoch 65/100\n",
            "4/4 [==============================] - 0s 52ms/step - loss: 1.0005 - accuracy: 0.4483 - val_loss: 0.9075 - val_accuracy: 0.5714 - lr: 1.0000e-04\n",
            "Epoch 66/100\n",
            "4/4 [==============================] - 0s 61ms/step - loss: 1.0188 - accuracy: 0.3793 - val_loss: 0.9033 - val_accuracy: 0.5714 - lr: 1.0000e-04\n",
            "Epoch 67/100\n",
            "4/4 [==============================] - 0s 55ms/step - loss: 0.9294 - accuracy: 0.4828 - val_loss: 0.9002 - val_accuracy: 0.5714 - lr: 1.0000e-04\n",
            "Epoch 68/100\n",
            "4/4 [==============================] - 0s 65ms/step - loss: 0.9460 - accuracy: 0.5862 - val_loss: 0.8945 - val_accuracy: 0.5714 - lr: 1.0000e-04\n",
            "Epoch 69/100\n",
            "4/4 [==============================] - 0s 58ms/step - loss: 1.0050 - accuracy: 0.5517 - val_loss: 0.8895 - val_accuracy: 0.5714 - lr: 1.0000e-04\n",
            "Epoch 70/100\n",
            "4/4 [==============================] - 0s 63ms/step - loss: 0.9769 - accuracy: 0.6552 - val_loss: 0.8853 - val_accuracy: 0.5714 - lr: 1.0000e-04\n",
            "Epoch 71/100\n",
            "4/4 [==============================] - 0s 58ms/step - loss: 0.9985 - accuracy: 0.4483 - val_loss: 0.8818 - val_accuracy: 0.5714 - lr: 1.0000e-04\n",
            "Epoch 72/100\n",
            "4/4 [==============================] - 0s 57ms/step - loss: 1.0651 - accuracy: 0.3793 - val_loss: 0.8793 - val_accuracy: 0.5714 - lr: 1.0000e-04\n",
            "Epoch 73/100\n",
            "4/4 [==============================] - 0s 58ms/step - loss: 0.9466 - accuracy: 0.5172 - val_loss: 0.8790 - val_accuracy: 0.5714 - lr: 1.0000e-04\n",
            "Epoch 74/100\n",
            "4/4 [==============================] - 0s 57ms/step - loss: 1.0006 - accuracy: 0.5172 - val_loss: 0.8770 - val_accuracy: 0.5714 - lr: 1.0000e-04\n",
            "Epoch 75/100\n",
            "4/4 [==============================] - 0s 60ms/step - loss: 0.9455 - accuracy: 0.4483 - val_loss: 0.8740 - val_accuracy: 0.5714 - lr: 1.0000e-04\n",
            "Epoch 76/100\n",
            "4/4 [==============================] - 0s 60ms/step - loss: 0.9332 - accuracy: 0.5172 - val_loss: 0.8686 - val_accuracy: 0.5714 - lr: 1.0000e-04\n",
            "Epoch 77/100\n",
            "4/4 [==============================] - 0s 58ms/step - loss: 0.9889 - accuracy: 0.5172 - val_loss: 0.8656 - val_accuracy: 0.5714 - lr: 1.0000e-04\n",
            "Epoch 78/100\n",
            "4/4 [==============================] - 0s 58ms/step - loss: 0.9192 - accuracy: 0.5862 - val_loss: 0.8603 - val_accuracy: 0.5714 - lr: 1.0000e-04\n",
            "Epoch 79/100\n",
            "4/4 [==============================] - 0s 58ms/step - loss: 0.9815 - accuracy: 0.3448 - val_loss: 0.8557 - val_accuracy: 0.5714 - lr: 1.0000e-04\n",
            "Epoch 80/100\n",
            "4/4 [==============================] - 0s 52ms/step - loss: 0.9352 - accuracy: 0.5862 - val_loss: 0.8474 - val_accuracy: 0.5714 - lr: 1.0000e-04\n",
            "Epoch 81/100\n",
            "4/4 [==============================] - 0s 61ms/step - loss: 1.0100 - accuracy: 0.4483 - val_loss: 0.8398 - val_accuracy: 0.5714 - lr: 1.0000e-04\n",
            "Epoch 82/100\n",
            "4/4 [==============================] - 0s 57ms/step - loss: 0.9776 - accuracy: 0.4138 - val_loss: 0.8337 - val_accuracy: 0.5714 - lr: 1.0000e-04\n",
            "Epoch 83/100\n",
            "4/4 [==============================] - 0s 60ms/step - loss: 0.8968 - accuracy: 0.5517 - val_loss: 0.8269 - val_accuracy: 0.5714 - lr: 1.0000e-04\n",
            "Epoch 84/100\n",
            "4/4 [==============================] - 0s 61ms/step - loss: 0.9155 - accuracy: 0.4828 - val_loss: 0.8222 - val_accuracy: 0.5714 - lr: 1.0000e-04\n",
            "Epoch 85/100\n",
            "4/4 [==============================] - 0s 63ms/step - loss: 0.9362 - accuracy: 0.5517 - val_loss: 0.8177 - val_accuracy: 0.5714 - lr: 1.0000e-04\n",
            "Epoch 86/100\n",
            "4/4 [==============================] - 1s 220ms/step - loss: 0.9415 - accuracy: 0.4483 - val_loss: 0.8139 - val_accuracy: 0.5714 - lr: 1.0000e-04\n",
            "Epoch 87/100\n",
            "4/4 [==============================] - 1s 124ms/step - loss: 0.8958 - accuracy: 0.5172 - val_loss: 0.8096 - val_accuracy: 0.5714 - lr: 1.0000e-04\n",
            "Epoch 88/100\n",
            "4/4 [==============================] - 0s 124ms/step - loss: 0.8733 - accuracy: 0.5517 - val_loss: 0.8032 - val_accuracy: 0.7143 - lr: 1.0000e-04\n",
            "Epoch 89/100\n",
            "4/4 [==============================] - 0s 82ms/step - loss: 0.8465 - accuracy: 0.6207 - val_loss: 0.7945 - val_accuracy: 0.7143 - lr: 1.0000e-04\n",
            "Epoch 90/100\n",
            "4/4 [==============================] - 0s 70ms/step - loss: 1.0126 - accuracy: 0.4483 - val_loss: 0.7869 - val_accuracy: 0.7143 - lr: 1.0000e-04\n",
            "Epoch 91/100\n",
            "4/4 [==============================] - 0s 83ms/step - loss: 0.8924 - accuracy: 0.5172 - val_loss: 0.7817 - val_accuracy: 0.7143 - lr: 1.0000e-04\n",
            "Epoch 92/100\n",
            "4/4 [==============================] - 0s 82ms/step - loss: 0.8933 - accuracy: 0.5517 - val_loss: 0.7776 - val_accuracy: 0.8571 - lr: 1.0000e-04\n",
            "Epoch 93/100\n",
            "4/4 [==============================] - 0s 74ms/step - loss: 0.8378 - accuracy: 0.6552 - val_loss: 0.7737 - val_accuracy: 0.7143 - lr: 1.0000e-04\n",
            "Epoch 94/100\n",
            "4/4 [==============================] - 0s 79ms/step - loss: 0.9025 - accuracy: 0.5517 - val_loss: 0.7676 - val_accuracy: 0.7143 - lr: 1.0000e-04\n",
            "Epoch 95/100\n",
            "4/4 [==============================] - 0s 81ms/step - loss: 0.9517 - accuracy: 0.4483 - val_loss: 0.7640 - val_accuracy: 0.7143 - lr: 1.0000e-04\n",
            "Epoch 96/100\n",
            "4/4 [==============================] - 0s 71ms/step - loss: 0.8780 - accuracy: 0.6897 - val_loss: 0.7612 - val_accuracy: 0.7143 - lr: 1.0000e-04\n",
            "Epoch 97/100\n",
            "4/4 [==============================] - 0s 79ms/step - loss: 0.8852 - accuracy: 0.6897 - val_loss: 0.7586 - val_accuracy: 0.7143 - lr: 1.0000e-04\n",
            "Epoch 98/100\n",
            "4/4 [==============================] - 0s 76ms/step - loss: 0.8722 - accuracy: 0.5172 - val_loss: 0.7516 - val_accuracy: 0.5714 - lr: 1.0000e-04\n",
            "Epoch 99/100\n",
            "4/4 [==============================] - 0s 71ms/step - loss: 0.9260 - accuracy: 0.6552 - val_loss: 0.7458 - val_accuracy: 0.5714 - lr: 1.0000e-04\n",
            "Epoch 100/100\n",
            "4/4 [==============================] - 0s 84ms/step - loss: 0.8531 - accuracy: 0.6897 - val_loss: 0.7415 - val_accuracy: 0.5714 - lr: 1.0000e-04\n",
            "22/22 [==============================] - 0s 16ms/step - loss: 0.8958 - accuracy: 0.5829\n",
            "Score for fold 5: loss of 0.8958361148834229; accuracy of 58.28571319580078%\n"
          ]
        }
      ]
    },
    {
      "cell_type": "code",
      "source": [
        "\n",
        "# == Provide average scores ==\n",
        "print('------------------------------------------------------------------------')\n",
        "print('Score per fold')\n",
        "for i in range(0, len(acc_per_fold)):\n",
        "  print('------------------------------------------------------------------------')\n",
        "  print(f'> Fold {i+1} - Loss: {loss_per_fold[i]} - Accuracy: {acc_per_fold[i] * 100}%')\n",
        "  row.append(loss_per_fold[i])\n",
        "  row.append(acc_per_fold[i])\n",
        "\n",
        "print('------------------------------------------------------------------------')\n",
        "print('Average scores for all folds:')\n",
        "print(f'> Accuracy: {np.mean(acc_per_fold) * 100} (+- {np.std(acc_per_fold) * 100})')\n",
        "print(f'> Loss: {np.mean(loss_per_fold)}')\n",
        "print('------------------------------------------------------------------------')\n",
        "\n",
        "row.append(np.mean(acc_per_fold))\n",
        "row.append(np.std(acc_per_fold))\n",
        "row.append(np.mean(loss_per_fold))\n",
        "row.append(BATCH_SIZE)\n",
        "row.append(EPOCHS)"
      ],
      "metadata": {
        "colab": {
          "base_uri": "https://localhost:8080/"
        },
        "id": "NruadTK6IZ5d",
        "outputId": "90f7a403-5fa8-4f70-ed41-d0cd04e8e738"
      },
      "execution_count": null,
      "outputs": [
        {
          "output_type": "stream",
          "name": "stdout",
          "text": [
            "------------------------------------------------------------------------\n",
            "Score per fold\n",
            "------------------------------------------------------------------------\n",
            "> Fold 1 - Loss: 0.9410296678543091 - Accuracy: 53.14285755157471%\n",
            "------------------------------------------------------------------------\n",
            "> Fold 2 - Loss: 0.8979281187057495 - Accuracy: 56.57142996788025%\n",
            "------------------------------------------------------------------------\n",
            "> Fold 3 - Loss: 0.8437471985816956 - Accuracy: 51.428574323654175%\n",
            "------------------------------------------------------------------------\n",
            "> Fold 4 - Loss: 0.8823558688163757 - Accuracy: 57.71428346633911%\n",
            "------------------------------------------------------------------------\n",
            "> Fold 5 - Loss: 0.8958361148834229 - Accuracy: 58.28571319580078%\n",
            "------------------------------------------------------------------------\n",
            "Average scores for all folds:\n",
            "> Accuracy: 55.4285717010498 (+- 2.6802361465122835)\n",
            "> Loss: 0.8921793937683106\n",
            "------------------------------------------------------------------------\n"
          ]
        }
      ]
    },
    {
      "cell_type": "code",
      "source": [
        "train_length = 5000\n",
        "test = "
      ],
      "metadata": {
        "id": "YU4N8BKG8yzc"
      },
      "execution_count": null,
      "outputs": []
    },
    {
      "cell_type": "code",
      "source": [
        "test"
      ],
      "metadata": {
        "colab": {
          "base_uri": "https://localhost:8080/"
        },
        "id": "HWv1qtA-86Bu",
        "outputId": "d13f917d-8ec6-40a4-bbe5-78d7f07e5c06"
      },
      "execution_count": null,
      "outputs": [
        {
          "output_type": "execute_result",
          "data": {
            "text/plain": [
              "32"
            ]
          },
          "metadata": {},
          "execution_count": 92
        }
      ]
    },
    {
      "cell_type": "markdown",
      "source": [
        "#### Save Data"
      ],
      "metadata": {
        "id": "TUN6bmf8NSl8"
      }
    },
    {
      "cell_type": "code",
      "source": [
        "zip_iterator = zip(columns, row)\n",
        "a_dictionary = dict(zip_iterator)\n",
        "print(a_dictionary)\n",
        "test = df_csv\n",
        "print(test, \"\\n ------------------------\")\n",
        "test = test.append(a_dictionary, ignore_index=True)\n",
        "\n",
        "print(test)"
      ],
      "metadata": {
        "id": "PysNy9NmNQIY"
      },
      "execution_count": null,
      "outputs": []
    },
    {
      "cell_type": "code",
      "source": [
        "test.to_csv('teste.csv', index = False, header= True)"
      ],
      "metadata": {
        "id": "psddAm3KaoZZ"
      },
      "execution_count": null,
      "outputs": []
    },
    {
      "cell_type": "markdown",
      "metadata": {
        "id": "nwDA8if62yKn"
      },
      "source": [
        "### CNN - Small version"
      ]
    },
    {
      "cell_type": "markdown",
      "metadata": {
        "id": "YOosbeXk-kQ-"
      },
      "source": [
        "#### Prepare Data"
      ]
    },
    {
      "cell_type": "code",
      "execution_count": null,
      "metadata": {
        "id": "lW8V-ze9kKwz"
      },
      "outputs": [],
      "source": [
        "# This cell is used to fix one hot encoding automatic from keras in some datasets\n",
        "train_y = train_y.astype('uint8')\n",
        "test_y = test_y.astype('uint8')\n",
        "while(min(train_y) > 0):\n",
        "  train_y = train_y - 1\n",
        "while(min(test_y) > 0):\n",
        "  test_y = test_y - 1"
      ]
    },
    {
      "cell_type": "code",
      "execution_count": null,
      "metadata": {
        "id": "_damj87UXQtb",
        "colab": {
          "base_uri": "https://localhost:8080/"
        },
        "outputId": "f8bfc74d-bb38-42c4-be74-1671f48e4a08"
      },
      "outputs": [
        {
          "output_type": "stream",
          "name": "stdout",
          "text": [
            "Train:  (36, 50, 50, 3)  | y =  36\n",
            "Test:   (175, 50, 50, 3)  | y =  175\n",
            "Number of classes:  3\n"
          ]
        }
      ],
      "source": [
        "print(\"Train: \", train_x.shape, \" | y = \", train_y.size)\n",
        "print(\"Test:  \", test_x.shape, \" | y = \", test_y.size)\n",
        "n_classes = np.unique(train_y).size\n",
        "print(\"Number of classes: \", n_classes)"
      ]
    },
    {
      "cell_type": "code",
      "execution_count": null,
      "metadata": {
        "id": "sZAmtIMU_EvQ",
        "colab": {
          "base_uri": "https://localhost:8080/"
        },
        "outputId": "87505e5d-0b60-46a1-b04f-26c395f16795"
      },
      "outputs": [
        {
          "output_type": "stream",
          "name": "stdout",
          "text": [
            "Width:  50 | Height:  50 | Channels:  3\n"
          ]
        }
      ],
      "source": [
        "width, height, channels = train_x.shape[1], train_x.shape[2], train_x.shape[3]\n",
        "print(\"Width: \", width, \"| Height: \", height, \"| Channels: \", channels)"
      ]
    },
    {
      "cell_type": "code",
      "execution_count": null,
      "metadata": {
        "id": "paT1-UlA9eNR"
      },
      "outputs": [],
      "source": [
        "datagen = ImageDataGenerator(rescale=1.0/255.0)\n",
        "# prepare an iterators to scale images\n",
        "train_iterator = datagen.flow(train_x, train_y, batch_size=64) #DEPOIS SUSBTITUIR AO TRAVEZ POR TRAIN_Y e colocar no modelo aquilo que o nuno disse (ver notes)\n",
        "test_iterator = datagen.flow(test_x, test_y, batch_size=64)\n",
        "print('Batches train=%d, test=%d' % (len(train_iterator), len(test_iterator)))\n",
        "# confirm the scaling works\n",
        "batchX, batchy = train_iterator.next()\n",
        "print('Batch shape=%s, min=%.3f, max=%.3f' % (batchX.shape, batchX.min(), batchX.max()))\n"
      ]
    },
    {
      "cell_type": "markdown",
      "source": [
        "#### Model"
      ],
      "metadata": {
        "id": "CYRTyDDp25nV"
      }
    },
    {
      "cell_type": "code",
      "source": [
        "tf.keras.backend.clear_session()\n",
        "tf.compat.v1.reset_default_graph()"
      ],
      "metadata": {
        "id": "yLQJK8vNIy0N"
      },
      "execution_count": null,
      "outputs": []
    },
    {
      "cell_type": "code",
      "source": [
        "# define model\n",
        "model = Sequential()\n",
        "model.add(Conv2D(32, (3, 3), activation='relu', input_shape=(width, height, channels)))\n",
        "model.add(MaxPooling2D((2, 2)))\n",
        "model.add(Conv2D(64, (3, 3), activation='relu'))\n",
        "model.add(MaxPooling2D((2, 2)))\n",
        "model.add(Flatten())\n",
        "model.add(Dense(64, activation='relu'))\n",
        "model.add(Dense(n_classes, activation='softmax'))\n",
        "# early stopping\n",
        "callback = EarlyStopping(monitor='loss', patience=3)\n",
        "# compile model\n",
        "model.compile(optimizer='adam', loss='sparse_categorical_crossentropy', metrics=['accuracy'])\n",
        "# fit model with generator\n",
        "history = model.fit(train_iterator, steps_per_epoch=len(train_iterator), epochs=30)"
      ],
      "metadata": {
        "id": "Ti48E_tq25nV"
      },
      "execution_count": null,
      "outputs": []
    },
    {
      "cell_type": "code",
      "source": [
        "# evaluate model\n",
        "print('Test accuracy:')\n",
        "_, acc = model.evaluate(test_iterator, steps=len(test_iterator))\n",
        "print('Test Accuracy: %.3f' % (acc * 100))"
      ],
      "metadata": {
        "id": "Nr7iZmHa25nW"
      },
      "execution_count": null,
      "outputs": []
    },
    {
      "cell_type": "markdown",
      "source": [
        "#### History"
      ],
      "metadata": {
        "id": "Rn2gyM0925nW"
      }
    },
    {
      "cell_type": "code",
      "source": [
        "# list all data in history\n",
        "print(history.history.keys())\n",
        "# summarize history for accuracy\n",
        "plt.plot(history.history['accuracy'])\n",
        "plt.title('model accuracy')\n",
        "plt.ylabel('accuracy')\n",
        "plt.xlabel('epoch')\n",
        "plt.legend(['train', 'test'], loc='upper left')\n",
        "plt.show()\n",
        "# summarize history for loss\n",
        "plt.plot(history.history['loss'])\n",
        "plt.title('model loss')\n",
        "plt.ylabel('loss')\n",
        "plt.xlabel('epoch')\n",
        "plt.legend(['train', 'test'], loc='upper left')\n",
        "plt.show()"
      ],
      "metadata": {
        "id": "F4KM2iSJ25nW"
      },
      "execution_count": null,
      "outputs": []
    },
    {
      "cell_type": "markdown",
      "source": [
        "### CNN - Plotting Time - Test"
      ],
      "metadata": {
        "id": "iHTw4UuMTRXZ"
      }
    },
    {
      "cell_type": "markdown",
      "source": [
        "#### Prepare Date TEST\n"
      ],
      "metadata": {
        "id": "tBbhg5qmwKjK"
      }
    },
    {
      "cell_type": "code",
      "source": [
        "# This cell is used to fix one hot encoding automatic from keras in some datasets\n",
        "train_y = train_y.astype('uint8')\n",
        "test_y = test_y.astype('uint8')\n",
        "while(min(train_y) > 0):\n",
        "  train_y = train_y - 1\n",
        "while(min(test_y) > 0):\n",
        "  test_y = test_y - 1"
      ],
      "metadata": {
        "id": "jTFMlo-8wUxp"
      },
      "execution_count": null,
      "outputs": []
    },
    {
      "cell_type": "code",
      "source": [
        "print(\"Train: \", train_x.shape, \" | y = \", train_y.size)\n",
        "print(\"Test:  \", test_x.shape, \" | y = \", test_y.size)"
      ],
      "metadata": {
        "colab": {
          "base_uri": "https://localhost:8080/"
        },
        "id": "yRpMmVW3xn9L",
        "outputId": "e6fe41fb-9729-4e36-e6bc-420b9cbf1506"
      },
      "execution_count": null,
      "outputs": [
        {
          "output_type": "stream",
          "name": "stdout",
          "text": [
            "Train:  (36, 50, 50, 3)  | y =  36\n",
            "Test:   (175, 50, 50, 3)  | y =  175\n"
          ]
        }
      ]
    },
    {
      "cell_type": "code",
      "source": [
        "# train_x = train_x.reshape((train_x.shape[0], train_x.shape[1], train_x.shape[2], 1))\n",
        "# test_x = test_x.reshape((test_x.shape[0], test_x.shape[1], test_x.shape[2], 1))\n",
        "train_x = train_x[:,:,:,:1]\n",
        "test_x = test_x[:,:,:,:1]\n",
        "n_classes = np.unique(train_y).size\n",
        "print(\"Number of classes: \", n_classes)"
      ],
      "metadata": {
        "colab": {
          "base_uri": "https://localhost:8080/"
        },
        "id": "RevEgQHAwJRL",
        "outputId": "6c26224f-e7e7-43ec-d25a-70edebafcbf4"
      },
      "execution_count": null,
      "outputs": [
        {
          "output_type": "stream",
          "name": "stdout",
          "text": [
            "Number of classes:  3\n"
          ]
        }
      ]
    },
    {
      "cell_type": "code",
      "source": [
        "idx = np.random.permutation(len(train_x))\n",
        "train_x = train_x[idx]\n",
        "train_y = train_y[idx]"
      ],
      "metadata": {
        "id": "RWrL_8TUwhV9"
      },
      "execution_count": null,
      "outputs": []
    },
    {
      "cell_type": "code",
      "source": [
        "width, height, channels = train_x.shape[1], train_x.shape[2], train_x.shape[3]\n",
        "print(\"Width: \", width, \"| Height: \", height, \"| Channels: \", channels)"
      ],
      "metadata": {
        "colab": {
          "base_uri": "https://localhost:8080/"
        },
        "id": "MN7ngSZQyPEC",
        "outputId": "37d9be57-cf79-48e0-e04d-e96b76f28053"
      },
      "execution_count": null,
      "outputs": [
        {
          "output_type": "stream",
          "name": "stdout",
          "text": [
            "Width:  288 | Height:  432 | Channels:  1\n"
          ]
        }
      ]
    },
    {
      "cell_type": "markdown",
      "metadata": {
        "id": "myXVzoM8ADUn"
      },
      "source": [
        "#### Model"
      ]
    },
    {
      "cell_type": "code",
      "execution_count": null,
      "metadata": {
        "id": "AUaLJI1YD5aR"
      },
      "outputs": [],
      "source": [
        "tf.keras.backend.clear_session()\n",
        "tf.compat.v1.reset_default_graph()"
      ]
    },
    {
      "cell_type": "code",
      "execution_count": null,
      "metadata": {
        "colab": {
          "base_uri": "https://localhost:8080/"
        },
        "id": "wH1j1jG29MCx",
        "outputId": "13e3ac80-8f73-44e1-93cd-032c2d32cc2e"
      },
      "outputs": [
        {
          "output_type": "stream",
          "name": "stdout",
          "text": [
            "Epoch 1/500\n",
            "5/5 [==============================] - 8s 2s/step - loss: 1.9241 - sparse_categorical_accuracy: 0.1688 - val_loss: 1.7594 - val_sparse_categorical_accuracy: 0.2750 - lr: 1.0000e-04\n",
            "Epoch 2/500\n",
            "5/5 [==============================] - 7s 2s/step - loss: 1.8415 - sparse_categorical_accuracy: 0.2125 - val_loss: 1.7454 - val_sparse_categorical_accuracy: 0.4000 - lr: 1.0000e-04\n",
            "Epoch 3/500\n",
            "5/5 [==============================] - 8s 2s/step - loss: 1.8245 - sparse_categorical_accuracy: 0.2000 - val_loss: 1.7352 - val_sparse_categorical_accuracy: 0.4500 - lr: 1.0000e-04\n",
            "Epoch 4/500\n",
            "5/5 [==============================] - 7s 2s/step - loss: 1.7676 - sparse_categorical_accuracy: 0.2250 - val_loss: 1.7303 - val_sparse_categorical_accuracy: 0.3000 - lr: 1.0000e-04\n",
            "Epoch 5/500\n",
            "5/5 [==============================] - 1s 238ms/step - loss: 1.7345 - sparse_categorical_accuracy: 0.2625 - val_loss: 1.7310 - val_sparse_categorical_accuracy: 0.2750 - lr: 1.0000e-04\n",
            "Epoch 6/500\n",
            "5/5 [==============================] - 7s 2s/step - loss: 1.7637 - sparse_categorical_accuracy: 0.2688 - val_loss: 1.7241 - val_sparse_categorical_accuracy: 0.3250 - lr: 1.0000e-04\n",
            "Epoch 7/500\n",
            "5/5 [==============================] - 7s 2s/step - loss: 1.7160 - sparse_categorical_accuracy: 0.2438 - val_loss: 1.7240 - val_sparse_categorical_accuracy: 0.3250 - lr: 1.0000e-04\n",
            "Epoch 8/500\n",
            "5/5 [==============================] - 8s 2s/step - loss: 1.7132 - sparse_categorical_accuracy: 0.2625 - val_loss: 1.7228 - val_sparse_categorical_accuracy: 0.3250 - lr: 1.0000e-04\n",
            "Epoch 9/500\n",
            "5/5 [==============================] - 8s 2s/step - loss: 1.7182 - sparse_categorical_accuracy: 0.2625 - val_loss: 1.7126 - val_sparse_categorical_accuracy: 0.3250 - lr: 1.0000e-04\n",
            "Epoch 10/500\n",
            "5/5 [==============================] - 8s 2s/step - loss: 1.6352 - sparse_categorical_accuracy: 0.3438 - val_loss: 1.6958 - val_sparse_categorical_accuracy: 0.3250 - lr: 1.0000e-04\n",
            "Epoch 11/500\n",
            "5/5 [==============================] - 7s 2s/step - loss: 1.6727 - sparse_categorical_accuracy: 0.2313 - val_loss: 1.6802 - val_sparse_categorical_accuracy: 0.2750 - lr: 1.0000e-04\n",
            "Epoch 12/500\n",
            "5/5 [==============================] - 8s 2s/step - loss: 1.6415 - sparse_categorical_accuracy: 0.3063 - val_loss: 1.6734 - val_sparse_categorical_accuracy: 0.3250 - lr: 1.0000e-04\n",
            "Epoch 13/500\n",
            "5/5 [==============================] - 1s 237ms/step - loss: 1.6628 - sparse_categorical_accuracy: 0.3063 - val_loss: 1.6836 - val_sparse_categorical_accuracy: 0.3750 - lr: 1.0000e-04\n",
            "Epoch 14/500\n",
            "5/5 [==============================] - 1s 237ms/step - loss: 1.6440 - sparse_categorical_accuracy: 0.2750 - val_loss: 1.6887 - val_sparse_categorical_accuracy: 0.4000 - lr: 1.0000e-04\n",
            "Epoch 15/500\n",
            "5/5 [==============================] - 1s 236ms/step - loss: 1.6472 - sparse_categorical_accuracy: 0.2688 - val_loss: 1.6813 - val_sparse_categorical_accuracy: 0.3750 - lr: 1.0000e-04\n",
            "Epoch 16/500\n",
            "5/5 [==============================] - 7s 2s/step - loss: 1.6138 - sparse_categorical_accuracy: 0.3375 - val_loss: 1.6668 - val_sparse_categorical_accuracy: 0.3250 - lr: 1.0000e-04\n",
            "Epoch 17/500\n",
            "5/5 [==============================] - 8s 2s/step - loss: 1.6227 - sparse_categorical_accuracy: 0.3250 - val_loss: 1.6561 - val_sparse_categorical_accuracy: 0.3750 - lr: 1.0000e-04\n",
            "Epoch 18/500\n",
            "5/5 [==============================] - 7s 2s/step - loss: 1.6270 - sparse_categorical_accuracy: 0.3250 - val_loss: 1.6532 - val_sparse_categorical_accuracy: 0.3500 - lr: 1.0000e-04\n",
            "Epoch 19/500\n",
            "5/5 [==============================] - 7s 2s/step - loss: 1.6468 - sparse_categorical_accuracy: 0.3187 - val_loss: 1.6496 - val_sparse_categorical_accuracy: 0.4000 - lr: 1.0000e-04\n",
            "Epoch 20/500\n",
            "5/5 [==============================] - 8s 2s/step - loss: 1.5920 - sparse_categorical_accuracy: 0.3063 - val_loss: 1.6458 - val_sparse_categorical_accuracy: 0.3750 - lr: 1.0000e-04\n",
            "Epoch 21/500\n",
            "5/5 [==============================] - 8s 2s/step - loss: 1.5191 - sparse_categorical_accuracy: 0.3812 - val_loss: 1.6408 - val_sparse_categorical_accuracy: 0.4000 - lr: 1.0000e-04\n",
            "Epoch 22/500\n",
            "5/5 [==============================] - 8s 2s/step - loss: 1.5135 - sparse_categorical_accuracy: 0.3500 - val_loss: 1.6309 - val_sparse_categorical_accuracy: 0.4000 - lr: 1.0000e-04\n",
            "Epoch 23/500\n",
            "5/5 [==============================] - 7s 2s/step - loss: 1.5831 - sparse_categorical_accuracy: 0.3187 - val_loss: 1.6162 - val_sparse_categorical_accuracy: 0.4000 - lr: 1.0000e-04\n",
            "Epoch 24/500\n",
            "5/5 [==============================] - 8s 2s/step - loss: 1.5021 - sparse_categorical_accuracy: 0.3812 - val_loss: 1.6014 - val_sparse_categorical_accuracy: 0.3750 - lr: 1.0000e-04\n",
            "Epoch 25/500\n",
            "5/5 [==============================] - 8s 2s/step - loss: 1.5033 - sparse_categorical_accuracy: 0.3875 - val_loss: 1.5775 - val_sparse_categorical_accuracy: 0.3750 - lr: 1.0000e-04\n",
            "Epoch 26/500\n",
            "5/5 [==============================] - 7s 2s/step - loss: 1.5141 - sparse_categorical_accuracy: 0.3812 - val_loss: 1.5690 - val_sparse_categorical_accuracy: 0.4000 - lr: 1.0000e-04\n",
            "Epoch 27/500\n",
            "5/5 [==============================] - 8s 2s/step - loss: 1.4511 - sparse_categorical_accuracy: 0.4563 - val_loss: 1.5662 - val_sparse_categorical_accuracy: 0.3750 - lr: 1.0000e-04\n",
            "Epoch 28/500\n",
            "5/5 [==============================] - 8s 2s/step - loss: 1.4494 - sparse_categorical_accuracy: 0.3750 - val_loss: 1.5476 - val_sparse_categorical_accuracy: 0.3500 - lr: 1.0000e-04\n",
            "Epoch 29/500\n",
            "5/5 [==============================] - 8s 2s/step - loss: 1.4655 - sparse_categorical_accuracy: 0.3875 - val_loss: 1.5335 - val_sparse_categorical_accuracy: 0.4250 - lr: 1.0000e-04\n",
            "Epoch 30/500\n",
            "5/5 [==============================] - 1s 246ms/step - loss: 1.5088 - sparse_categorical_accuracy: 0.3688 - val_loss: 1.5510 - val_sparse_categorical_accuracy: 0.3750 - lr: 1.0000e-04\n",
            "Epoch 31/500\n",
            "5/5 [==============================] - 1s 238ms/step - loss: 1.4694 - sparse_categorical_accuracy: 0.4187 - val_loss: 1.5464 - val_sparse_categorical_accuracy: 0.4000 - lr: 1.0000e-04\n",
            "Epoch 32/500\n",
            "5/5 [==============================] - 1s 237ms/step - loss: 1.4579 - sparse_categorical_accuracy: 0.3688 - val_loss: 1.5351 - val_sparse_categorical_accuracy: 0.4500 - lr: 1.0000e-04\n",
            "Epoch 33/500\n",
            "5/5 [==============================] - 7s 2s/step - loss: 1.3448 - sparse_categorical_accuracy: 0.5188 - val_loss: 1.5055 - val_sparse_categorical_accuracy: 0.4750 - lr: 1.0000e-04\n",
            "Epoch 34/500\n",
            "5/5 [==============================] - 7s 2s/step - loss: 1.4025 - sparse_categorical_accuracy: 0.4313 - val_loss: 1.4875 - val_sparse_categorical_accuracy: 0.4750 - lr: 1.0000e-04\n",
            "Epoch 35/500\n",
            "5/5 [==============================] - 27s 7s/step - loss: 1.4793 - sparse_categorical_accuracy: 0.3375 - val_loss: 1.4867 - val_sparse_categorical_accuracy: 0.4500 - lr: 1.0000e-04\n",
            "Epoch 36/500\n",
            "5/5 [==============================] - 1s 252ms/step - loss: 1.3287 - sparse_categorical_accuracy: 0.3938 - val_loss: 1.4947 - val_sparse_categorical_accuracy: 0.4500 - lr: 1.0000e-04\n",
            "Epoch 37/500\n",
            "5/5 [==============================] - 1s 240ms/step - loss: 1.4727 - sparse_categorical_accuracy: 0.3625 - val_loss: 1.4951 - val_sparse_categorical_accuracy: 0.4500 - lr: 1.0000e-04\n",
            "Epoch 38/500\n",
            "5/5 [==============================] - 1s 242ms/step - loss: 1.3839 - sparse_categorical_accuracy: 0.4125 - val_loss: 1.4979 - val_sparse_categorical_accuracy: 0.4250 - lr: 1.0000e-04\n",
            "Epoch 39/500\n",
            "5/5 [==============================] - 29s 7s/step - loss: 1.3453 - sparse_categorical_accuracy: 0.4938 - val_loss: 1.4780 - val_sparse_categorical_accuracy: 0.4250 - lr: 1.0000e-04\n",
            "Epoch 40/500\n",
            "5/5 [==============================] - 35s 9s/step - loss: 1.3167 - sparse_categorical_accuracy: 0.4750 - val_loss: 1.4457 - val_sparse_categorical_accuracy: 0.4000 - lr: 1.0000e-04\n",
            "Epoch 41/500\n",
            "5/5 [==============================] - 35s 9s/step - loss: 1.3951 - sparse_categorical_accuracy: 0.4437 - val_loss: 1.4378 - val_sparse_categorical_accuracy: 0.4500 - lr: 1.0000e-04\n",
            "Epoch 42/500\n",
            "5/5 [==============================] - 1s 250ms/step - loss: 1.2821 - sparse_categorical_accuracy: 0.4812 - val_loss: 1.4425 - val_sparse_categorical_accuracy: 0.4750 - lr: 1.0000e-04\n",
            "Epoch 43/500\n",
            "5/5 [==============================] - 29s 7s/step - loss: 1.3096 - sparse_categorical_accuracy: 0.4938 - val_loss: 1.4216 - val_sparse_categorical_accuracy: 0.5000 - lr: 1.0000e-04\n",
            "Epoch 44/500\n",
            "5/5 [==============================] - 1s 239ms/step - loss: 1.2583 - sparse_categorical_accuracy: 0.5250 - val_loss: 1.4294 - val_sparse_categorical_accuracy: 0.4500 - lr: 1.0000e-04\n",
            "Epoch 45/500\n",
            "5/5 [==============================] - 1s 240ms/step - loss: 1.2812 - sparse_categorical_accuracy: 0.4812 - val_loss: 1.4568 - val_sparse_categorical_accuracy: 0.4500 - lr: 1.0000e-04\n",
            "Epoch 46/500\n",
            "5/5 [==============================] - 1s 240ms/step - loss: 1.2505 - sparse_categorical_accuracy: 0.4563 - val_loss: 1.4259 - val_sparse_categorical_accuracy: 0.4500 - lr: 1.0000e-04\n",
            "Epoch 47/500\n",
            "5/5 [==============================] - 32s 8s/step - loss: 1.2624 - sparse_categorical_accuracy: 0.4750 - val_loss: 1.4172 - val_sparse_categorical_accuracy: 0.5000 - lr: 1.0000e-04\n",
            "Epoch 48/500\n",
            "5/5 [==============================] - 33s 8s/step - loss: 1.2154 - sparse_categorical_accuracy: 0.5000 - val_loss: 1.4145 - val_sparse_categorical_accuracy: 0.5000 - lr: 1.0000e-04\n",
            "Epoch 49/500\n",
            "5/5 [==============================] - 1s 249ms/step - loss: 1.1342 - sparse_categorical_accuracy: 0.5688 - val_loss: 1.4284 - val_sparse_categorical_accuracy: 0.4750 - lr: 1.0000e-04\n",
            "Epoch 50/500\n",
            "5/5 [==============================] - 33s 8s/step - loss: 1.1032 - sparse_categorical_accuracy: 0.5750 - val_loss: 1.4025 - val_sparse_categorical_accuracy: 0.5000 - lr: 1.0000e-04\n",
            "Epoch 51/500\n",
            "5/5 [==============================] - 1s 250ms/step - loss: 1.0604 - sparse_categorical_accuracy: 0.6000 - val_loss: 1.4139 - val_sparse_categorical_accuracy: 0.5000 - lr: 1.0000e-04\n",
            "Epoch 52/500\n",
            "5/5 [==============================] - 1s 238ms/step - loss: 1.1611 - sparse_categorical_accuracy: 0.5188 - val_loss: 1.4113 - val_sparse_categorical_accuracy: 0.4750 - lr: 1.0000e-04\n",
            "Epoch 53/500\n",
            "5/5 [==============================] - 1s 240ms/step - loss: 1.1869 - sparse_categorical_accuracy: 0.5250 - val_loss: 1.4140 - val_sparse_categorical_accuracy: 0.4750 - lr: 1.0000e-04\n",
            "Epoch 54/500\n",
            "5/5 [==============================] - 1s 239ms/step - loss: 1.2136 - sparse_categorical_accuracy: 0.5312 - val_loss: 1.4173 - val_sparse_categorical_accuracy: 0.4500 - lr: 1.0000e-04\n",
            "Epoch 55/500\n",
            "5/5 [==============================] - 27s 7s/step - loss: 1.0664 - sparse_categorical_accuracy: 0.6062 - val_loss: 1.4016 - val_sparse_categorical_accuracy: 0.4500 - lr: 1.0000e-04\n",
            "Epoch 56/500\n",
            "5/5 [==============================] - 36s 9s/step - loss: 1.0145 - sparse_categorical_accuracy: 0.6438 - val_loss: 1.3896 - val_sparse_categorical_accuracy: 0.5250 - lr: 1.0000e-04\n",
            "Epoch 57/500\n",
            "5/5 [==============================] - 32s 8s/step - loss: 1.1318 - sparse_categorical_accuracy: 0.5625 - val_loss: 1.3892 - val_sparse_categorical_accuracy: 0.5000 - lr: 1.0000e-04\n",
            "Epoch 58/500\n",
            "5/5 [==============================] - 35s 9s/step - loss: 1.1228 - sparse_categorical_accuracy: 0.5688 - val_loss: 1.3796 - val_sparse_categorical_accuracy: 0.5000 - lr: 1.0000e-04\n",
            "Epoch 59/500\n",
            "5/5 [==============================] - 36s 9s/step - loss: 1.0267 - sparse_categorical_accuracy: 0.6062 - val_loss: 1.3524 - val_sparse_categorical_accuracy: 0.5250 - lr: 1.0000e-04\n",
            "Epoch 60/500\n",
            "5/5 [==============================] - 34s 8s/step - loss: 1.0836 - sparse_categorical_accuracy: 0.5938 - val_loss: 1.3317 - val_sparse_categorical_accuracy: 0.5000 - lr: 1.0000e-04\n",
            "Epoch 61/500\n",
            "5/5 [==============================] - 1s 254ms/step - loss: 0.9577 - sparse_categorical_accuracy: 0.6000 - val_loss: 1.3641 - val_sparse_categorical_accuracy: 0.4500 - lr: 1.0000e-04\n",
            "Epoch 62/500\n",
            "5/5 [==============================] - 1s 240ms/step - loss: 1.0716 - sparse_categorical_accuracy: 0.5250 - val_loss: 1.3962 - val_sparse_categorical_accuracy: 0.4500 - lr: 1.0000e-04\n",
            "Epoch 63/500\n",
            "5/5 [==============================] - 1s 244ms/step - loss: 1.0361 - sparse_categorical_accuracy: 0.6000 - val_loss: 1.3738 - val_sparse_categorical_accuracy: 0.4750 - lr: 1.0000e-04\n",
            "Epoch 64/500\n",
            "5/5 [==============================] - 1s 238ms/step - loss: 0.9706 - sparse_categorical_accuracy: 0.6375 - val_loss: 1.3337 - val_sparse_categorical_accuracy: 0.4750 - lr: 1.0000e-04\n",
            "Epoch 65/500\n",
            "5/5 [==============================] - 32s 8s/step - loss: 1.1014 - sparse_categorical_accuracy: 0.5312 - val_loss: 1.3262 - val_sparse_categorical_accuracy: 0.4750 - lr: 1.0000e-04\n",
            "Epoch 66/500\n",
            "5/5 [==============================] - 1s 252ms/step - loss: 0.9086 - sparse_categorical_accuracy: 0.6812 - val_loss: 1.3485 - val_sparse_categorical_accuracy: 0.4500 - lr: 1.0000e-04\n",
            "Epoch 67/500\n",
            "5/5 [==============================] - 1s 240ms/step - loss: 1.0086 - sparse_categorical_accuracy: 0.6375 - val_loss: 1.3603 - val_sparse_categorical_accuracy: 0.4250 - lr: 1.0000e-04\n",
            "Epoch 68/500\n",
            "5/5 [==============================] - 1s 241ms/step - loss: 1.0156 - sparse_categorical_accuracy: 0.5437 - val_loss: 1.3619 - val_sparse_categorical_accuracy: 0.4500 - lr: 1.0000e-04\n",
            "Epoch 69/500\n",
            "5/5 [==============================] - 1s 242ms/step - loss: 0.9425 - sparse_categorical_accuracy: 0.6562 - val_loss: 1.3623 - val_sparse_categorical_accuracy: 0.4750 - lr: 1.0000e-04\n",
            "Epoch 70/500\n",
            "5/5 [==============================] - 1s 240ms/step - loss: 0.9341 - sparse_categorical_accuracy: 0.6187 - val_loss: 1.3699 - val_sparse_categorical_accuracy: 0.4750 - lr: 1.0000e-04\n",
            "Epoch 71/500\n",
            "5/5 [==============================] - 1s 241ms/step - loss: 0.9600 - sparse_categorical_accuracy: 0.6500 - val_loss: 1.3453 - val_sparse_categorical_accuracy: 0.5000 - lr: 1.0000e-04\n",
            "Epoch 72/500\n",
            "5/5 [==============================] - 26s 6s/step - loss: 0.9424 - sparse_categorical_accuracy: 0.6625 - val_loss: 1.3175 - val_sparse_categorical_accuracy: 0.5250 - lr: 1.0000e-04\n",
            "Epoch 73/500\n",
            "5/5 [==============================] - 32s 8s/step - loss: 1.0018 - sparse_categorical_accuracy: 0.6062 - val_loss: 1.3081 - val_sparse_categorical_accuracy: 0.5000 - lr: 1.0000e-04\n",
            "Epoch 74/500\n",
            "5/5 [==============================] - 1s 238ms/step - loss: 0.9420 - sparse_categorical_accuracy: 0.6125 - val_loss: 1.3193 - val_sparse_categorical_accuracy: 0.5000 - lr: 1.0000e-04\n",
            "Epoch 75/500\n",
            "5/5 [==============================] - 1s 240ms/step - loss: 0.9182 - sparse_categorical_accuracy: 0.6187 - val_loss: 1.3483 - val_sparse_categorical_accuracy: 0.4500 - lr: 1.0000e-04\n",
            "Epoch 76/500\n",
            "5/5 [==============================] - 1s 238ms/step - loss: 0.8678 - sparse_categorical_accuracy: 0.6500 - val_loss: 1.3570 - val_sparse_categorical_accuracy: 0.4250 - lr: 1.0000e-04\n",
            "Epoch 77/500\n",
            "5/5 [==============================] - 1s 239ms/step - loss: 0.8885 - sparse_categorical_accuracy: 0.7063 - val_loss: 1.3571 - val_sparse_categorical_accuracy: 0.4250 - lr: 1.0000e-04\n",
            "Epoch 78/500\n",
            "5/5 [==============================] - 1s 237ms/step - loss: 0.9167 - sparse_categorical_accuracy: 0.6250 - val_loss: 1.3349 - val_sparse_categorical_accuracy: 0.4750 - lr: 1.0000e-04\n",
            "Epoch 79/500\n",
            "5/5 [==============================] - 1s 239ms/step - loss: 0.9097 - sparse_categorical_accuracy: 0.6500 - val_loss: 1.3445 - val_sparse_categorical_accuracy: 0.5000 - lr: 1.0000e-04\n",
            "Epoch 80/500\n",
            "5/5 [==============================] - 29s 7s/step - loss: 0.8593 - sparse_categorical_accuracy: 0.6500 - val_loss: 1.3049 - val_sparse_categorical_accuracy: 0.5250 - lr: 1.0000e-04\n",
            "Epoch 81/500\n",
            "5/5 [==============================] - 33s 8s/step - loss: 0.8662 - sparse_categorical_accuracy: 0.6562 - val_loss: 1.3007 - val_sparse_categorical_accuracy: 0.4750 - lr: 1.0000e-04\n",
            "Epoch 82/500\n",
            "5/5 [==============================] - 1s 252ms/step - loss: 0.8913 - sparse_categorical_accuracy: 0.6375 - val_loss: 1.3305 - val_sparse_categorical_accuracy: 0.4250 - lr: 1.0000e-04\n",
            "Epoch 83/500\n",
            "5/5 [==============================] - 1s 240ms/step - loss: 0.8868 - sparse_categorical_accuracy: 0.6187 - val_loss: 1.3175 - val_sparse_categorical_accuracy: 0.4500 - lr: 1.0000e-04\n",
            "Epoch 84/500\n",
            "5/5 [==============================] - 1s 238ms/step - loss: 0.9068 - sparse_categorical_accuracy: 0.6313 - val_loss: 1.3150 - val_sparse_categorical_accuracy: 0.4750 - lr: 1.0000e-04\n",
            "Epoch 85/500\n",
            "5/5 [==============================] - 1s 239ms/step - loss: 0.8793 - sparse_categorical_accuracy: 0.6125 - val_loss: 1.3198 - val_sparse_categorical_accuracy: 0.5000 - lr: 1.0000e-04\n",
            "Epoch 86/500\n",
            "5/5 [==============================] - 1s 240ms/step - loss: 0.7014 - sparse_categorical_accuracy: 0.7437 - val_loss: 1.3507 - val_sparse_categorical_accuracy: 0.5250 - lr: 1.0000e-04\n",
            "Epoch 87/500\n",
            "5/5 [==============================] - 1s 239ms/step - loss: 0.8270 - sparse_categorical_accuracy: 0.6812 - val_loss: 1.3683 - val_sparse_categorical_accuracy: 0.5000 - lr: 1.0000e-04\n",
            "Epoch 88/500\n",
            "5/5 [==============================] - 1s 241ms/step - loss: 0.7734 - sparse_categorical_accuracy: 0.6750 - val_loss: 1.3474 - val_sparse_categorical_accuracy: 0.4750 - lr: 1.0000e-04\n",
            "Epoch 89/500\n",
            "5/5 [==============================] - 1s 238ms/step - loss: 0.8736 - sparse_categorical_accuracy: 0.6375 - val_loss: 1.3059 - val_sparse_categorical_accuracy: 0.4750 - lr: 1.0000e-04\n",
            "Epoch 90/500\n",
            "5/5 [==============================] - 22s 5s/step - loss: 0.7952 - sparse_categorical_accuracy: 0.7000 - val_loss: 1.2685 - val_sparse_categorical_accuracy: 0.5000 - lr: 1.0000e-04\n",
            "Epoch 91/500\n",
            "5/5 [==============================] - 1s 239ms/step - loss: 0.8509 - sparse_categorical_accuracy: 0.6750 - val_loss: 1.3118 - val_sparse_categorical_accuracy: 0.5500 - lr: 1.0000e-04\n",
            "Epoch 92/500\n",
            "5/5 [==============================] - 1s 238ms/step - loss: 0.8002 - sparse_categorical_accuracy: 0.6812 - val_loss: 1.3988 - val_sparse_categorical_accuracy: 0.5000 - lr: 1.0000e-04\n",
            "Epoch 93/500\n",
            "5/5 [==============================] - 1s 239ms/step - loss: 0.8350 - sparse_categorical_accuracy: 0.6750 - val_loss: 1.4247 - val_sparse_categorical_accuracy: 0.4750 - lr: 1.0000e-04\n",
            "Epoch 94/500\n",
            "5/5 [==============================] - 1s 239ms/step - loss: 0.7009 - sparse_categorical_accuracy: 0.7312 - val_loss: 1.4373 - val_sparse_categorical_accuracy: 0.4500 - lr: 1.0000e-04\n",
            "Epoch 95/500\n",
            "5/5 [==============================] - 1s 240ms/step - loss: 0.8135 - sparse_categorical_accuracy: 0.6938 - val_loss: 1.3635 - val_sparse_categorical_accuracy: 0.4500 - lr: 1.0000e-04\n",
            "Epoch 96/500\n",
            "5/5 [==============================] - 1s 241ms/step - loss: 0.7216 - sparse_categorical_accuracy: 0.7188 - val_loss: 1.3086 - val_sparse_categorical_accuracy: 0.5000 - lr: 1.0000e-04\n",
            "Epoch 97/500\n",
            "5/5 [==============================] - 1s 241ms/step - loss: 0.7627 - sparse_categorical_accuracy: 0.7000 - val_loss: 1.2981 - val_sparse_categorical_accuracy: 0.5000 - lr: 1.0000e-04\n",
            "Epoch 98/500\n",
            "5/5 [==============================] - 1s 241ms/step - loss: 0.7379 - sparse_categorical_accuracy: 0.7437 - val_loss: 1.3289 - val_sparse_categorical_accuracy: 0.5500 - lr: 1.0000e-04\n",
            "Epoch 99/500\n",
            "5/5 [==============================] - 1s 238ms/step - loss: 0.6605 - sparse_categorical_accuracy: 0.7812 - val_loss: 1.3270 - val_sparse_categorical_accuracy: 0.5500 - lr: 1.0000e-04\n",
            "Epoch 100/500\n",
            "5/5 [==============================] - 1s 239ms/step - loss: 0.8579 - sparse_categorical_accuracy: 0.6313 - val_loss: 1.2982 - val_sparse_categorical_accuracy: 0.5250 - lr: 1.0000e-04\n",
            "Epoch 101/500\n",
            "5/5 [==============================] - 1s 238ms/step - loss: 0.8002 - sparse_categorical_accuracy: 0.6938 - val_loss: 1.3041 - val_sparse_categorical_accuracy: 0.5250 - lr: 1.0000e-04\n",
            "Epoch 102/500\n",
            "5/5 [==============================] - 1s 241ms/step - loss: 0.6549 - sparse_categorical_accuracy: 0.7188 - val_loss: 1.3436 - val_sparse_categorical_accuracy: 0.5250 - lr: 1.0000e-04\n",
            "Epoch 103/500\n",
            "5/5 [==============================] - 1s 238ms/step - loss: 0.7307 - sparse_categorical_accuracy: 0.7125 - val_loss: 1.3157 - val_sparse_categorical_accuracy: 0.5000 - lr: 1.0000e-04\n",
            "Epoch 104/500\n",
            "5/5 [==============================] - 1s 239ms/step - loss: 0.8221 - sparse_categorical_accuracy: 0.6750 - val_loss: 1.3204 - val_sparse_categorical_accuracy: 0.5500 - lr: 1.0000e-04\n",
            "Epoch 105/500\n",
            "5/5 [==============================] - 1s 240ms/step - loss: 0.6794 - sparse_categorical_accuracy: 0.6875 - val_loss: 1.3537 - val_sparse_categorical_accuracy: 0.5250 - lr: 1.0000e-04\n",
            "Epoch 106/500\n",
            "5/5 [==============================] - 1s 240ms/step - loss: 0.6419 - sparse_categorical_accuracy: 0.7500 - val_loss: 1.3997 - val_sparse_categorical_accuracy: 0.4750 - lr: 1.0000e-04\n",
            "Epoch 107/500\n",
            "5/5 [==============================] - 1s 239ms/step - loss: 0.7412 - sparse_categorical_accuracy: 0.7125 - val_loss: 1.4253 - val_sparse_categorical_accuracy: 0.4500 - lr: 1.0000e-04\n",
            "Epoch 108/500\n",
            "5/5 [==============================] - 1s 239ms/step - loss: 0.7196 - sparse_categorical_accuracy: 0.6812 - val_loss: 1.4171 - val_sparse_categorical_accuracy: 0.4750 - lr: 1.0000e-04\n",
            "Epoch 109/500\n",
            "5/5 [==============================] - 1s 240ms/step - loss: 0.6968 - sparse_categorical_accuracy: 0.7437 - val_loss: 1.3913 - val_sparse_categorical_accuracy: 0.4750 - lr: 1.0000e-04\n",
            "Epoch 110/500\n",
            "5/5 [==============================] - 1s 237ms/step - loss: 0.6283 - sparse_categorical_accuracy: 0.7688 - val_loss: 1.4075 - val_sparse_categorical_accuracy: 0.5250 - lr: 1.0000e-04\n",
            "Epoch 111/500\n",
            "5/5 [==============================] - 1s 241ms/step - loss: 0.7859 - sparse_categorical_accuracy: 0.6812 - val_loss: 1.3455 - val_sparse_categorical_accuracy: 0.5000 - lr: 1.0000e-04\n",
            "Epoch 112/500\n",
            "5/5 [==============================] - 1s 239ms/step - loss: 0.6934 - sparse_categorical_accuracy: 0.6875 - val_loss: 1.3273 - val_sparse_categorical_accuracy: 0.4750 - lr: 1.0000e-04\n",
            "Epoch 113/500\n",
            "5/5 [==============================] - 1s 238ms/step - loss: 0.5540 - sparse_categorical_accuracy: 0.8062 - val_loss: 1.3361 - val_sparse_categorical_accuracy: 0.5250 - lr: 1.0000e-04\n",
            "Epoch 114/500\n",
            "5/5 [==============================] - 1s 238ms/step - loss: 0.5929 - sparse_categorical_accuracy: 0.7688 - val_loss: 1.3606 - val_sparse_categorical_accuracy: 0.5000 - lr: 1.0000e-04\n",
            "Epoch 115/500\n",
            "5/5 [==============================] - 1s 239ms/step - loss: 0.7944 - sparse_categorical_accuracy: 0.6625 - val_loss: 1.3715 - val_sparse_categorical_accuracy: 0.5000 - lr: 1.0000e-04\n",
            "Epoch 116/500\n",
            "5/5 [==============================] - 1s 240ms/step - loss: 0.6829 - sparse_categorical_accuracy: 0.7500 - val_loss: 1.4011 - val_sparse_categorical_accuracy: 0.5000 - lr: 1.0000e-04\n",
            "Epoch 117/500\n",
            "5/5 [==============================] - 1s 239ms/step - loss: 0.6832 - sparse_categorical_accuracy: 0.7500 - val_loss: 1.3791 - val_sparse_categorical_accuracy: 0.5000 - lr: 1.0000e-04\n",
            "Epoch 118/500\n",
            "5/5 [==============================] - 1s 239ms/step - loss: 0.6612 - sparse_categorical_accuracy: 0.7250 - val_loss: 1.3599 - val_sparse_categorical_accuracy: 0.5000 - lr: 1.0000e-04\n",
            "Epoch 119/500\n",
            "5/5 [==============================] - 1s 239ms/step - loss: 0.7221 - sparse_categorical_accuracy: 0.7063 - val_loss: 1.4168 - val_sparse_categorical_accuracy: 0.5250 - lr: 1.0000e-04\n",
            "Epoch 120/500\n",
            "5/5 [==============================] - 1s 239ms/step - loss: 0.8161 - sparse_categorical_accuracy: 0.6438 - val_loss: 1.3251 - val_sparse_categorical_accuracy: 0.5250 - lr: 1.0000e-04\n",
            "Epoch 121/500\n",
            "5/5 [==============================] - 1s 241ms/step - loss: 0.5804 - sparse_categorical_accuracy: 0.8000 - val_loss: 1.3252 - val_sparse_categorical_accuracy: 0.5000 - lr: 1.0000e-04\n",
            "Epoch 122/500\n",
            "5/5 [==============================] - 1s 239ms/step - loss: 0.7142 - sparse_categorical_accuracy: 0.7063 - val_loss: 1.3972 - val_sparse_categorical_accuracy: 0.4750 - lr: 1.0000e-04\n",
            "Epoch 123/500\n",
            "5/5 [==============================] - 1s 238ms/step - loss: 0.7083 - sparse_categorical_accuracy: 0.7000 - val_loss: 1.4381 - val_sparse_categorical_accuracy: 0.5250 - lr: 1.0000e-04\n",
            "Epoch 124/500\n",
            "5/5 [==============================] - 1s 240ms/step - loss: 0.6407 - sparse_categorical_accuracy: 0.7312 - val_loss: 1.3889 - val_sparse_categorical_accuracy: 0.4750 - lr: 1.0000e-04\n",
            "Epoch 125/500\n",
            "5/5 [==============================] - 1s 242ms/step - loss: 0.6383 - sparse_categorical_accuracy: 0.7188 - val_loss: 1.3857 - val_sparse_categorical_accuracy: 0.4500 - lr: 1.0000e-04\n",
            "Epoch 126/500\n",
            "5/5 [==============================] - 1s 240ms/step - loss: 0.6983 - sparse_categorical_accuracy: 0.7000 - val_loss: 1.3924 - val_sparse_categorical_accuracy: 0.5000 - lr: 1.0000e-04\n",
            "Epoch 127/500\n",
            "5/5 [==============================] - 1s 240ms/step - loss: 0.5894 - sparse_categorical_accuracy: 0.7437 - val_loss: 1.4147 - val_sparse_categorical_accuracy: 0.5250 - lr: 1.0000e-04\n",
            "Epoch 128/500\n",
            "5/5 [==============================] - 1s 242ms/step - loss: 0.7265 - sparse_categorical_accuracy: 0.7312 - val_loss: 1.4179 - val_sparse_categorical_accuracy: 0.5250 - lr: 1.0000e-04\n",
            "Epoch 129/500\n",
            "5/5 [==============================] - 1s 239ms/step - loss: 0.6501 - sparse_categorical_accuracy: 0.7063 - val_loss: 1.4335 - val_sparse_categorical_accuracy: 0.5000 - lr: 1.0000e-04\n",
            "Epoch 130/500\n",
            "5/5 [==============================] - 1s 240ms/step - loss: 0.6178 - sparse_categorical_accuracy: 0.7750 - val_loss: 1.3844 - val_sparse_categorical_accuracy: 0.4750 - lr: 1.0000e-04\n",
            "Epoch 131/500\n",
            "5/5 [==============================] - 1s 239ms/step - loss: 0.5697 - sparse_categorical_accuracy: 0.7375 - val_loss: 1.3489 - val_sparse_categorical_accuracy: 0.5250 - lr: 1.0000e-04\n",
            "Epoch 132/500\n",
            "5/5 [==============================] - 1s 239ms/step - loss: 0.6627 - sparse_categorical_accuracy: 0.7188 - val_loss: 1.3600 - val_sparse_categorical_accuracy: 0.5000 - lr: 1.0000e-04\n",
            "Epoch 133/500\n",
            "5/5 [==============================] - 1s 240ms/step - loss: 0.4507 - sparse_categorical_accuracy: 0.8375 - val_loss: 1.4064 - val_sparse_categorical_accuracy: 0.5000 - lr: 1.0000e-04\n",
            "Epoch 134/500\n",
            "5/5 [==============================] - 1s 242ms/step - loss: 0.6975 - sparse_categorical_accuracy: 0.7125 - val_loss: 1.4406 - val_sparse_categorical_accuracy: 0.5000 - lr: 1.0000e-04\n",
            "Epoch 135/500\n",
            "5/5 [==============================] - 1s 239ms/step - loss: 0.4955 - sparse_categorical_accuracy: 0.7875 - val_loss: 1.4709 - val_sparse_categorical_accuracy: 0.4750 - lr: 1.0000e-04\n",
            "Epoch 136/500\n",
            "5/5 [==============================] - 1s 240ms/step - loss: 0.6435 - sparse_categorical_accuracy: 0.7312 - val_loss: 1.4614 - val_sparse_categorical_accuracy: 0.5000 - lr: 1.0000e-04\n",
            "Epoch 137/500\n",
            "5/5 [==============================] - 1s 239ms/step - loss: 0.6692 - sparse_categorical_accuracy: 0.7625 - val_loss: 1.4565 - val_sparse_categorical_accuracy: 0.5250 - lr: 1.0000e-04\n",
            "Epoch 138/500\n",
            "5/5 [==============================] - 1s 238ms/step - loss: 0.6017 - sparse_categorical_accuracy: 0.7563 - val_loss: 1.3905 - val_sparse_categorical_accuracy: 0.5250 - lr: 1.0000e-04\n",
            "Epoch 139/500\n",
            "5/5 [==============================] - 1s 238ms/step - loss: 0.5495 - sparse_categorical_accuracy: 0.7750 - val_loss: 1.3579 - val_sparse_categorical_accuracy: 0.5500 - lr: 1.0000e-04\n",
            "Epoch 140/500\n",
            "5/5 [==============================] - 1s 239ms/step - loss: 0.5258 - sparse_categorical_accuracy: 0.8188 - val_loss: 1.4181 - val_sparse_categorical_accuracy: 0.5000 - lr: 1.0000e-04\n",
            "Epoch 140: early stopping\n"
          ]
        }
      ],
      "source": [
        "# define model\n",
        "model = Sequential()\n",
        "# model.add(InputLayer(input_shape=(width, height, channels)))\n",
        "\n",
        "model.add(Conv2D(16, (1, 1), activation='relu', input_shape=(width, height, channels)))\n",
        "model.add(MaxPooling2D((2, 2)))\n",
        "model.add(Conv2D(32, (1, 1), activation='relu'))\n",
        "model.add(MaxPooling2D((2, 2)))\n",
        "model.add(Conv2D(64, (1, 1), activation='relu'))\n",
        "\n",
        "model.add(Flatten())\n",
        "\n",
        "model.add(Dense(256, activation='relu'))\n",
        "model.add(Dropout(0.7)) #Aumentar depois maybe o dropout\n",
        "model.add(Dense(128, activation='relu'))\n",
        "model.add(Dropout(0.7))\n",
        "model.add(Dense(n_classes, activation='softmax'))\n",
        "\n",
        "# compile model\n",
        "opt = keras.optimizers.Adam(learning_rate=0.0001)\n",
        "\n",
        "callbacks = [\n",
        "    keras.callbacks.ModelCheckpoint(\n",
        "        \"best_model.h5\", save_best_only=True, monitor=\"val_loss\"\n",
        "    ),\n",
        "    keras.callbacks.ReduceLROnPlateau(\n",
        "        monitor=\"val_loss\", factor=0.5, patience=20, min_lr=0.0001\n",
        "    ),\n",
        "    keras.callbacks.EarlyStopping(monitor=\"val_loss\", patience=50, verbose=1),\n",
        "]\n",
        "\n",
        "model.compile(\n",
        "    optimizer = opt,\n",
        "    loss = \"sparse_categorical_crossentropy\",\n",
        "    metrics = [\"sparse_categorical_accuracy\"],\n",
        ")\n",
        "\n",
        "history = model.fit(\n",
        "    train_x,\n",
        "    train_y,\n",
        "    batch_size=32,\n",
        "    # batch_size=64,\n",
        "    epochs=500,\n",
        "    callbacks=callbacks,\n",
        "    validation_split=0.2,\n",
        "    verbose=1\n",
        ")"
      ]
    },
    {
      "cell_type": "code",
      "execution_count": null,
      "metadata": {
        "id": "2wi2UZZbQXTH",
        "colab": {
          "base_uri": "https://localhost:8080/"
        },
        "outputId": "5816c36c-9979-49fd-858b-b2f13b31b5e7"
      },
      "outputs": [
        {
          "output_type": "stream",
          "name": "stdout",
          "text": [
            "8/8 [==============================] - 0s 58ms/step - loss: 1.6227 - sparse_categorical_accuracy: 0.4545\n",
            "Test accuracy 0.4545454680919647\n",
            "Test loss 1.622735619544983\n"
          ]
        }
      ],
      "source": [
        "# model = keras.models.load_model(\"best_model.h5\")\n",
        "\n",
        "test_loss, test_acc = model.evaluate(test_x, test_y)\n",
        "\n",
        "print(\"Test accuracy\", test_acc)\n",
        "print(\"Test loss\", test_loss)"
      ]
    },
    {
      "cell_type": "markdown",
      "metadata": {
        "id": "MkZ9FkeRFIFn"
      },
      "source": [
        "#### History"
      ]
    },
    {
      "cell_type": "code",
      "execution_count": null,
      "metadata": {
        "colab": {
          "base_uri": "https://localhost:8080/",
          "height": 298
        },
        "id": "D6TZROKLCyug",
        "outputId": "ccc99b71-1318-43e5-a61b-3024e468bae7"
      },
      "outputs": [
        {
          "output_type": "display_data",
          "data": {
            "text/plain": [
              "<Figure size 432x288 with 1 Axes>"
            ],
            "image/png": "[encoded data removed]"
          },
          "metadata": {
            "needs_background": "light"
          }
        }
      ],
      "source": [
        "metric = \"sparse_categorical_accuracy\"\n",
        "plt.figure()\n",
        "plt.plot(history.history[metric])\n",
        "plt.plot(history.history[\"val_\" + metric])\n",
        "plt.title(\"model \" + metric)\n",
        "plt.ylabel(metric, fontsize=\"large\")\n",
        "plt.xlabel(\"epoch\", fontsize=\"large\")\n",
        "plt.legend([\"train\", \"val\"], loc=\"best\")\n",
        "plt.show()\n",
        "plt.close()"
      ]
    },
    {
      "cell_type": "markdown",
      "source": [
        "### Extras"
      ],
      "metadata": {
        "id": "qEZO4HlzOPrP"
      }
    },
    {
      "cell_type": "code",
      "source": [
        "# labels=(training_set.class_indices)\n",
        "# labels2=dict((v,k) for k,v in labels.items())\n",
        "import collections \n",
        "for i in range(len(data_kfold)):\n",
        "    co = collections.Counter(data_kfold.loc[i])\n",
        "    co = sorted(co.items(),key=lambda x: x[1],reverse=True)\n",
        "    # ans.Class.loc[i] = labels2[co[0][0]]"
      ],
      "metadata": {
        "id": "xd6-XC8nAuZp"
      },
      "execution_count": null,
      "outputs": []
    },
    {
      "cell_type": "code",
      "source": [],
      "metadata": {
        "id": "FxmaWlJVAuR8"
      },
      "execution_count": null,
      "outputs": []
    },
    {
      "cell_type": "code",
      "execution_count": null,
      "metadata": {
        "id": "EAoUR_czJsO5"
      },
      "outputs": [],
      "source": [
        "tf.keras.backend.clear_session()\n",
        "tf.compat.v1.reset_default_graph()"
      ]
    },
    {
      "cell_type": "markdown",
      "metadata": {
        "id": "JMW46JTpKQRg"
      },
      "source": [
        "O que alterei do Plotting Time:\n",
        "\n",
        "\n",
        "*   Strides das Conv2D pus o default (1,1) (acho que isto já era suposto ser o default)\n",
        "*   Dropout de 0.7 -> 0.5\n",
        "\n"
      ]
    },
    {
      "cell_type": "code",
      "execution_count": null,
      "metadata": {
        "id": "OltFsau_Jmv7"
      },
      "outputs": [],
      "source": [
        "# define model\n",
        "model = Sequential()\n",
        "# model.add(InputLayer(input_shape=(width, height, channels)))\n",
        "\n",
        "model.add(Conv2D(16, (1, 1), activation='relu', input_shape=(width, height, channels)))\n",
        "model.add(MaxPooling2D((2, 2)))\n",
        "model.add(Conv2D(32, (1, 1), activation='relu'))\n",
        "model.add(MaxPooling2D((2, 2)))\n",
        "model.add(Conv2D(64, (1, 1), activation='relu'))\n",
        "\n",
        "model.add(Flatten())\n",
        "\n",
        "model.add(Dense(256, activation='relu'))\n",
        "model.add(Dropout(0.5)) #Aumentar depois maybe o dropout\n",
        "model.add(Dense(128, activation='relu'))\n",
        "model.add(Dropout(0.5))\n",
        "model.add(Dense(n_classes, activation='softmax'))\n",
        "\n",
        "# early stopping\n",
        "callback = EarlyStopping(monitor='loss')\n",
        "# compile model\n",
        "opt = keras.optimizers.Adam(learning_rate=0.0001)\n",
        "\n",
        "model.compile(optimizer=opt, loss='sparse_categorical_crossentropy', metrics=['accuracy'])\n",
        "# fit model with generator\n",
        "history = model.fit(train_iterator, steps_per_epoch=len(train_iterator), epochs=100)"
      ]
    },
    {
      "cell_type": "code",
      "execution_count": null,
      "metadata": {
        "id": "Wr50vZdSJtPP"
      },
      "outputs": [],
      "source": [
        "# evaluate model\n",
        "print('Test accuracy:')\n",
        "_, acc = model.evaluate(test_iterator, steps=len(test_iterator))\n",
        "print('Test Accuracy: %.3f' % (acc * 100))"
      ]
    },
    {
      "cell_type": "code",
      "execution_count": null,
      "metadata": {
        "id": "_61wkrKZKkgV"
      },
      "outputs": [],
      "source": [
        "# list all data in history\n",
        "print(history.history.keys())\n",
        "# summarize history for accuracy\n",
        "plt.plot(history.history['accuracy'])\n",
        "plt.title('model accuracy')\n",
        "plt.ylabel('accuracy')\n",
        "plt.xlabel('epoch')\n",
        "plt.legend(['train', 'test'], loc='upper left')\n",
        "plt.show()\n",
        "# summarize history for loss\n",
        "plt.plot(history.history['loss'])\n",
        "plt.title('model loss')\n",
        "plt.ylabel('loss')\n",
        "plt.xlabel('epoch')\n",
        "plt.legend(['train', 'test'], loc='upper left')\n",
        "plt.show()"
      ]
    }
  ]
}