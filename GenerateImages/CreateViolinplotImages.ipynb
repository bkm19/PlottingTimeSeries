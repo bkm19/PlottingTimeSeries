{
  "cells": [
    {
      "cell_type": "markdown",
      "metadata": {
        "id": "foHf-YKnGQO4"
      },
      "source": [
        "# Scrip to create violinplot images\n"
      ]
    },
    {
      "cell_type": "markdown",
      "metadata": {
        "id": "7rNXMGV7GVBd"
      },
      "source": [
        "## Imports"
      ]
    },
    {
      "cell_type": "code",
      "execution_count": null,
      "metadata": {
        "id": "s6EvUPKfRnHO"
      },
      "outputs": [],
      "source": [
        "from IPython.display import clear_output\n",
        "!pip install sktime\n",
        "clear_output()"
      ]
    },
    {
      "cell_type": "code",
      "execution_count": null,
      "metadata": {
        "id": "Z4SrxJlTGbj7"
      },
      "outputs": [],
      "source": [
        "import pandas as pd\n",
        "import numpy as np\n",
        "import seaborn as sea\n",
        "import matplotlib.pyplot as plt\n",
        "import matplotlib\n",
        "import os\n",
        "import gc\n",
        "\n",
        "from PIL import Image\n",
        "from sktime.datatypes._panel._convert import from_nested_to_2d_np_array\n",
        "from sktime.datasets import load_from_tsfile_to_dataframe\n"
      ]
    },
    {
      "cell_type": "markdown",
      "metadata": {
        "id": "NI6q1ETnGXBl"
      },
      "source": [
        "## Functions"
      ]
    },
    {
      "cell_type": "code",
      "execution_count": null,
      "metadata": {
        "id": "Gq1ZPiFsGpp9"
      },
      "outputs": [],
      "source": [
        "def imageConfigurationsViolin( color ):\n",
        "\n",
        "  PROPS = {}\n",
        "  rc = {}\n",
        "  flierprops = dict()\n",
        "\n",
        "  ######### Color #########\n",
        "  if color:\n",
        "    PROPS = {\n",
        "        'bodies':{'facecolors':'red'},\n",
        "        'cmeans':{'facecolors':'green'},\n",
        "        'cmins':{'facecolor':'blue'},\n",
        "        'cmaxes':{'edgecolor':'yellow'},\n",
        "        'bodies':{'colors':'red'},\n",
        "        'cbars':{'colors':'green'},\n",
        "        'cmedians':{'colors':'blue'},\n",
        "        'cquantiles':{'colors':'yellow'}\n",
        "\n",
        "    }\n",
        "\n",
        "    rc = {\n",
        "        'axes.facecolor':'black',\n",
        "        'axes.edgecolor':'red',\n",
        "        'figure.facecolor':'black'\n",
        "    }\n",
        "    flierprops = dict(marker='o', markerfacecolor='r', markersize=1,\n",
        "                      linestyle='none', markeredgecolor='r')\n",
        "  ######### Black and white #########\n",
        "  else:   \n",
        "    PROPS= {\n",
        "        'boxprops':{'facecolor':'black', 'edgecolor':'white'},\n",
        "        'medianprops':{'color':'white'},\n",
        "        'whiskerprops':{'color':'white'},\n",
        "        'capprops':{'color':'white'}\n",
        "    }\n",
        "\n",
        "    rc = {\n",
        "        'axes.facecolor':'black',\n",
        "        #'axes.labelcolor':'white',\n",
        "        #'axes.edgecolor':'red',\n",
        "        'figure.facecolor':'black'\n",
        "        \n",
        "        # 'axes.spines.left.color':'white',\n",
        "        # 'axes.spines.right.color':'white',\n",
        "        # 'axes.spines.top.color':'white',\n",
        "        # 'axes.spines.bottom.color':'white'\n",
        "    }\n",
        "\n",
        "    flierprops = dict(marker='o', markerfacecolor='w', markersize=1,\n",
        "                      linestyle='none', markeredgecolor='w')\n",
        "  \n",
        "  return PROPS, rc, flierprops"
      ]
    },
    {
      "cell_type": "code",
      "execution_count": null,
      "metadata": {
        "id": "vEjXFS-s-s_z"
      },
      "outputs": [],
      "source": [
        "def datasetToViolinplot ( \n",
        "    dataset,\n",
        "    name = \"\",\n",
        "    isTrain = False,\n",
        "    path = \"\",\n",
        "    color = False, \n",
        "    pureBlackAndWhite = False, \n",
        "    numberOfViolinplots = 10,\n",
        "    grid = False,\n",
        "    inner = \"box\"\n",
        "  ): \n",
        "\n",
        "  trainOrTest = \"TRAIN\" if isTrain else \"TEST\"\n",
        "\n",
        "  PROPS, rc, flierprops = imageConfigurationsViolin(color)\n",
        "  sea.set_theme(style=\"ticks\", rc=rc)\n",
        "\n",
        "  #Configurations\n",
        "  figF, axF = plt.subplots(figsize=(6,4))\n",
        "\n",
        "  axF.grid(grid)\n",
        "  axF.tick_params(axis='x', colors='1') \n",
        "  axF.tick_params(axis='y', colors='1') \n",
        "  axF.spines['left'].set_color('1')       \n",
        "  axF.spines['right'].set_color('1') \n",
        "  axF.spines['bottom'].set_color('1') \n",
        "  axF.spines['top'].set_color('1') \n",
        "\n",
        "  axF.tick_params(axis='x', labelsize=8)\n",
        "  axF.tick_params(axis='y', labelsize=8)\n",
        "\n",
        "  for count, timeseries in enumerate(dataset):\n",
        "\n",
        "    #Create Series\n",
        "    datasetSeries = pd.Series(\n",
        "      timeseries, \n",
        "      index=pd.timedelta_range(\n",
        "          start=\"00:00:00\", \n",
        "          periods=timeseries.size, \n",
        "          freq=\"S\")\n",
        "      )\n",
        "\n",
        "    indexViolinplot = (datasetSeries.index\n",
        "                                 .round(str(timeseries.size//numberOfViolinplots) + 'S')\n",
        "                                 .total_seconds()\n",
        "                                 .astype(int))\n",
        "\n",
        "    sea.violinplot(x=indexViolinplot, y=datasetSeries, ax=axF, palette=['0'],\n",
        "                   flierprops=flierprops, inner=inner, **PROPS)\n",
        "    \n",
        "    [item.set_edgecolor('1') for item in axF.collections]\n",
        "    [item.set_color('1') for item in axF.lines]\n",
        "    [(item.set_color('0') if type(item) is matplotlib.collections.PathCollection else item) for item in axF.collections]\n",
        "\n",
        "    ############################################# Images\n",
        "    #Create and save images in directory\n",
        "\n",
        "    if not os.path.exists( path + \"/\" + name + \"/\" + trainOrTest ):\n",
        "      os.makedirs( path + \"/\" + name + \"/\" + trainOrTest )\n",
        "\n",
        "    figF.canvas.draw()\n",
        "    img = Image.frombytes('RGB', figF.canvas.get_width_height(), figF.canvas.tostring_rgb())\n",
        "    # img = Image.fromarray((data[:, :, :3] * 255).astype(np.uint8))\n",
        "    img.save(path + \"/\" + \n",
        "                 name + \"/\" + \n",
        "                 trainOrTest + \"/\" +\n",
        "                 name + str(count) +  \".png\")\n",
        "\n",
        "    axF.clear()\n",
        "    plt.close()\n",
        "\n",
        "    del(img)\n",
        "    del(datasetSeries)\n",
        "    del(indexViolinplot)\n",
        "    # del(figF, axF)\n",
        "    gc.collect()\n"
      ]
    },
    {
      "cell_type": "markdown",
      "metadata": {
        "id": "cdskb34xRDpv"
      },
      "source": [
        "## Run code"
      ]
    },
    {
      "cell_type": "markdown",
      "metadata": {
        "id": "8XYvQxV91I75"
      },
      "source": [
        "### Configs"
      ]
    },
    {
      "cell_type": "code",
      "execution_count": null,
      "metadata": {
        "colab": {
          "base_uri": "https://localhost:8080/"
        },
        "id": "jY1TvmGdRJdz",
        "outputId": "7c113088-d529-45bd-e156-a76ff76e36f2"
      },
      "outputs": [
        {
          "output_type": "stream",
          "name": "stdout",
          "text": [
            "Mounted at /content/drive\n"
          ]
        }
      ],
      "source": [
        "from google.colab import drive\n",
        "# drive.flush_and_unmount()\n",
        "drive.mount('/content/drive')"
      ]
    },
    {
      "cell_type": "code",
      "execution_count": null,
      "metadata": {
        "id": "DJ6g7mV3RLaT"
      },
      "outputs": [],
      "source": [
        "DATA_SET_NAMES = [\n",
        "\"ACSF1\",\n",
        "\"Adiac\",\n",
        "\"ArrowHead\",\n",
        "\"Beef\",\n",
        "\"BeetleFly\",\n",
        "\"BirdChicken\",\n",
        "\"BME\",\n",
        "\"Car\",\n",
        "\"CBF\",\n",
        "\"Chinatown\",\n",
        "\"ChlorineConcentration\",\n",
        "\"CinCECGTorso\",\n",
        "\"Coffee\",\n",
        "\"Computers\",\n",
        "\"Crop\",\n",
        "\"DiatomSizeReduction\",\n",
        "\"DistalPhalanxOutlineAgeGroup\",\n",
        "\"DistalPhalanxOutlineCorrect\",\n",
        "\"DistalPhalanxTW\",\n",
        "\"Earthquakes\",\n",
        "\"ECG200\",\n",
        "\"ECG5000\",\n",
        "\"ECGFiveDays\",\n",
        "\"ElectricDevices\",\n",
        "\"EthanolLevel\",\n",
        "\"FaceAll\",\n",
        "\"FaceFour\",\n",
        "\"FacesUCR\",\n",
        "\"FiftyWords\",\n",
        "\"Fish\",\n",
        "\"FordA\",\n",
        "\"FordB\",\n",
        "\"FreezerRegularTrain\",\n",
        "\"FreezerSmallTrain\",\n",
        "\"GunPoint\",\n",
        "\"GunPointAgeSpan\",\n",
        "\"GunPointMaleVersusFemale\",\n",
        "\"GunPointOldVersusYoung\",\n",
        "\"Ham\",\n",
        "\"Haptics\",\n",
        "\"Herring\",\n",
        "\"HouseTwenty\",\n",
        "\"InlineSkate\",\n",
        "\"InsectEPGRegularTrain\",\n",
        "\"InsectEPGSmallTrain\",\n",
        "\"ItalyPowerDemand\",\n",
        "\"LargeKitchenAppliances\",\n",
        "\"Lightning2\",\n",
        "\"Lightning7\",\n",
        "\"Mallat\",\n",
        "\"Meat\",\n",
        "\"MedicalImages\",\n",
        "\"MiddlePhalanxOutlineAgeGroup\",\n",
        "\"MiddlePhalanxOutlineCorrect\",\n",
        "\"MiddlePhalanxTW\",\n",
        "\"MixedShapesRegularTrain\",\n",
        "\"MixedShapesSmallTrain\",\n",
        "\"MoteStrain\",\n",
        "\"OliveOil\",\n",
        "\"OSULeaf\",\n",
        "\"PhalangesOutlinesCorrect\",\n",
        "\"Phoneme\",\n",
        "\"PigAirwayPressure\",\n",
        "\"PigArtPressure\",\n",
        "\"PigCVP\",\n",
        "\"Plane\",\n",
        "\"ProximalPhalanxOutlineAgeGroup\",\n",
        "\"ProximalPhalanxOutlineCorrect\",\n",
        "\"ProximalPhalanxTW\",\n",
        "\"RefrigerationDevices\", #Optional\n",
        "\"Rock\",\n",
        "\"ScreenType\",\n",
        "\"SemgHandGenderCh2\",\n",
        "\"SemgHandMovementCh2\",\n",
        "\"SemgHandSubjectCh2\",\n",
        "\"ShapeletSim\",\n",
        "\"ShapesAll\",\n",
        "\"SmallKitchenAppliances\",\n",
        "\"SmoothSubspace\",\n",
        "\"SonyAIBORobotSurface1\",\n",
        "\"SonyAIBORobotSurface2\",\n",
        "\"StarLightCurves\",\n",
        "\"Strawberry\",\n",
        "\"SwedishLeaf\",\n",
        "\"Symbols\",\n",
        "\"SyntheticControl\",\n",
        "\"ToeSegmentation1\",\n",
        "\"ToeSegmentation2\",\n",
        "\"Trace\",\n",
        "\"TwoLeadECG\",\n",
        "\"TwoPatterns\",\n",
        "\"UMD\",\n",
        "\"UWaveGestureLibraryAll\",\n",
        "\"Wafer\",\n",
        "\"Wine\",\n",
        "\"WordSynonyms\",\n",
        "\"Worms\",\n",
        "\"WormsTwoClass\",\n",
        "\"Yoga\"]"
      ]
    },
    {
      "cell_type": "code",
      "execution_count": null,
      "metadata": {
        "colab": {
          "base_uri": "https://localhost:8080/"
        },
        "id": "8ktgKArfr4CG",
        "outputId": "7059dcc3-47bb-44a3-c4ef-e585db8265cb"
      },
      "outputs": [
        {
          "output_type": "stream",
          "name": "stdout",
          "text": [
            "99\n"
          ]
        },
        {
          "output_type": "execute_result",
          "data": {
            "text/plain": [
              "93"
            ]
          },
          "metadata": {},
          "execution_count": 10
        }
      ],
      "source": [
        "print(len(DATA_SET_NAMES))\n",
        "DATA_SET_NAMES.index(\"Wafer\")"
      ]
    },
    {
      "cell_type": "markdown",
      "metadata": {
        "id": "fImhEZf_1L8l"
      },
      "source": [
        "### Script"
      ]
    },
    {
      "cell_type": "code",
      "execution_count": null,
      "metadata": {
        "colab": {
          "base_uri": "https://localhost:8080/"
        },
        "id": "DU5kVv8BGauM",
        "outputId": "eda1aade-1aa2-474f-89dc-fba325e098bd"
      },
      "outputs": [
        {
          "output_type": "stream",
          "name": "stdout",
          "text": [
            "Using:  Wafer\n",
            "Using:  Wine\n",
            "Using:  WordSynonyms\n",
            "Using:  Worms\n",
            "Using:  WormsTwoClass\n",
            "Using:  Yoga\n"
          ]
        }
      ],
      "source": [
        "numberOfViolinplots = 20\n",
        "\n",
        "path = \"/content/drive/MyDrive/Tese/Violinplots/Imagens/\" + str(numberOfViolinplots) + \"_violinplots_box\"\n",
        "# path = \"/content/drive/MyDrive/Tese/Boxplots/Imagens/test\"\n",
        "isTrain = False\n",
        "pureBlackAndWhite = False \n",
        "grid = False\n",
        "\n",
        "#Specify if what you want inside the violinPlot\n",
        "#inner = None\n",
        "inner = \"box\"\n",
        "\n",
        "#If the program failed in a specific dataset, you can [DATASET_INDEX:] on front of DATA_SET_NAMES to recap\n",
        "for name in DATA_SET_NAMES:\n",
        "  dataSet = name\n",
        "  print(\"Using: \", dataSet)\n",
        "  train_x, train_y = load_from_tsfile_to_dataframe(\"drive/MyDrive/Tese/Univariate_ts/\" + dataSet + \"/\" + dataSet + \"_TRAIN.ts\")\n",
        "  test_x, test_y = load_from_tsfile_to_dataframe(\"drive/MyDrive/Tese/Univariate_ts/\" + dataSet + \"/\" + dataSet + \"_TEST.ts\")\n",
        "  train_x = from_nested_to_2d_np_array(train_x)\n",
        "  test_x = from_nested_to_2d_np_array(test_x)\n",
        "\n",
        "  train_x = datasetToViolinplot(train_x, \n",
        "                             name = dataSet,\n",
        "                             isTrain = True, \n",
        "                             path = path,\n",
        "                             numberOfViolinplots = numberOfViolinplots, \n",
        "                             grid = grid,\n",
        "                             inner = inner)\n",
        "\n",
        "  test_x = datasetToViolinplot(test_x, \n",
        "                            name = dataSet,\n",
        "                            isTrain = False, \n",
        "                            path = path,\n",
        "                            numberOfViolinplots = numberOfViolinplots,\n",
        "                            grid = grid,\n",
        "                            inner = inner)\n",
        "\n",
        "  ################### RESET TO IMPROVE RAM ################################\n",
        "  del(dataSet)\n",
        "  del(train_x, train_y)\n",
        "  del(test_x, test_y)\n",
        "  gc.collect()\n",
        "  #########################################################################"
      ]
    },
    {
      "cell_type": "markdown",
      "source": [
        "In order to make google colab excced time limits"
      ],
      "metadata": {
        "id": "BBsfUKFNwCxy"
      }
    },
    {
      "cell_type": "code",
      "execution_count": null,
      "metadata": {
        "id": "9yScbNIEo_Lj"
      },
      "outputs": [],
      "source": [
        "while True:pass"
      ]
    },
    {
      "cell_type": "markdown",
      "metadata": {
        "id": "kqSpy_ZBWQsO"
      },
      "source": [
        "ANALYZE: SmoothSubspace with 20 boxplots gave some erros \"dividing by 0\"\n",
        "\n",
        "\n",
        "```\n",
        "/usr/local/lib/python3.7/dist-packages/pandas/core/arrays/datetimelike.py:1698: RuntimeWarning: divide by zero encountered in divmod\n",
        "  result_i8 = round_nsint64(values, mode, nanos)\n",
        "```\n",
        "\n"
      ]
    },
    {
      "cell_type": "markdown",
      "metadata": {
        "id": "Os4WrbuG4yfG"
      },
      "source": [
        "ANALYZE: Chinatown with 50 boxplots gave some erros \"dividing by 0\""
      ]
    },
    {
      "cell_type": "markdown",
      "metadata": {
        "id": "RinSoyHf4vlj"
      },
      "source": [
        "\n",
        "\n",
        "```\n",
        "/usr/local/lib/python3.7/dist-packages/pandas/core/arrays/datetimelike.py:1698: RuntimeWarning: divide by zero encountered in divmod\n",
        "  result_i8 = round_nsint64(values, mode, nanos)\n",
        "```\n",
        "\n",
        "\n"
      ]
    }
  ],
  "metadata": {
    "colab": {
      "collapsed_sections": [
        "7rNXMGV7GVBd",
        "NI6q1ETnGXBl"
      ],
      "provenance": []
    },
    "kernelspec": {
      "display_name": "Python 3",
      "name": "python3"
    },
    "language_info": {
      "name": "python"
    }
  },
  "nbformat": 4,
  "nbformat_minor": 0
}