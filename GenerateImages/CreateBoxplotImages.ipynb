{
  "cells": [
    {
      "cell_type": "markdown",
      "metadata": {
        "id": "foHf-YKnGQO4"
      },
      "source": [
        "# Scrip to create boxplot images\n"
      ]
    },
    {
      "cell_type": "markdown",
      "metadata": {
        "id": "7rNXMGV7GVBd"
      },
      "source": [
        "## Imports"
      ]
    },
    {
      "cell_type": "code",
      "execution_count": null,
      "metadata": {
        "id": "s6EvUPKfRnHO"
      },
      "outputs": [],
      "source": [
        "from IPython.display import clear_output\n",
        "!pip install sktime\n",
        "clear_output()"
      ]
    },
    {
      "cell_type": "code",
      "execution_count": null,
      "metadata": {
        "id": "Z4SrxJlTGbj7"
      },
      "outputs": [],
      "source": [
        "import pandas as pd\n",
        "import numpy as np\n",
        "import seaborn as sea\n",
        "import matplotlib.pyplot as plt\n",
        "import os\n",
        "import gc\n",
        "\n",
        "from PIL import Image\n",
        "from sktime.datatypes._panel._convert import from_nested_to_2d_np_array\n",
        "from sktime.datasets import load_from_tsfile_to_dataframe\n"
      ]
    },
    {
      "cell_type": "markdown",
      "metadata": {
        "id": "NI6q1ETnGXBl"
      },
      "source": [
        "## Functions"
      ]
    },
    {
      "cell_type": "code",
      "execution_count": null,
      "metadata": {
        "id": "Gq1ZPiFsGpp9"
      },
      "outputs": [],
      "source": [
        "def imageConfigurations( color ):\n",
        "\n",
        "  PROPS = {}\n",
        "  rc = {}\n",
        "  flierprops = dict()\n",
        "\n",
        "  ######### Color #########\n",
        "  if color:\n",
        "    PROPS = {\n",
        "        'boxprops':{'facecolor':'black', 'edgecolor':'red'},\n",
        "        'medianprops':{'color':'green'},\n",
        "        'whiskerprops':{'color':'blue'},\n",
        "        'capprops':{'color':'yellow'}\n",
        "    }\n",
        "\n",
        "    rc = {\n",
        "        'axes.facecolor':'black',\n",
        "        'figure.facecolor':'black'\n",
        "    }\n",
        "    flierprops = dict(marker='o', markerfacecolor='r', markersize=1,\n",
        "                      linestyle='none', markeredgecolor='r')\n",
        "  ######### Black and white #########\n",
        "  else:   \n",
        "    PROPS= {\n",
        "        'boxprops':{'facecolor':'black', 'edgecolor':'white'},\n",
        "        'medianprops':{'color':'white'},\n",
        "        'whiskerprops':{'color':'white'},\n",
        "        'capprops':{'color':'white'}\n",
        "    }\n",
        "\n",
        "    rc = {\n",
        "        'axes.facecolor':'black',\n",
        "        'figure.facecolor':'black'\n",
        "    }\n",
        "\n",
        "    flierprops = dict(marker='o', markerfacecolor='w', markersize=1,\n",
        "                      linestyle='none', markeredgecolor='w')\n",
        "  \n",
        "  return PROPS, rc, flierprops"
      ]
    },
    {
      "cell_type": "code",
      "execution_count": null,
      "metadata": {
        "id": "3vmjIYxoGF48"
      },
      "outputs": [],
      "source": [
        "def datasetToBoxplot ( \n",
        "    dataset,\n",
        "    name = \"\",\n",
        "    isTrain = False,\n",
        "    path = \"\",\n",
        "    color = False, \n",
        "    pureBlackAndWhite = False, \n",
        "    numberOfBoxplots = 10,\n",
        "    grid = False\n",
        "  ): \n",
        "\n",
        "  trainOrTest = \"TRAIN\" if isTrain else \"TEST\"\n",
        "\n",
        "  PROPS, rc, flierprops = imageConfigurations(color)\n",
        "  sea.set_theme(style=\"ticks\", rc=rc)\n",
        "\n",
        "  for count, timeseries in enumerate(dataset):\n",
        "\n",
        "    #Create Series\n",
        "    datasetSeries = pd.Series(\n",
        "      timeseries, \n",
        "      index=pd.timedelta_range(\n",
        "          start=\"00:00:00\", \n",
        "          periods=timeseries.size, \n",
        "          freq=\"S\")\n",
        "      )\n",
        "\n",
        "    indexBoxplot = (datasetSeries.index\n",
        "                                 .round(str(timeseries.size//numberOfBoxplots) + 'S')\n",
        "                                 .total_seconds()\n",
        "                                 .astype(int))\n",
        "\n",
        "    #Configurations\n",
        "    figF, axF = plt.subplots(figsize=(6,4))\n",
        " \n",
        "    axF.grid(grid)\n",
        "    axF.tick_params(axis='x', colors='1') \n",
        "    axF.tick_params(axis='y', colors='1') \n",
        "    axF.spines['left'].set_color('1')       \n",
        "    axF.spines['right'].set_color('1') \n",
        "    axF.spines['bottom'].set_color('1') \n",
        "    axF.spines['top'].set_color('1') \n",
        "\n",
        "    axF.tick_params(axis='x', labelsize=8)\n",
        "    axF.tick_params(axis='y', labelsize=8)\n",
        "\n",
        "    sea.boxplot(x=indexBoxplot, y=datasetSeries, ax=axF, linewidth='1', flierprops=flierprops, **PROPS)\n",
        "\n",
        "    ############################################# Images\n",
        "    #Create and save images in directory\n",
        "\n",
        "    if not os.path.exists( path + \"/\" + name + \"/\" + trainOrTest ):\n",
        "      os.makedirs( path + \"/\" + name + \"/\" + trainOrTest )\n",
        "\n",
        "    figF.canvas.draw()\n",
        "    img = Image.frombytes('RGB', figF.canvas.get_width_height(), figF.canvas.tostring_rgb())\n",
        "    # img = Image.fromarray((data[:, :, :3] * 255).astype(np.uint8))\n",
        "    img.save(path + \"/\" + \n",
        "                 name + \"/\" + \n",
        "                 trainOrTest + \"/\" +\n",
        "                 name + str(count) +  \".png\")\n",
        "\n",
        "\n",
        "    # plt.savefig(path + \"/\" + \n",
        "    #             name + \"/\" + \n",
        "    #             trainOrTest + \"/\" +\n",
        "    #             name + str(count) +  \".png\")\n",
        "    plt.close()\n",
        "\n",
        "    del(img)\n",
        "    del(datasetSeries)\n",
        "    del(indexBoxplot)\n",
        "    del(figF, axF)\n",
        "    gc.collect()\n",
        "\n"
      ]
    },
    {
      "cell_type": "code",
      "execution_count": null,
      "metadata": {
        "id": "vEjXFS-s-s_z"
      },
      "outputs": [],
      "source": [
        "def datasetToBoxplotImproved ( \n",
        "    dataset,\n",
        "    name = \"\",\n",
        "    isTrain = False,\n",
        "    path = \"\",\n",
        "    color = False, \n",
        "    pureBlackAndWhite = False, \n",
        "    numberOfBoxplots = 10,\n",
        "    grid = False,\n",
        "    showFliers = True\n",
        "  ): \n",
        "\n",
        "  trainOrTest = \"TRAIN\" if isTrain else \"TEST\"\n",
        "\n",
        "  PROPS, rc, flierprops = imageConfigurations(color)\n",
        "  sea.set_theme(style=\"ticks\", rc=rc)\n",
        "\n",
        "  #Configurations\n",
        "  figF, axF = plt.subplots(figsize=(6,4))\n",
        "\n",
        "  axF.grid(grid)\n",
        "  axF.tick_params(axis='x', colors='1') \n",
        "  axF.tick_params(axis='y', colors='1') \n",
        "  axF.spines['left'].set_color('1')       \n",
        "  axF.spines['right'].set_color('1') \n",
        "  axF.spines['bottom'].set_color('1') \n",
        "  axF.spines['top'].set_color('1') \n",
        "\n",
        "  axF.tick_params(axis='x', labelsize=8)\n",
        "  axF.tick_params(axis='y', labelsize=8)\n",
        "\n",
        "  for count, timeseries in enumerate(dataset):\n",
        "\n",
        "    #Create Series\n",
        "    datasetSeries = pd.Series(\n",
        "      timeseries, \n",
        "      index=pd.timedelta_range(\n",
        "          start=\"00:00:00\", \n",
        "          periods=timeseries.size, \n",
        "          freq=\"S\")\n",
        "      )\n",
        "\n",
        "    indexBoxplot = (datasetSeries.index\n",
        "                                 .round(str(timeseries.size//numberOfBoxplots) + 'S')\n",
        "                                 .total_seconds()\n",
        "                                 .astype(int))\n",
        "\n",
        "    sea.boxplot(x=indexBoxplot, y=datasetSeries, ax=axF, linewidth='1', \n",
        "                showfliers=showFliers, flierprops=flierprops, **PROPS)\n",
        "\n",
        "    ############################################# Images\n",
        "    #Create and save images in directory\n",
        "\n",
        "    if not os.path.exists( path + \"/\" + name + \"/\" + trainOrTest ):\n",
        "      os.makedirs( path + \"/\" + name + \"/\" + trainOrTest )\n",
        "\n",
        "    figF.canvas.draw()\n",
        "    img = Image.frombytes('RGB', figF.canvas.get_width_height(), figF.canvas.tostring_rgb())\n",
        "    # img = Image.fromarray((data[:, :, :3] * 255).astype(np.uint8))\n",
        "    img.save(path + \"/\" + \n",
        "                 name + \"/\" + \n",
        "                 trainOrTest + \"/\" +\n",
        "                 name + str(count) +  \".png\")\n",
        "\n",
        "    axF.clear()\n",
        "    plt.close()\n",
        "\n",
        "    del(img)\n",
        "    del(datasetSeries)\n",
        "    del(indexBoxplot)\n",
        "    # del(figF, axF)\n",
        "    gc.collect()\n"
      ]
    },
    {
      "cell_type": "markdown",
      "metadata": {
        "id": "cdskb34xRDpv"
      },
      "source": [
        "## Run code"
      ]
    },
    {
      "cell_type": "markdown",
      "metadata": {
        "id": "8XYvQxV91I75"
      },
      "source": [
        "### Configs"
      ]
    },
    {
      "cell_type": "code",
      "execution_count": null,
      "metadata": {
        "colab": {
          "base_uri": "https://localhost:8080/"
        },
        "id": "jY1TvmGdRJdz",
        "outputId": "7e06d7f4-6bf4-40e5-ec47-cf4e299f9a44"
      },
      "outputs": [
        {
          "output_type": "stream",
          "name": "stdout",
          "text": [
            "Mounted at /content/drive\n"
          ]
        }
      ],
      "source": [
        "from google.colab import drive\n",
        "# drive.flush_and_unmount()\n",
        "drive.mount('/content/drive')"
      ]
    },
    {
      "cell_type": "code",
      "execution_count": null,
      "metadata": {
        "id": "DJ6g7mV3RLaT"
      },
      "outputs": [],
      "source": [
        "DATA_SET_NAMES = [\n",
        "\"ACSF1\",\n",
        "\"Adiac\",\n",
        "\"ArrowHead\",\n",
        "\"Beef\",\n",
        "\"BeetleFly\",\n",
        "\"BirdChicken\",\n",
        "\"BME\",\n",
        "\"Car\",\n",
        "\"CBF\",\n",
        "\"Chinatown\",\n",
        "\"ChlorineConcentration\",\n",
        "\"CinCECGTorso\",\n",
        "\"Coffee\",\n",
        "\"Computers\",\n",
        "\"Crop\",\n",
        "\"DiatomSizeReduction\",\n",
        "\"DistalPhalanxOutlineAgeGroup\",\n",
        "\"DistalPhalanxOutlineCorrect\",\n",
        "\"DistalPhalanxTW\",\n",
        "\"Earthquakes\",\n",
        "\"ECG200\",\n",
        "\"ECG5000\",\n",
        "\"ECGFiveDays\",\n",
        "\"ElectricDevices\",\n",
        "\"EthanolLevel\",\n",
        "\"FaceAll\",\n",
        "\"FaceFour\",\n",
        "\"FacesUCR\",\n",
        "\"FiftyWords\",\n",
        "\"Fish\",\n",
        "\"FordA\",\n",
        "\"FordB\",\n",
        "\"FreezerRegularTrain\",\n",
        "\"FreezerSmallTrain\",\n",
        "\"GunPoint\",\n",
        "\"GunPointAgeSpan\",\n",
        "\"GunPointMaleVersusFemale\",\n",
        "\"GunPointOldVersusYoung\",\n",
        "\"Ham\",\n",
        "\"Haptics\",\n",
        "\"Herring\",\n",
        "\"HouseTwenty\",\n",
        "\"InlineSkate\",\n",
        "\"InsectEPGRegularTrain\",\n",
        "\"InsectEPGSmallTrain\",\n",
        "\"ItalyPowerDemand\",\n",
        "\"LargeKitchenAppliances\",\n",
        "\"Lightning2\",\n",
        "\"Lightning7\",\n",
        "\"Mallat\",\n",
        "\"Meat\",\n",
        "\"MedicalImages\",\n",
        "\"MiddlePhalanxOutlineAgeGroup\",\n",
        "\"MiddlePhalanxOutlineCorrect\",\n",
        "\"MiddlePhalanxTW\",\n",
        "\"MixedShapesRegularTrain\",\n",
        "\"MixedShapesSmallTrain\",\n",
        "\"MoteStrain\",\n",
        "\"OliveOil\",\n",
        "\"OSULeaf\",\n",
        "\"PhalangesOutlinesCorrect\",\n",
        "\"Phoneme\",\n",
        "\"PigAirwayPressure\",\n",
        "\"PigArtPressure\",\n",
        "\"PigCVP\",\n",
        "\"Plane\",\n",
        "\"ProximalPhalanxOutlineAgeGroup\",\n",
        "\"ProximalPhalanxOutlineCorrect\",\n",
        "\"ProximalPhalanxTW\",\n",
        "\"RefrigerationDevices\", #Optional\n",
        "\"Rock\",\n",
        "\"ScreenType\",\n",
        "\"SemgHandGenderCh2\",\n",
        "\"SemgHandMovementCh2\",\n",
        "\"SemgHandSubjectCh2\",\n",
        "\"ShapeletSim\",\n",
        "\"ShapesAll\",\n",
        "\"SmallKitchenAppliances\",\n",
        "\"SmoothSubspace\",\n",
        "\"SonyAIBORobotSurface1\",\n",
        "\"SonyAIBORobotSurface2\",\n",
        "\"StarLightCurves\",\n",
        "\"Strawberry\",\n",
        "\"SwedishLeaf\",\n",
        "\"Symbols\",\n",
        "\"SyntheticControl\",\n",
        "\"ToeSegmentation1\",\n",
        "\"ToeSegmentation2\",\n",
        "\"Trace\",\n",
        "\"TwoLeadECG\",\n",
        "\"TwoPatterns\",\n",
        "\"UMD\",\n",
        "\"UWaveGestureLibraryAll\",\n",
        "\"Wafer\",\n",
        "\"Wine\",\n",
        "\"WordSynonyms\",\n",
        "\"Worms\",\n",
        "\"WormsTwoClass\",\n",
        "\"Yoga\"]"
      ]
    },
    {
      "cell_type": "code",
      "execution_count": null,
      "metadata": {
        "colab": {
          "base_uri": "https://localhost:8080/"
        },
        "id": "8ktgKArfr4CG",
        "outputId": "5b102fb0-e83a-4e07-a889-88e9d26b0644"
      },
      "outputs": [
        {
          "output_type": "stream",
          "name": "stdout",
          "text": [
            "99\n"
          ]
        },
        {
          "output_type": "execute_result",
          "data": {
            "text/plain": [
              "56"
            ]
          },
          "metadata": {},
          "execution_count": 8
        }
      ],
      "source": [
        "print(len(DATA_SET_NAMES))\n",
        "DATA_SET_NAMES.index(\"MixedShapesSmallTrain\")"
      ]
    },
    {
      "cell_type": "markdown",
      "metadata": {
        "id": "fImhEZf_1L8l"
      },
      "source": [
        "### Script"
      ]
    },
    {
      "cell_type": "code",
      "execution_count": null,
      "metadata": {
        "colab": {
          "base_uri": "https://localhost:8080/"
        },
        "id": "DU5kVv8BGauM",
        "outputId": "cde3aac5-0c9d-491f-f5ef-69ad0eca5a17"
      },
      "outputs": [
        {
          "output_type": "stream",
          "name": "stdout",
          "text": [
            "Using:  MixedShapesSmallTrain\n",
            "Using:  MoteStrain\n",
            "Using:  OliveOil\n",
            "Using:  OSULeaf\n",
            "Using:  PhalangesOutlinesCorrect\n",
            "Using:  Phoneme\n",
            "Using:  PigAirwayPressure\n",
            "Using:  PigArtPressure\n",
            "Using:  PigCVP\n",
            "Using:  Plane\n",
            "Using:  ProximalPhalanxOutlineAgeGroup\n",
            "Using:  ProximalPhalanxOutlineCorrect\n",
            "Using:  ProximalPhalanxTW\n",
            "Using:  RefrigerationDevices\n",
            "Using:  Rock\n",
            "Using:  ScreenType\n",
            "Using:  SemgHandGenderCh2\n",
            "Using:  SemgHandMovementCh2\n",
            "Using:  SemgHandSubjectCh2\n",
            "Using:  ShapeletSim\n",
            "Using:  ShapesAll\n",
            "Using:  SmallKitchenAppliances\n",
            "Using:  SmoothSubspace\n",
            "Using:  SonyAIBORobotSurface1\n",
            "Using:  SonyAIBORobotSurface2\n",
            "Using:  StarLightCurves\n",
            "Using:  Strawberry\n",
            "Using:  SwedishLeaf\n",
            "Using:  Symbols\n",
            "Using:  SyntheticControl\n",
            "Using:  ToeSegmentation1\n",
            "Using:  ToeSegmentation2\n",
            "Using:  Trace\n",
            "Using:  TwoLeadECG\n",
            "Using:  TwoPatterns\n",
            "Using:  UMD\n",
            "Using:  UWaveGestureLibraryAll\n",
            "Using:  Wafer\n",
            "Using:  Wine\n",
            "Using:  WordSynonyms\n",
            "Using:  Worms\n",
            "Using:  WormsTwoClass\n",
            "Using:  Yoga\n"
          ]
        }
      ],
      "source": [
        "# path = \"/content/drive/MyDrive/Tese/Boxplots/Imagens/5_boxplots_no_fliers\" \n",
        "# path = \"/content/drive/MyDrive/Tese/Boxplots/Imagens/test\"\n",
        "\n",
        "numberOfBoxplots = 12\n",
        "\n",
        "path = \"/content/drive/MyDrive/Tese/Boxplots/Imagens/\" + str(numberOfBoxplots) + \"_boxplots_no_fliers\"\n",
        "\n",
        "# path = \"/content/drive/MyDrive/Tese/Boxplots/Imagens/test\"\n",
        "isTrain = False\n",
        "pureBlackAndWhite = False \n",
        "grid = False\n",
        "showFliers = True\n",
        "\n",
        "#If the program failed in a specific dataset, you can [DATASET_INDEX:] on front of DATA_SET_NAMES to recap\n",
        "for name in DATA_SET_NAMES:\n",
        "  dataSet = name\n",
        "  print(\"Using: \", dataSet)\n",
        "  train_x, train_y = load_from_tsfile_to_dataframe(\"drive/MyDrive/Tese/Univariate_ts/\" + dataSet + \"/\" + dataSet + \"_TRAIN.ts\")\n",
        "  test_x, test_y = load_from_tsfile_to_dataframe(\"drive/MyDrive/Tese/Univariate_ts/\" + dataSet + \"/\" + dataSet + \"_TEST.ts\")\n",
        "  train_x = from_nested_to_2d_np_array(train_x)\n",
        "  test_x = from_nested_to_2d_np_array(test_x)\n",
        "\n",
        "  train_x = datasetToBoxplotImproved(train_x, \n",
        "                             name = dataSet,\n",
        "                             isTrain = True, \n",
        "                             path = path,\n",
        "                             numberOfBoxplots = numberOfBoxplots, \n",
        "                             grid = grid,\n",
        "                             showFliers = showFliers)\n",
        "\n",
        "  test_x = datasetToBoxplotImproved(test_x, \n",
        "                            name = dataSet,\n",
        "                            isTrain = False, \n",
        "                            path = path,\n",
        "                            numberOfBoxplots = numberOfBoxplots,\n",
        "                            grid = grid,\n",
        "                            showFliers = showFliers)\n",
        "\n",
        "  ################### RESET TO IMPROVE RAM ################################\n",
        "  del(dataSet)\n",
        "  del(train_x, train_y)\n",
        "  del(test_x, test_y)\n",
        "  gc.collect()\n",
        "  #########################################################################"
      ]
    },
    {
      "cell_type": "markdown",
      "metadata": {
        "id": "wI2OmaH0xa54"
      },
      "source": [
        "Alternativas para guardar imagens:\n",
        "- plt.imsave(img, name)\n",
        "- guardar em jpeg? queria evitar\n",
        "- Usar PIL, dizem que é 100x mais rapido: Try making a PIL image object, for me it's more than 100 times faster than matplotlib:\n",
        "\n",
        "\n",
        "```\n",
        "from PIL import Image\n",
        "import numpy as np\n",
        "import matplotlib.pyplot as plt\n",
        "\n",
        "data = np.random.random((100, 100))\n",
        "cm = plt.get_cmap('viridis')\n",
        "img = Image.fromarray((cm(data)[:, :, :3] * 255).astype(np.uint8))\n",
        "img.save('image.png')\n",
        "```\n",
        "If you just want greyscale, you can skip the get_cmap business — just scale your array to the range 0 to 255.\n",
        "\n",
        "The annotations would have to be added in PIL.\n",
        "\n",
        "One important difference from using matplotlib is that it's pixel-for-pixel. So if you want to apply some scaling, you'll have to interpolate first. You could use scipy.ndimage.zoom for that.\n",
        "\n"
      ]
    },
    {
      "cell_type": "markdown",
      "source": [
        "In order to make google colab excced time limits\n"
      ],
      "metadata": {
        "id": "QeayhiHavmVC"
      }
    },
    {
      "cell_type": "code",
      "execution_count": null,
      "metadata": {
        "id": "9yScbNIEo_Lj",
        "colab": {
          "base_uri": "https://localhost:8080/",
          "height": 165
        },
        "outputId": "f81c11e8-3f4c-4aad-dc6f-84c6cf3231ec"
      },
      "outputs": [
        {
          "output_type": "error",
          "ename": "KeyboardInterrupt",
          "evalue": "ignored",
          "traceback": [
            "\u001b[0;31m---------------------------------------------------------------------------\u001b[0m",
            "\u001b[0;31mKeyboardInterrupt\u001b[0m                         Traceback (most recent call last)",
            "\u001b[0;32m<ipython-input-10-534b7a74019f>\u001b[0m in \u001b[0;36m<module>\u001b[0;34m()\u001b[0m\n\u001b[0;32m----> 1\u001b[0;31m \u001b[0;32mwhile\u001b[0m \u001b[0;32mTrue\u001b[0m\u001b[0;34m:\u001b[0m\u001b[0;32mpass\u001b[0m\u001b[0;34m\u001b[0m\u001b[0;34m\u001b[0m\u001b[0m\n\u001b[0m",
            "\u001b[0;31mKeyboardInterrupt\u001b[0m: "
          ]
        }
      ],
      "source": [
        "while True:pass"
      ]
    },
    {
      "cell_type": "markdown",
      "metadata": {
        "id": "tF6QGlAg79vd"
      },
      "source": [
        "- VER SE AS IMAGENS NO TEST estão fixes apesar de mais rapidas. Procurar uma melhor maneira de dar save das imagens.\n",
        "\n",
        "- VER se a ordem das imagens ao dar load, vem na ordem correta"
      ]
    },
    {
      "cell_type": "markdown",
      "metadata": {
        "id": "kqSpy_ZBWQsO"
      },
      "source": [
        "ANALYZE: SmoothSubspace with 20 boxplots gave some erros \"dividing by 0\"\n",
        "\n",
        "\n",
        "```\n",
        "/usr/local/lib/python3.7/dist-packages/pandas/core/arrays/datetimelike.py:1698: RuntimeWarning: divide by zero encountered in divmod\n",
        "  result_i8 = round_nsint64(values, mode, nanos)\n",
        "```\n",
        "\n"
      ]
    },
    {
      "cell_type": "markdown",
      "metadata": {
        "id": "Os4WrbuG4yfG"
      },
      "source": [
        "ANALYZE: Chinatown with 50 boxplots gave some erros \"dividing by 0\""
      ]
    },
    {
      "cell_type": "markdown",
      "metadata": {
        "id": "RinSoyHf4vlj"
      },
      "source": [
        "\n",
        "\n",
        "```\n",
        "/usr/local/lib/python3.7/dist-packages/pandas/core/arrays/datetimelike.py:1698: RuntimeWarning: divide by zero encountered in divmod\n",
        "  result_i8 = round_nsint64(values, mode, nanos)\n",
        "```\n",
        "\n",
        "\n"
      ]
    }
  ],
  "metadata": {
    "colab": {
      "collapsed_sections": [
        "7rNXMGV7GVBd",
        "NI6q1ETnGXBl"
      ],
      "provenance": []
    },
    "kernelspec": {
      "display_name": "Python 3",
      "name": "python3"
    },
    "language_info": {
      "name": "python"
    },
    "accelerator": "TPU"
  },
  "nbformat": 4,
  "nbformat_minor": 0
}